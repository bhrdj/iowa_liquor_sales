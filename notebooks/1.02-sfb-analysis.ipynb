{
 "cells": [
  {
   "cell_type": "markdown",
   "id": "227719a7",
   "metadata": {},
   "source": [
    "# analysis"
   ]
  },
  {
   "cell_type": "code",
   "execution_count": 246,
   "id": "60424b6a",
   "metadata": {
    "code_folding": []
   },
   "outputs": [],
   "source": [
    "# imports and connect to postgresql\n",
    "import os, pandas as pd, psycopg2\n",
    "import matplotlib.pyplot as plt\n",
    "import plotly.express as px\n",
    "import plotly.graph_objects as go\n",
    "from plotly.subplots import make_subplots\n",
    "from jupyter_dash import JupyterDash\n",
    "from dash import dcc\n",
    "from dash import html\n",
    "from dash.dependencies import Input, Output\n",
    "\n",
    "conn = psycopg2.connect(\"dbname=iowaalcohol user=bhrdwj\")\n",
    "cur = conn.cursor()"
   ]
  },
  {
   "cell_type": "markdown",
   "id": "35184508",
   "metadata": {},
   "source": [
    "## eda"
   ]
  },
  {
   "cell_type": "markdown",
   "id": "20b2a493",
   "metadata": {},
   "source": [
    "### Tables overview"
   ]
  },
  {
   "cell_type": "code",
   "execution_count": null,
   "id": "86ab2d83",
   "metadata": {
    "code_folding": [
     0
    ]
   },
   "outputs": [],
   "source": [
    "# List tables in database iowaalcohol\n",
    "pd.read_sql(\"\"\"SELECT table_schema || '.' || table_name\n",
    "    FROM information_schema.tables\n",
    "    WHERE table_type = 'BASE TABLE'\n",
    "    AND table_schema NOT IN ('pg_catalog', 'information_schema');\"\"\", conn)"
   ]
  },
  {
   "cell_type": "code",
   "execution_count": null,
   "id": "ffb4c5ff",
   "metadata": {
    "code_folding": [
     0
    ]
   },
   "outputs": [],
   "source": [
    "# List columns in table iowaalcohol\n",
    "data_types = pd.read_sql(\n",
    "    \"\"\"SELECT column_name, data_type \n",
    "    FROM information_schema.columns\n",
    "    WHERE table_name = 'iowaalcohol';\"\"\", conn)\n",
    "data_types"
   ]
  },
  {
   "cell_type": "code",
   "execution_count": null,
   "id": "69bcca91",
   "metadata": {
    "code_folding": [
     0
    ]
   },
   "outputs": [],
   "source": [
    "# get null_count\n",
    "column_names = data_types.column_name.tolist()\n",
    "query_list = [f\"    COUNT(*)-COUNT({i}) as {i}\" for i in column_names]\n",
    "query_string = ',\\n    '.join(query_list)\n",
    "sql = (f\"\"\"\n",
    "SELECT\n",
    "{query_string}\n",
    "FROM iowaalcohol; \n",
    "\"\"\")\n",
    "\n",
    "null_count = pd.read_sql(sql, conn).T"
   ]
  },
  {
   "cell_type": "code",
   "execution_count": null,
   "id": "17797c7d",
   "metadata": {},
   "outputs": [],
   "source": [
    "null_count"
   ]
  },
  {
   "cell_type": "markdown",
   "id": "425036d2",
   "metadata": {
    "heading_collapsed": true
   },
   "source": [
    "##### Compare revenue and cost per-bottle with \"sales\" per-bottle"
   ]
  },
  {
   "cell_type": "markdown",
   "id": "adc4ea5f",
   "metadata": {
    "hidden": true
   },
   "source": [
    "Confirm that (state_btl_retail * btls_sold) is approximately equal to sale_ttl_usd."
   ]
  },
  {
   "cell_type": "code",
   "execution_count": 249,
   "id": "66af8eb2",
   "metadata": {
    "code_folding": [
     0
    ],
    "hidden": true
   },
   "outputs": [],
   "source": [
    "revenue_by_county = pd.read_sql(\"\"\"\n",
    "    SELECT\n",
    "        county,\n",
    "        SUM(state_btl_retail*btls_sold) retail_rev, \n",
    "        SUM(state_btl_cost*btls_sold) cost_ogs, \n",
    "        SUM(sale_ttl_usd) sale_ttl_usd\n",
    "    FROM iowaalcohol\n",
    "    GROUP BY county\n",
    "    ;\"\"\", conn).set_index('county')"
   ]
  },
  {
   "cell_type": "code",
   "execution_count": null,
   "id": "75759419",
   "metadata": {
    "hidden": true
   },
   "outputs": [],
   "source": [
    "(revenue_by_county//1000000).sort_values('sale_ttl_usd', ascending=False).head(10)"
   ]
  },
  {
   "cell_type": "markdown",
   "id": "7df6a62a",
   "metadata": {
    "hidden": true
   },
   "source": [
    "- Observations:\n",
    "    - (state_btl_retail * btls_sold) largely matches up with sale_ttl_usd\n",
    "    - There are some irregularities in Polk county\n",
    "- Deductions:\n",
    "    - I should use county number instead of county name, and/or lowercase county.\n",
    "    - I should follow up aggregate anomalies like in Polk county to see:\n",
    "        - whether they come from a particular year or region etc.\n",
    "        - why the anomaly shows up with uppercase \"POLK\" more than \"Polk\"\n",
    "    - For now, let's use the cleaned version of county: county_99"
   ]
  },
  {
   "cell_type": "markdown",
   "id": "914a7df0",
   "metadata": {},
   "source": [
    "## Viz"
   ]
  },
  {
   "cell_type": "markdown",
   "id": "d9cfb98c",
   "metadata": {
    "heading_collapsed": true
   },
   "source": [
    "### Revenue by county, Revenue per capita by county"
   ]
  },
  {
   "cell_type": "markdown",
   "id": "e9b4f144",
   "metadata": {
    "heading_collapsed": true,
    "hidden": true
   },
   "source": [
    "###### Check cleaned revenue data "
   ]
  },
  {
   "cell_type": "code",
   "execution_count": 251,
   "id": "9ce3960e",
   "metadata": {
    "code_folding": [
     0
    ],
    "hidden": true
   },
   "outputs": [],
   "source": [
    "revenue_by_county_99 = pd.read_sql(\"\"\"SELECT \n",
    "    county_99,\n",
    "    SUM(state_btl_retail*btls_sold) retail_rev, \n",
    "    SUM(state_btl_cost*btls_sold) cost_ogs, \n",
    "    SUM(sale_ttl_usd) sale_ttl_usd\n",
    "    FROM iowaalcohol\n",
    "    GROUP BY county_99\n",
    "    ;\"\"\", conn).set_index('county_99')"
   ]
  },
  {
   "cell_type": "code",
   "execution_count": null,
   "id": "c1bc9035",
   "metadata": {
    "hidden": true
   },
   "outputs": [],
   "source": [
    "(revenue_by_county_99//1000000).sort_values('sale_ttl_usd', ascending=False).head(3)"
   ]
  },
  {
   "cell_type": "markdown",
   "id": "1dc4f303",
   "metadata": {
    "heading_collapsed": true,
    "hidden": true
   },
   "source": [
    "##### Visualize revenue by county over 5 years"
   ]
  },
  {
   "cell_type": "code",
   "execution_count": 334,
   "id": "9185beac",
   "metadata": {
    "code_folding": [],
    "hidden": true
   },
   "outputs": [],
   "source": [
    "revenue_by_county_year = pd.read_sql(\"\"\"\n",
    "    SELECT \n",
    "        county_99,\n",
    "        DATE_PART('year', date) yeer,\n",
    "        SUM(sale_ttl_usd) revenue\n",
    "    FROM iowaalcohol\n",
    "    GROUP BY county_99, yeer\n",
    "    ORDER BY county_99, yeer\n",
    "    ;\"\"\", conn)\n",
    "\n",
    "rbcy_toplot = (revenue_by_county_year\n",
    "    .set_index(['county_99', 'yeer'])\n",
    "    .unstack(0).droplevel(0,axis=1)\n",
    "    )\n",
    "rbcy_sorted_cols = rbcy_toplot.mean().sort_values(ascending=False).index.tolist()\n",
    "rbcy_toplot = rbcy_toplot.reindex(rbcy_sorted_cols, axis=1)"
   ]
  },
  {
   "cell_type": "code",
   "execution_count": 254,
   "id": "ffcf85a1",
   "metadata": {
    "code_folding": [],
    "hidden": true
   },
   "outputs": [],
   "source": [
    "revenue_unknown_county = pd.read_sql(\"\"\"\n",
    "    SELECT \n",
    "        county_99,\n",
    "        DATE_PART('year', date) yeer,\n",
    "        SUM(sale_ttl_usd) Unknown_County\n",
    "    FROM iowaalcohol\n",
    "    WHERE county_99 = 'UNKNOWN'\n",
    "    GROUP BY yeer, county_99\n",
    "    ORDER BY yeer, county_99\n",
    "    ;\"\"\", conn)"
   ]
  },
  {
   "cell_type": "code",
   "execution_count": 329,
   "id": "b3e50ceb",
   "metadata": {
    "code_folding": [],
    "hidden": true
   },
   "outputs": [
    {
     "data": {
      "image/png": "[encoded data removed]",
      "text/plain": [
       "<Figure size 1080x360 with 3 Axes>"
      ]
     },
     "metadata": {
      "needs_background": "light"
     },
     "output_type": "display_data"
    }
   ],
   "source": [
    "# plot Trends in Statewide Annual Revenue by County\n",
    "fig, (ax0,ax1,ax2) = plt.subplots(1,3, figsize=(15,5))\n",
    "rbcy_toplot.plot(legend=False, ax=ax0)\n",
    "rbcy_toplot.plot(legend=False, ax=ax1)\n",
    "revenue_unknown_county.set_index('yeer').plot(ax=ax2)\n",
    "ax0.set_yscale('log')\n",
    "ax0.set_ylabel('Annual Revenue $USD')\n",
    "ax0.set_title('log scale')\n",
    "ax1.set_title('linear scale')\n",
    "\n",
    "plt.suptitle('Trends in Statewide Annual Revenue by County')\n",
    "plt.show()"
   ]
  },
  {
   "cell_type": "code",
   "execution_count": 354,
   "id": "182fd0b3",
   "metadata": {
    "hidden": true
   },
   "outputs": [
    {
     "data": {
      "text/html": [
       "<div>\n",
       "<style scoped>\n",
       "    .dataframe tbody tr th:only-of-type {\n",
       "        vertical-align: middle;\n",
       "    }\n",
       "\n",
       "    .dataframe tbody tr th {\n",
       "        vertical-align: top;\n",
       "    }\n",
       "\n",
       "    .dataframe thead th {\n",
       "        text-align: right;\n",
       "    }\n",
       "</style>\n",
       "<table border=\"1\" class=\"dataframe\">\n",
       "  <thead>\n",
       "    <tr style=\"text-align: right;\">\n",
       "      <th>county_99</th>\n",
       "      <th>polk</th>\n",
       "      <th>linn</th>\n",
       "      <th>scott</th>\n",
       "      <th>johnson</th>\n",
       "      <th>black hawk</th>\n",
       "      <th>pottawattamie</th>\n",
       "      <th>woodbury</th>\n",
       "      <th>story</th>\n",
       "      <th>dubuque</th>\n",
       "      <th>cerro gordo</th>\n",
       "      <th>...</th>\n",
       "      <th>van buren</th>\n",
       "      <th>decatur</th>\n",
       "      <th>audubon</th>\n",
       "      <th>ringgold</th>\n",
       "      <th>keokuk</th>\n",
       "      <th>taylor</th>\n",
       "      <th>wayne</th>\n",
       "      <th>davis</th>\n",
       "      <th>adams</th>\n",
       "      <th>fremont</th>\n",
       "    </tr>\n",
       "    <tr>\n",
       "      <th>yeer</th>\n",
       "      <th></th>\n",
       "      <th></th>\n",
       "      <th></th>\n",
       "      <th></th>\n",
       "      <th></th>\n",
       "      <th></th>\n",
       "      <th></th>\n",
       "      <th></th>\n",
       "      <th></th>\n",
       "      <th></th>\n",
       "      <th></th>\n",
       "      <th></th>\n",
       "      <th></th>\n",
       "      <th></th>\n",
       "      <th></th>\n",
       "      <th></th>\n",
       "      <th></th>\n",
       "      <th></th>\n",
       "      <th></th>\n",
       "      <th></th>\n",
       "      <th></th>\n",
       "    </tr>\n",
       "  </thead>\n",
       "  <tbody>\n",
       "    <tr>\n",
       "      <th>2012.0</th>\n",
       "      <td>55190112.10</td>\n",
       "      <td>22717019.55</td>\n",
       "      <td>18456818.97</td>\n",
       "      <td>15031775.38</td>\n",
       "      <td>15216821.80</td>\n",
       "      <td>9098306.49</td>\n",
       "      <td>8502715.94</td>\n",
       "      <td>8029406.39</td>\n",
       "      <td>8007198.95</td>\n",
       "      <td>5434307.18</td>\n",
       "      <td>...</td>\n",
       "      <td>189865.97</td>\n",
       "      <td>152663.26</td>\n",
       "      <td>163577.03</td>\n",
       "      <td>130629.48</td>\n",
       "      <td>123192.69</td>\n",
       "      <td>99613.74</td>\n",
       "      <td>161736.16</td>\n",
       "      <td>86467.15</td>\n",
       "      <td>96674.89</td>\n",
       "      <td>18793.59</td>\n",
       "    </tr>\n",
       "    <tr>\n",
       "      <th>2013.0</th>\n",
       "      <td>56057048.32</td>\n",
       "      <td>23224587.71</td>\n",
       "      <td>18384930.01</td>\n",
       "      <td>15266328.93</td>\n",
       "      <td>15107130.74</td>\n",
       "      <td>9138901.33</td>\n",
       "      <td>8720322.41</td>\n",
       "      <td>7910476.99</td>\n",
       "      <td>7850343.32</td>\n",
       "      <td>5329229.12</td>\n",
       "      <td>...</td>\n",
       "      <td>185716.51</td>\n",
       "      <td>168167.12</td>\n",
       "      <td>162023.28</td>\n",
       "      <td>141162.23</td>\n",
       "      <td>142893.28</td>\n",
       "      <td>101833.15</td>\n",
       "      <td>85065.15</td>\n",
       "      <td>93660.91</td>\n",
       "      <td>91286.24</td>\n",
       "      <td>25211.40</td>\n",
       "    </tr>\n",
       "    <tr>\n",
       "      <th>2014.0</th>\n",
       "      <td>59476777.54</td>\n",
       "      <td>23575832.62</td>\n",
       "      <td>19538877.03</td>\n",
       "      <td>16657159.53</td>\n",
       "      <td>15833551.46</td>\n",
       "      <td>9667883.18</td>\n",
       "      <td>9260145.06</td>\n",
       "      <td>8391239.43</td>\n",
       "      <td>8145792.36</td>\n",
       "      <td>5633811.63</td>\n",
       "      <td>...</td>\n",
       "      <td>179516.67</td>\n",
       "      <td>168284.41</td>\n",
       "      <td>168113.60</td>\n",
       "      <td>142328.97</td>\n",
       "      <td>146252.63</td>\n",
       "      <td>98038.53</td>\n",
       "      <td>70010.95</td>\n",
       "      <td>97975.29</td>\n",
       "      <td>90524.22</td>\n",
       "      <td>11229.36</td>\n",
       "    </tr>\n",
       "    <tr>\n",
       "      <th>2015.0</th>\n",
       "      <td>63748122.62</td>\n",
       "      <td>24989946.22</td>\n",
       "      <td>20422368.43</td>\n",
       "      <td>17673297.64</td>\n",
       "      <td>16064552.82</td>\n",
       "      <td>10056843.86</td>\n",
       "      <td>10115238.44</td>\n",
       "      <td>8559325.44</td>\n",
       "      <td>8710159.48</td>\n",
       "      <td>5751979.57</td>\n",
       "      <td>...</td>\n",
       "      <td>174245.69</td>\n",
       "      <td>177470.88</td>\n",
       "      <td>173849.23</td>\n",
       "      <td>138680.81</td>\n",
       "      <td>149560.78</td>\n",
       "      <td>110598.35</td>\n",
       "      <td>105438.35</td>\n",
       "      <td>96185.96</td>\n",
       "      <td>100596.80</td>\n",
       "      <td>24029.55</td>\n",
       "    </tr>\n",
       "    <tr>\n",
       "      <th>2016.0</th>\n",
       "      <td>54529157.43</td>\n",
       "      <td>21088920.22</td>\n",
       "      <td>17052264.43</td>\n",
       "      <td>14255250.59</td>\n",
       "      <td>14023188.91</td>\n",
       "      <td>8448306.95</td>\n",
       "      <td>8324114.76</td>\n",
       "      <td>7553817.91</td>\n",
       "      <td>7365138.72</td>\n",
       "      <td>4995862.39</td>\n",
       "      <td>...</td>\n",
       "      <td>187612.68</td>\n",
       "      <td>149568.89</td>\n",
       "      <td>127859.46</td>\n",
       "      <td>143559.15</td>\n",
       "      <td>93633.41</td>\n",
       "      <td>114145.24</td>\n",
       "      <td>89033.38</td>\n",
       "      <td>93263.14</td>\n",
       "      <td>75070.97</td>\n",
       "      <td>29947.61</td>\n",
       "    </tr>\n",
       "    <tr>\n",
       "      <th>2017.0</th>\n",
       "      <td>31033373.49</td>\n",
       "      <td>12253686.74</td>\n",
       "      <td>9921419.02</td>\n",
       "      <td>8047171.42</td>\n",
       "      <td>8632143.62</td>\n",
       "      <td>5061601.28</td>\n",
       "      <td>5387746.09</td>\n",
       "      <td>4523108.90</td>\n",
       "      <td>4633025.91</td>\n",
       "      <td>3054378.48</td>\n",
       "      <td>...</td>\n",
       "      <td>110732.75</td>\n",
       "      <td>101592.37</td>\n",
       "      <td>60870.62</td>\n",
       "      <td>102887.30</td>\n",
       "      <td>79529.83</td>\n",
       "      <td>59049.25</td>\n",
       "      <td>69905.57</td>\n",
       "      <td>64030.27</td>\n",
       "      <td>44090.55</td>\n",
       "      <td>30747.91</td>\n",
       "    </tr>\n",
       "  </tbody>\n",
       "</table>\n",
       "<p>6 rows × 100 columns</p>\n",
       "</div>"
      ],
      "text/plain": [
       "county_99         polk         linn        scott      johnson   black hawk  \\\n",
       "yeer                                                                         \n",
       "2012.0     55190112.10  22717019.55  18456818.97  15031775.38  15216821.80   \n",
       "2013.0     56057048.32  23224587.71  18384930.01  15266328.93  15107130.74   \n",
       "2014.0     59476777.54  23575832.62  19538877.03  16657159.53  15833551.46   \n",
       "2015.0     63748122.62  24989946.22  20422368.43  17673297.64  16064552.82   \n",
       "2016.0     54529157.43  21088920.22  17052264.43  14255250.59  14023188.91   \n",
       "2017.0     31033373.49  12253686.74   9921419.02   8047171.42   8632143.62   \n",
       "\n",
       "county_99  pottawattamie     woodbury       story     dubuque  cerro gordo  \\\n",
       "yeer                                                                         \n",
       "2012.0        9098306.49   8502715.94  8029406.39  8007198.95   5434307.18   \n",
       "2013.0        9138901.33   8720322.41  7910476.99  7850343.32   5329229.12   \n",
       "2014.0        9667883.18   9260145.06  8391239.43  8145792.36   5633811.63   \n",
       "2015.0       10056843.86  10115238.44  8559325.44  8710159.48   5751979.57   \n",
       "2016.0        8448306.95   8324114.76  7553817.91  7365138.72   4995862.39   \n",
       "2017.0        5061601.28   5387746.09  4523108.90  4633025.91   3054378.48   \n",
       "\n",
       "county_99  ...  van buren    decatur    audubon   ringgold     keokuk  \\\n",
       "yeer       ...                                                          \n",
       "2012.0     ...  189865.97  152663.26  163577.03  130629.48  123192.69   \n",
       "2013.0     ...  185716.51  168167.12  162023.28  141162.23  142893.28   \n",
       "2014.0     ...  179516.67  168284.41  168113.60  142328.97  146252.63   \n",
       "2015.0     ...  174245.69  177470.88  173849.23  138680.81  149560.78   \n",
       "2016.0     ...  187612.68  149568.89  127859.46  143559.15   93633.41   \n",
       "2017.0     ...  110732.75  101592.37   60870.62  102887.30   79529.83   \n",
       "\n",
       "county_99     taylor      wayne     davis      adams   fremont  \n",
       "yeer                                                            \n",
       "2012.0      99613.74  161736.16  86467.15   96674.89  18793.59  \n",
       "2013.0     101833.15   85065.15  93660.91   91286.24  25211.40  \n",
       "2014.0      98038.53   70010.95  97975.29   90524.22  11229.36  \n",
       "2015.0     110598.35  105438.35  96185.96  100596.80  24029.55  \n",
       "2016.0     114145.24   89033.38  93263.14   75070.97  29947.61  \n",
       "2017.0      59049.25   69905.57  64030.27   44090.55  30747.91  \n",
       "\n",
       "[6 rows x 100 columns]"
      ]
     },
     "execution_count": 354,
     "metadata": {},
     "output_type": "execute_result"
    }
   ],
   "source": [
    "rbcy_toplot"
   ]
  },
  {
   "cell_type": "code",
   "execution_count": 362,
   "id": "22d520b7",
   "metadata": {
    "hidden": true
   },
   "outputs": [
    {
     "data": {
      "application/vnd.plotly.v1+json": {
       "config": {
        "plotlyServerURL": "https://plot.ly"
       },
       "data": [
        {
         "hovertemplate": "county_99=polk<br>yeer=%{x}<br>value=%{y}<extra></extra>",
         "legendgroup": "polk",
         "line": {
          "color": "#636efa",
          "dash": "solid"
         },
         "marker": {
          "symbol": "circle"
         },
         "mode": "lines",
         "name": "polk",
         "orientation": "v",
         "showlegend": true,
         "type": "scatter",
         "x": [
          2012,
          2013,
          2014,
          2015,
          2016,
          2017
         ],
         "xaxis": "x",
         "y": [
          55190112.1,
          56057048.32,
          59476777.54,
          63748122.62,
          54529157.43,
          31033373.49
         ],
         "yaxis": "y"
        },
        {
         "hovertemplate": "county_99=linn<br>yeer=%{x}<br>value=%{y}<extra></extra>",
         "legendgroup": "linn",
         "line": {
          "color": "#EF553B",
          "dash": "solid"
         },
         "marker": {
          "symbol": "circle"
         },
         "mode": "lines",
         "name": "linn",
         "orientation": "v",
         "showlegend": true,
         "type": "scatter",
         "x": [
          2012,
          2013,
          2014,
          2015,
          2016,
          2017
         ],
         "xaxis": "x",
         "y": [
          22717019.55,
          23224587.71,
          23575832.62,
          24989946.22,
          21088920.22,
          12253686.74
         ],
         "yaxis": "y"
        },
        {
         "hovertemplate": "county_99=scott<br>yeer=%{x}<br>value=%{y}<extra></extra>",
         "legendgroup": "scott",
         "line": {
          "color": "#00cc96",
          "dash": "solid"
         },
         "marker": {
          "symbol": "circle"
         },
         "mode": "lines",
         "name": "scott",
         "orientation": "v",
         "showlegend": true,
         "type": "scatter",
         "x": [
          2012,
          2013,
          2014,
          2015,
          2016,
          2017
         ],
         "xaxis": "x",
         "y": [
          18456818.97,
          18384930.01,
          19538877.03,
          20422368.43,
          17052264.43,
          9921419.02
         ],
         "yaxis": "y"
        },
        {
         "hovertemplate": "county_99=johnson<br>yeer=%{x}<br>value=%{y}<extra></extra>",
         "legendgroup": "johnson",
         "line": {
          "color": "#ab63fa",
          "dash": "solid"
         },
         "marker": {
          "symbol": "circle"
         },
         "mode": "lines",
         "name": "johnson",
         "orientation": "v",
         "showlegend": true,
         "type": "scatter",
         "x": [
          2012,
          2013,
          2014,
          2015,
          2016,
          2017
         ],
         "xaxis": "x",
         "y": [
          15031775.38,
          15266328.93,
          16657159.53,
          17673297.64,
          14255250.59,
          8047171.42
         ],
         "yaxis": "y"
        },
        {
         "hovertemplate": "county_99=black hawk<br>yeer=%{x}<br>value=%{y}<extra></extra>",
         "legendgroup": "black hawk",
         "line": {
          "color": "#FFA15A",
          "dash": "solid"
         },
         "marker": {
          "symbol": "circle"
         },
         "mode": "lines",
         "name": "black hawk",
         "orientation": "v",
         "showlegend": true,
         "type": "scatter",
         "x": [
          2012,
          2013,
          2014,
          2015,
          2016,
          2017
         ],
         "xaxis": "x",
         "y": [
          15216821.8,
          15107130.74,
          15833551.46,
          16064552.82,
          14023188.91,
          8632143.62
         ],
         "yaxis": "y"
        },
        {
         "hovertemplate": "county_99=pottawattamie<br>yeer=%{x}<br>value=%{y}<extra></extra>",
         "legendgroup": "pottawattamie",
         "line": {
          "color": "#19d3f3",
          "dash": "solid"
         },
         "marker": {
          "symbol": "circle"
         },
         "mode": "lines",
         "name": "pottawattamie",
         "orientation": "v",
         "showlegend": true,
         "type": "scatter",
         "x": [
          2012,
          2013,
          2014,
          2015,
          2016,
          2017
         ],
         "xaxis": "x",
         "y": [
          9098306.49,
          9138901.33,
          9667883.18,
          10056843.86,
          8448306.95,
          5061601.28
         ],
         "yaxis": "y"
        },
        {
         "hovertemplate": "county_99=woodbury<br>yeer=%{x}<br>value=%{y}<extra></extra>",
         "legendgroup": "woodbury",
         "line": {
          "color": "#FF6692",
          "dash": "solid"
         },
         "marker": {
          "symbol": "circle"
         },
         "mode": "lines",
         "name": "woodbury",
         "orientation": "v",
         "showlegend": true,
         "type": "scatter",
         "x": [
          2012,
          2013,
          2014,
          2015,
          2016,
          2017
         ],
         "xaxis": "x",
         "y": [
          8502715.94,
          8720322.41,
          9260145.06,
          10115238.44,
          8324114.76,
          5387746.09
         ],
         "yaxis": "y"
        },
        {
         "hovertemplate": "county_99=story<br>yeer=%{x}<br>value=%{y}<extra></extra>",
         "legendgroup": "story",
         "line": {
          "color": "#B6E880",
          "dash": "solid"
         },
         "marker": {
          "symbol": "circle"
         },
         "mode": "lines",
         "name": "story",
         "orientation": "v",
         "showlegend": true,
         "type": "scatter",
         "x": [
          2012,
          2013,
          2014,
          2015,
          2016,
          2017
         ],
         "xaxis": "x",
         "y": [
          8029406.39,
          7910476.99,
          8391239.43,
          8559325.44,
          7553817.91,
          4523108.9
         ],
         "yaxis": "y"
        },
        {
         "hovertemplate": "county_99=dubuque<br>yeer=%{x}<br>value=%{y}<extra></extra>",
         "legendgroup": "dubuque",
         "line": {
          "color": "#FF97FF",
          "dash": "solid"
         },
         "marker": {
          "symbol": "circle"
         },
         "mode": "lines",
         "name": "dubuque",
         "orientation": "v",
         "showlegend": true,
         "type": "scatter",
         "x": [
          2012,
          2013,
          2014,
          2015,
          2016,
          2017
         ],
         "xaxis": "x",
         "y": [
          8007198.95,
          7850343.32,
          8145792.36,
          8710159.48,
          7365138.72,
          4633025.91
         ],
         "yaxis": "y"
        },
        {
         "hovertemplate": "county_99=cerro gordo<br>yeer=%{x}<br>value=%{y}<extra></extra>",
         "legendgroup": "cerro gordo",
         "line": {
          "color": "#FECB52",
          "dash": "solid"
         },
         "marker": {
          "symbol": "circle"
         },
         "mode": "lines",
         "name": "cerro gordo",
         "orientation": "v",
         "showlegend": true,
         "type": "scatter",
         "x": [
          2012,
          2013,
          2014,
          2015,
          2016,
          2017
         ],
         "xaxis": "x",
         "y": [
          5434307.18,
          5329229.12,
          5633811.63,
          5751979.57,
          4995862.39,
          3054378.48
         ],
         "yaxis": "y"
        },
        {
         "hovertemplate": "county_99=dallas<br>yeer=%{x}<br>value=%{y}<extra></extra>",
         "legendgroup": "dallas",
         "line": {
          "color": "#636efa",
          "dash": "solid"
         },
         "marker": {
          "symbol": "circle"
         },
         "mode": "lines",
         "name": "dallas",
         "orientation": "v",
         "showlegend": true,
         "type": "scatter",
         "x": [
          2012,
          2013,
          2014,
          2015,
          2016,
          2017
         ],
         "xaxis": "x",
         "y": [
          4150888.35,
          4734861.59,
          5827022.8,
          5562538.96,
          4161028.01,
          1590234.88
         ],
         "yaxis": "y"
        },
        {
         "hovertemplate": "county_99=dickinson<br>yeer=%{x}<br>value=%{y}<extra></extra>",
         "legendgroup": "dickinson",
         "line": {
          "color": "#EF553B",
          "dash": "solid"
         },
         "marker": {
          "symbol": "circle"
         },
         "mode": "lines",
         "name": "dickinson",
         "orientation": "v",
         "showlegend": true,
         "type": "scatter",
         "x": [
          2012,
          2013,
          2014,
          2015,
          2016,
          2017
         ],
         "xaxis": "x",
         "y": [
          3710672.72,
          3682930.49,
          3667009.21,
          3967311.85,
          3776698.86,
          2097236.36
         ],
         "yaxis": "y"
        },
        {
         "hovertemplate": "county_99=des moines<br>yeer=%{x}<br>value=%{y}<extra></extra>",
         "legendgroup": "des moines",
         "line": {
          "color": "#00cc96",
          "dash": "solid"
         },
         "marker": {
          "symbol": "circle"
         },
         "mode": "lines",
         "name": "des moines",
         "orientation": "v",
         "showlegend": true,
         "type": "scatter",
         "x": [
          2012,
          2013,
          2014,
          2015,
          2016,
          2017
         ],
         "xaxis": "x",
         "y": [
          3116052.59,
          3107413.21,
          3570182.82,
          3852786.75,
          3413077.38,
          2185138.38
         ],
         "yaxis": "y"
        },
        {
         "hovertemplate": "county_99=clinton<br>yeer=%{x}<br>value=%{y}<extra></extra>",
         "legendgroup": "clinton",
         "line": {
          "color": "#ab63fa",
          "dash": "solid"
         },
         "marker": {
          "symbol": "circle"
         },
         "mode": "lines",
         "name": "clinton",
         "orientation": "v",
         "showlegend": true,
         "type": "scatter",
         "x": [
          2012,
          2013,
          2014,
          2015,
          2016,
          2017
         ],
         "xaxis": "x",
         "y": [
          3286709.16,
          3288669.49,
          3332356.55,
          3401524.7,
          2978299.58,
          2089316.72
         ],
         "yaxis": "y"
        },
        {
         "hovertemplate": "county_99=lee<br>yeer=%{x}<br>value=%{y}<extra></extra>",
         "legendgroup": "lee",
         "line": {
          "color": "#FFA15A",
          "dash": "solid"
         },
         "marker": {
          "symbol": "circle"
         },
         "mode": "lines",
         "name": "lee",
         "orientation": "v",
         "showlegend": true,
         "type": "scatter",
         "x": [
          2012,
          2013,
          2014,
          2015,
          2016,
          2017
         ],
         "xaxis": "x",
         "y": [
          3027583.05,
          2977703.5,
          3399047.77,
          3876840.25,
          3101665.84,
          1790741.14
         ],
         "yaxis": "y"
        },
        {
         "hovertemplate": "county_99=webster<br>yeer=%{x}<br>value=%{y}<extra></extra>",
         "legendgroup": "webster",
         "line": {
          "color": "#19d3f3",
          "dash": "solid"
         },
         "marker": {
          "symbol": "circle"
         },
         "mode": "lines",
         "name": "webster",
         "orientation": "v",
         "showlegend": true,
         "type": "scatter",
         "x": [
          2012,
          2013,
          2014,
          2015,
          2016,
          2017
         ],
         "xaxis": "x",
         "y": [
          2835896.75,
          3085081.36,
          2887574.26,
          3283169.41,
          2942784.53,
          1932832.48
         ],
         "yaxis": "y"
        },
        {
         "hovertemplate": "county_99=muscatine<br>yeer=%{x}<br>value=%{y}<extra></extra>",
         "legendgroup": "muscatine",
         "line": {
          "color": "#FF6692",
          "dash": "solid"
         },
         "marker": {
          "symbol": "circle"
         },
         "mode": "lines",
         "name": "muscatine",
         "orientation": "v",
         "showlegend": true,
         "type": "scatter",
         "x": [
          2012,
          2013,
          2014,
          2015,
          2016,
          2017
         ],
         "xaxis": "x",
         "y": [
          2744851.31,
          2817560.97,
          2964742.92,
          3023950.74,
          2757048.16,
          1844274.87
         ],
         "yaxis": "y"
        },
        {
         "hovertemplate": "county_99=marshall<br>yeer=%{x}<br>value=%{y}<extra></extra>",
         "legendgroup": "marshall",
         "line": {
          "color": "#B6E880",
          "dash": "solid"
         },
         "marker": {
          "symbol": "circle"
         },
         "mode": "lines",
         "name": "marshall",
         "orientation": "v",
         "showlegend": true,
         "type": "scatter",
         "x": [
          2012,
          2013,
          2014,
          2015,
          2016,
          2017
         ],
         "xaxis": "x",
         "y": [
          2712215.66,
          2686227.02,
          2729311.94,
          3026309.07,
          2773077.02,
          1699894.14
         ],
         "yaxis": "y"
        },
        {
         "hovertemplate": "county_99=wapello<br>yeer=%{x}<br>value=%{y}<extra></extra>",
         "legendgroup": "wapello",
         "line": {
          "color": "#FF97FF",
          "dash": "solid"
         },
         "marker": {
          "symbol": "circle"
         },
         "mode": "lines",
         "name": "wapello",
         "orientation": "v",
         "showlegend": true,
         "type": "scatter",
         "x": [
          2012,
          2013,
          2014,
          2015,
          2016,
          2017
         ],
         "xaxis": "x",
         "y": [
          2394581.08,
          2495451.02,
          2539000.33,
          2745634.87,
          2133475.04,
          1590804.83
         ],
         "yaxis": "y"
        },
        {
         "hovertemplate": "county_99=carroll<br>yeer=%{x}<br>value=%{y}<extra></extra>",
         "legendgroup": "carroll",
         "line": {
          "color": "#FECB52",
          "dash": "solid"
         },
         "marker": {
          "symbol": "circle"
         },
         "mode": "lines",
         "name": "carroll",
         "orientation": "v",
         "showlegend": true,
         "type": "scatter",
         "x": [
          2012,
          2013,
          2014,
          2015,
          2016,
          2017
         ],
         "xaxis": "x",
         "y": [
          2398414.69,
          2173263.14,
          2285421.8,
          2341824.75,
          1935079.13,
          999635.43
         ],
         "yaxis": "y"
        },
        {
         "hovertemplate": "county_99=warren<br>yeer=%{x}<br>value=%{y}<extra></extra>",
         "legendgroup": "warren",
         "line": {
          "color": "#636efa",
          "dash": "solid"
         },
         "marker": {
          "symbol": "circle"
         },
         "mode": "lines",
         "name": "warren",
         "orientation": "v",
         "showlegend": true,
         "type": "scatter",
         "x": [
          2012,
          2013,
          2014,
          2015,
          2016,
          2017
         ],
         "xaxis": "x",
         "y": [
          1876943.07,
          1943461.9,
          2048282.52,
          2350365.27,
          2015836.12,
          1487934.14
         ],
         "yaxis": "y"
        },
        {
         "hovertemplate": "county_99=marion<br>yeer=%{x}<br>value=%{y}<extra></extra>",
         "legendgroup": "marion",
         "line": {
          "color": "#EF553B",
          "dash": "solid"
         },
         "marker": {
          "symbol": "circle"
         },
         "mode": "lines",
         "name": "marion",
         "orientation": "v",
         "showlegend": true,
         "type": "scatter",
         "x": [
          2012,
          2013,
          2014,
          2015,
          2016,
          2017
         ],
         "xaxis": "x",
         "y": [
          1691516.8,
          1858281.08,
          1944980.54,
          1974697.44,
          1857003.62,
          1221340.21
         ],
         "yaxis": "y"
        },
        {
         "hovertemplate": "county_99=hardin<br>yeer=%{x}<br>value=%{y}<extra></extra>",
         "legendgroup": "hardin",
         "line": {
          "color": "#00cc96",
          "dash": "solid"
         },
         "marker": {
          "symbol": "circle"
         },
         "mode": "lines",
         "name": "hardin",
         "orientation": "v",
         "showlegend": true,
         "type": "scatter",
         "x": [
          2012,
          2013,
          2014,
          2015,
          2016,
          2017
         ],
         "xaxis": "x",
         "y": [
          1608075.82,
          1574701.54,
          1784257.99,
          1820394.05,
          1684998.86,
          1115395.53
         ],
         "yaxis": "y"
        },
        {
         "hovertemplate": "county_99=bremer<br>yeer=%{x}<br>value=%{y}<extra></extra>",
         "legendgroup": "bremer",
         "line": {
          "color": "#ab63fa",
          "dash": "solid"
         },
         "marker": {
          "symbol": "circle"
         },
         "mode": "lines",
         "name": "bremer",
         "orientation": "v",
         "showlegend": true,
         "type": "scatter",
         "x": [
          2012,
          2013,
          2014,
          2015,
          2016,
          2017
         ],
         "xaxis": "x",
         "y": [
          1776898.8,
          1761039.09,
          1761823.88,
          1794322.78,
          1509622.04,
          934050.5
         ],
         "yaxis": "y"
        },
        {
         "hovertemplate": "county_99=buena vista<br>yeer=%{x}<br>value=%{y}<extra></extra>",
         "legendgroup": "buena vista",
         "line": {
          "color": "#FFA15A",
          "dash": "solid"
         },
         "marker": {
          "symbol": "circle"
         },
         "mode": "lines",
         "name": "buena vista",
         "orientation": "v",
         "showlegend": true,
         "type": "scatter",
         "x": [
          2012,
          2013,
          2014,
          2015,
          2016,
          2017
         ],
         "xaxis": "x",
         "y": [
          1664076.55,
          1731553.39,
          1661424.36,
          1802902.99,
          1582622.45,
          948502.02
         ],
         "yaxis": "y"
        },
        {
         "hovertemplate": "county_99=jasper<br>yeer=%{x}<br>value=%{y}<extra></extra>",
         "legendgroup": "jasper",
         "line": {
          "color": "#19d3f3",
          "dash": "solid"
         },
         "marker": {
          "symbol": "circle"
         },
         "mode": "lines",
         "name": "jasper",
         "orientation": "v",
         "showlegend": true,
         "type": "scatter",
         "x": [
          2012,
          2013,
          2014,
          2015,
          2016,
          2017
         ],
         "xaxis": "x",
         "y": [
          1722006.36,
          1716299.27,
          1742732.31,
          1671867.55,
          1448381.59,
          968420.6
         ],
         "yaxis": "y"
        },
        {
         "hovertemplate": "county_99=boone<br>yeer=%{x}<br>value=%{y}<extra></extra>",
         "legendgroup": "boone",
         "line": {
          "color": "#FF6692",
          "dash": "solid"
         },
         "marker": {
          "symbol": "circle"
         },
         "mode": "lines",
         "name": "boone",
         "orientation": "v",
         "showlegend": true,
         "type": "scatter",
         "x": [
          2012,
          2013,
          2014,
          2015,
          2016,
          2017
         ],
         "xaxis": "x",
         "y": [
          1457656.61,
          1664919.58,
          1671568.1,
          1751063.03,
          1545574.55,
          1161503.89
         ],
         "yaxis": "y"
        },
        {
         "hovertemplate": "county_99=kossuth<br>yeer=%{x}<br>value=%{y}<extra></extra>",
         "legendgroup": "kossuth",
         "line": {
          "color": "#B6E880",
          "dash": "solid"
         },
         "marker": {
          "symbol": "circle"
         },
         "mode": "lines",
         "name": "kossuth",
         "orientation": "v",
         "showlegend": true,
         "type": "scatter",
         "x": [
          2012,
          2013,
          2014,
          2015,
          2016,
          2017
         ],
         "xaxis": "x",
         "y": [
          1602397.31,
          1661485.89,
          1735309.67,
          1769012.89,
          1406432.08,
          1009394.7
         ],
         "yaxis": "y"
        },
        {
         "hovertemplate": "county_99=UNKNOWN<br>yeer=%{x}<br>value=%{y}<extra></extra>",
         "legendgroup": "UNKNOWN",
         "line": {
          "color": "#FF97FF",
          "dash": "solid"
         },
         "marker": {
          "symbol": "circle"
         },
         "mode": "lines",
         "name": "UNKNOWN",
         "orientation": "v",
         "showlegend": true,
         "type": "scatter",
         "x": [
          2012,
          2013,
          2014,
          2015,
          2016,
          2017
         ],
         "xaxis": "x",
         "y": [
          254964.57,
          204524.91,
          104169.05,
          92540.85,
          8262314.27,
          82348.15
         ],
         "yaxis": "y"
        },
        {
         "hovertemplate": "county_99=plymouth<br>yeer=%{x}<br>value=%{y}<extra></extra>",
         "legendgroup": "plymouth",
         "line": {
          "color": "#FECB52",
          "dash": "solid"
         },
         "marker": {
          "symbol": "circle"
         },
         "mode": "lines",
         "name": "plymouth",
         "orientation": "v",
         "showlegend": true,
         "type": "scatter",
         "x": [
          2012,
          2013,
          2014,
          2015,
          2016,
          2017
         ],
         "xaxis": "x",
         "y": [
          1512916.93,
          1504671.73,
          1572071.62,
          1558273.49,
          1443319.09,
          1003703.82
         ],
         "yaxis": "y"
        },
        {
         "hovertemplate": "county_99=clay<br>yeer=%{x}<br>value=%{y}<extra></extra>",
         "legendgroup": "clay",
         "line": {
          "color": "#636efa",
          "dash": "solid"
         },
         "marker": {
          "symbol": "circle"
         },
         "mode": "lines",
         "name": "clay",
         "orientation": "v",
         "showlegend": true,
         "type": "scatter",
         "x": [
          2012,
          2013,
          2014,
          2015,
          2016,
          2017
         ],
         "xaxis": "x",
         "y": [
          1427106.77,
          1463129.05,
          1479853.53,
          1571856.45,
          1337716.01,
          817560.75
         ],
         "yaxis": "y"
        },
        {
         "hovertemplate": "county_99=sioux<br>yeer=%{x}<br>value=%{y}<extra></extra>",
         "legendgroup": "sioux",
         "line": {
          "color": "#EF553B",
          "dash": "solid"
         },
         "marker": {
          "symbol": "circle"
         },
         "mode": "lines",
         "name": "sioux",
         "orientation": "v",
         "showlegend": true,
         "type": "scatter",
         "x": [
          2012,
          2013,
          2014,
          2015,
          2016,
          2017
         ],
         "xaxis": "x",
         "y": [
          1360711.22,
          1477890.63,
          1424805.42,
          1502398.07,
          1288096.74,
          859255.3
         ],
         "yaxis": "y"
        },
        {
         "hovertemplate": "county_99=iowa<br>yeer=%{x}<br>value=%{y}<extra></extra>",
         "legendgroup": "iowa",
         "line": {
          "color": "#00cc96",
          "dash": "solid"
         },
         "marker": {
          "symbol": "circle"
         },
         "mode": "lines",
         "name": "iowa",
         "orientation": "v",
         "showlegend": true,
         "type": "scatter",
         "x": [
          2012,
          2013,
          2014,
          2015,
          2016,
          2017
         ],
         "xaxis": "x",
         "y": [
          1817734.27,
          1660767.69,
          1536444.13,
          1064852.78,
          961119.4,
          688931.41
         ],
         "yaxis": "y"
        },
        {
         "hovertemplate": "county_99=washington<br>yeer=%{x}<br>value=%{y}<extra></extra>",
         "legendgroup": "washington",
         "line": {
          "color": "#ab63fa",
          "dash": "solid"
         },
         "marker": {
          "symbol": "circle"
         },
         "mode": "lines",
         "name": "washington",
         "orientation": "v",
         "showlegend": true,
         "type": "scatter",
         "x": [
          2012,
          2013,
          2014,
          2015,
          2016,
          2017
         ],
         "xaxis": "x",
         "y": [
          1220746.44,
          1280723.01,
          1388068.73,
          1462246.29,
          1363308.34,
          781136.33
         ],
         "yaxis": "y"
        },
        {
         "hovertemplate": "county_99=poweshiek<br>yeer=%{x}<br>value=%{y}<extra></extra>",
         "legendgroup": "poweshiek",
         "line": {
          "color": "#FFA15A",
          "dash": "solid"
         },
         "marker": {
          "symbol": "circle"
         },
         "mode": "lines",
         "name": "poweshiek",
         "orientation": "v",
         "showlegend": true,
         "type": "scatter",
         "x": [
          2012,
          2013,
          2014,
          2015,
          2016,
          2017
         ],
         "xaxis": "x",
         "y": [
          1260818.16,
          1338820.89,
          1414533.39,
          1349652.23,
          1239019.79,
          838116.44
         ],
         "yaxis": "y"
        },
        {
         "hovertemplate": "county_99=winneshiek<br>yeer=%{x}<br>value=%{y}<extra></extra>",
         "legendgroup": "winneshiek",
         "line": {
          "color": "#19d3f3",
          "dash": "solid"
         },
         "marker": {
          "symbol": "circle"
         },
         "mode": "lines",
         "name": "winneshiek",
         "orientation": "v",
         "showlegend": true,
         "type": "scatter",
         "x": [
          2012,
          2013,
          2014,
          2015,
          2016,
          2017
         ],
         "xaxis": "x",
         "y": [
          1329013.68,
          1304110.2,
          1355288.84,
          1284923.04,
          1246363.91,
          899885.15
         ],
         "yaxis": "y"
        },
        {
         "hovertemplate": "county_99=buchanan<br>yeer=%{x}<br>value=%{y}<extra></extra>",
         "legendgroup": "buchanan",
         "line": {
          "color": "#FF6692",
          "dash": "solid"
         },
         "marker": {
          "symbol": "circle"
         },
         "mode": "lines",
         "name": "buchanan",
         "orientation": "v",
         "showlegend": true,
         "type": "scatter",
         "x": [
          2012,
          2013,
          2014,
          2015,
          2016,
          2017
         ],
         "xaxis": "x",
         "y": [
          1306200,
          1294292.75,
          1345316.93,
          1297984.66,
          1168599.25,
          709181.24
         ],
         "yaxis": "y"
        },
        {
         "hovertemplate": "county_99=obrien<br>yeer=%{x}<br>value=%{y}<extra></extra>",
         "legendgroup": "obrien",
         "line": {
          "color": "#B6E880",
          "dash": "solid"
         },
         "marker": {
          "symbol": "circle"
         },
         "mode": "lines",
         "name": "obrien",
         "orientation": "v",
         "showlegend": true,
         "type": "scatter",
         "x": [
          2012,
          2013,
          2014,
          2015,
          2016,
          2017
         ],
         "xaxis": "x",
         "y": [
          1314248.35,
          1198222.55,
          1232846.98,
          1273098.87,
          1097465.41,
          718342.79
         ],
         "yaxis": "y"
        },
        {
         "hovertemplate": "county_99=crawford<br>yeer=%{x}<br>value=%{y}<extra></extra>",
         "legendgroup": "crawford",
         "line": {
          "color": "#FF97FF",
          "dash": "solid"
         },
         "marker": {
          "symbol": "circle"
         },
         "mode": "lines",
         "name": "crawford",
         "orientation": "v",
         "showlegend": true,
         "type": "scatter",
         "x": [
          2012,
          2013,
          2014,
          2015,
          2016,
          2017
         ],
         "xaxis": "x",
         "y": [
          1287620.56,
          1202377.43,
          1287052.65,
          1265170.37,
          1061308.64,
          545594.23
         ],
         "yaxis": "y"
        },
        {
         "hovertemplate": "county_99=jackson<br>yeer=%{x}<br>value=%{y}<extra></extra>",
         "legendgroup": "jackson",
         "line": {
          "color": "#FECB52",
          "dash": "solid"
         },
         "marker": {
          "symbol": "circle"
         },
         "mode": "lines",
         "name": "jackson",
         "orientation": "v",
         "showlegend": true,
         "type": "scatter",
         "x": [
          2012,
          2013,
          2014,
          2015,
          2016,
          2017
         ],
         "xaxis": "x",
         "y": [
          1159790.05,
          1181949.59,
          1160665.14,
          1207416.17,
          1132736.83,
          708954.09
         ],
         "yaxis": "y"
        },
        {
         "hovertemplate": "county_99=page<br>yeer=%{x}<br>value=%{y}<extra></extra>",
         "legendgroup": "page",
         "line": {
          "color": "#636efa",
          "dash": "solid"
         },
         "marker": {
          "symbol": "circle"
         },
         "mode": "lines",
         "name": "page",
         "orientation": "v",
         "showlegend": true,
         "type": "scatter",
         "x": [
          2012,
          2013,
          2014,
          2015,
          2016,
          2017
         ],
         "xaxis": "x",
         "y": [
          1189220.67,
          1148726.23,
          1135061.93,
          1178275.96,
          926094.99,
          776505.32
         ],
         "yaxis": "y"
        },
        {
         "hovertemplate": "county_99=fayette<br>yeer=%{x}<br>value=%{y}<extra></extra>",
         "legendgroup": "fayette",
         "line": {
          "color": "#EF553B",
          "dash": "solid"
         },
         "marker": {
          "symbol": "circle"
         },
         "mode": "lines",
         "name": "fayette",
         "orientation": "v",
         "showlegend": true,
         "type": "scatter",
         "x": [
          2012,
          2013,
          2014,
          2015,
          2016,
          2017
         ],
         "xaxis": "x",
         "y": [
          1118145.7,
          1091413.95,
          1120694.84,
          1124619,
          1141616.29,
          676225.16
         ],
         "yaxis": "y"
        },
        {
         "hovertemplate": "county_99=cass<br>yeer=%{x}<br>value=%{y}<extra></extra>",
         "legendgroup": "cass",
         "line": {
          "color": "#00cc96",
          "dash": "solid"
         },
         "marker": {
          "symbol": "circle"
         },
         "mode": "lines",
         "name": "cass",
         "orientation": "v",
         "showlegend": true,
         "type": "scatter",
         "x": [
          2012,
          2013,
          2014,
          2015,
          2016,
          2017
         ],
         "xaxis": "x",
         "y": [
          1156054.73,
          1058351.53,
          1062224.34,
          1142073.39,
          1039348.64,
          724579.22
         ],
         "yaxis": "y"
        },
        {
         "hovertemplate": "county_99=floyd<br>yeer=%{x}<br>value=%{y}<extra></extra>",
         "legendgroup": "floyd",
         "line": {
          "color": "#ab63fa",
          "dash": "solid"
         },
         "marker": {
          "symbol": "circle"
         },
         "mode": "lines",
         "name": "floyd",
         "orientation": "v",
         "showlegend": true,
         "type": "scatter",
         "x": [
          2012,
          2013,
          2014,
          2015,
          2016,
          2017
         ],
         "xaxis": "x",
         "y": [
          1053915.13,
          1017670.96,
          1069348.34,
          1225631.24,
          1087696.19,
          702952.05
         ],
         "yaxis": "y"
        },
        {
         "hovertemplate": "county_99=jones<br>yeer=%{x}<br>value=%{y}<extra></extra>",
         "legendgroup": "jones",
         "line": {
          "color": "#FFA15A",
          "dash": "solid"
         },
         "marker": {
          "symbol": "circle"
         },
         "mode": "lines",
         "name": "jones",
         "orientation": "v",
         "showlegend": true,
         "type": "scatter",
         "x": [
          2012,
          2013,
          2014,
          2015,
          2016,
          2017
         ],
         "xaxis": "x",
         "y": [
          1218910.65,
          1150084.83,
          1077679.84,
          1015238.25,
          780339.38,
          687469.84
         ],
         "yaxis": "y"
        },
        {
         "hovertemplate": "county_99=henry<br>yeer=%{x}<br>value=%{y}<extra></extra>",
         "legendgroup": "henry",
         "line": {
          "color": "#19d3f3",
          "dash": "solid"
         },
         "marker": {
          "symbol": "circle"
         },
         "mode": "lines",
         "name": "henry",
         "orientation": "v",
         "showlegend": true,
         "type": "scatter",
         "x": [
          2012,
          2013,
          2014,
          2015,
          2016,
          2017
         ],
         "xaxis": "x",
         "y": [
          951255.56,
          1056372.11,
          1053207.59,
          1083269.58,
          1002315.51,
          680425.5
         ],
         "yaxis": "y"
        },
        {
         "hovertemplate": "county_99=mahaska<br>yeer=%{x}<br>value=%{y}<extra></extra>",
         "legendgroup": "mahaska",
         "line": {
          "color": "#FF6692",
          "dash": "solid"
         },
         "marker": {
          "symbol": "circle"
         },
         "mode": "lines",
         "name": "mahaska",
         "orientation": "v",
         "showlegend": true,
         "type": "scatter",
         "x": [
          2012,
          2013,
          2014,
          2015,
          2016,
          2017
         ],
         "xaxis": "x",
         "y": [
          908041.38,
          916465.9,
          949565.92,
          962686.79,
          870012.47,
          638986.75
         ],
         "yaxis": "y"
        },
        {
         "hovertemplate": "county_99=union<br>yeer=%{x}<br>value=%{y}<extra></extra>",
         "legendgroup": "union",
         "line": {
          "color": "#B6E880",
          "dash": "solid"
         },
         "marker": {
          "symbol": "circle"
         },
         "mode": "lines",
         "name": "union",
         "orientation": "v",
         "showlegend": true,
         "type": "scatter",
         "x": [
          2012,
          2013,
          2014,
          2015,
          2016,
          2017
         ],
         "xaxis": "x",
         "y": [
          850957.33,
          953472.71,
          921609.93,
          968807.5,
          900590.25,
          508537.34
         ],
         "yaxis": "y"
        },
        {
         "hovertemplate": "county_99=delaware<br>yeer=%{x}<br>value=%{y}<extra></extra>",
         "legendgroup": "delaware",
         "line": {
          "color": "#FF97FF",
          "dash": "solid"
         },
         "marker": {
          "symbol": "circle"
         },
         "mode": "lines",
         "name": "delaware",
         "orientation": "v",
         "showlegend": true,
         "type": "scatter",
         "x": [
          2012,
          2013,
          2014,
          2015,
          2016,
          2017
         ],
         "xaxis": "x",
         "y": [
          884699.06,
          929929.74,
          881656.03,
          871470.79,
          862503.57,
          581219.38
         ],
         "yaxis": "y"
        },
        {
         "hovertemplate": "county_99=jefferson<br>yeer=%{x}<br>value=%{y}<extra></extra>",
         "legendgroup": "jefferson",
         "line": {
          "color": "#FECB52",
          "dash": "solid"
         },
         "marker": {
          "symbol": "circle"
         },
         "mode": "lines",
         "name": "jefferson",
         "orientation": "v",
         "showlegend": true,
         "type": "scatter",
         "x": [
          2012,
          2013,
          2014,
          2015,
          2016,
          2017
         ],
         "xaxis": "x",
         "y": [
          746559.87,
          790566.53,
          781815.46,
          863813.42,
          852254.91,
          558316.2
         ],
         "yaxis": "y"
        },
        {
         "hovertemplate": "county_99=allamakee<br>yeer=%{x}<br>value=%{y}<extra></extra>",
         "legendgroup": "allamakee",
         "line": {
          "color": "#636efa",
          "dash": "solid"
         },
         "marker": {
          "symbol": "circle"
         },
         "mode": "lines",
         "name": "allamakee",
         "orientation": "v",
         "showlegend": true,
         "type": "scatter",
         "x": [
          2012,
          2013,
          2014,
          2015,
          2016,
          2017
         ],
         "xaxis": "x",
         "y": [
          785647.44,
          811512.37,
          795778.07,
          823579.28,
          777198.46,
          513366.64
         ],
         "yaxis": "y"
        },
        {
         "hovertemplate": "county_99=hamilton<br>yeer=%{x}<br>value=%{y}<extra></extra>",
         "legendgroup": "hamilton",
         "line": {
          "color": "#EF553B",
          "dash": "solid"
         },
         "marker": {
          "symbol": "circle"
         },
         "mode": "lines",
         "name": "hamilton",
         "orientation": "v",
         "showlegend": true,
         "type": "scatter",
         "x": [
          2012,
          2013,
          2014,
          2015,
          2016,
          2017
         ],
         "xaxis": "x",
         "y": [
          796043.77,
          824559.75,
          850255.35,
          850165.6,
          702825.34,
          425174.65
         ],
         "yaxis": "y"
        },
        {
         "hovertemplate": "county_99=appanoose<br>yeer=%{x}<br>value=%{y}<extra></extra>",
         "legendgroup": "appanoose",
         "line": {
          "color": "#00cc96",
          "dash": "solid"
         },
         "marker": {
          "symbol": "circle"
         },
         "mode": "lines",
         "name": "appanoose",
         "orientation": "v",
         "showlegend": true,
         "type": "scatter",
         "x": [
          2012,
          2013,
          2014,
          2015,
          2016,
          2017
         ],
         "xaxis": "x",
         "y": [
          687274.18,
          780715.27,
          769647.57,
          835381.93,
          743207.82,
          501963.78
         ],
         "yaxis": "y"
        },
        {
         "hovertemplate": "county_99=cherokee<br>yeer=%{x}<br>value=%{y}<extra></extra>",
         "legendgroup": "cherokee",
         "line": {
          "color": "#ab63fa",
          "dash": "solid"
         },
         "marker": {
          "symbol": "circle"
         },
         "mode": "lines",
         "name": "cherokee",
         "orientation": "v",
         "showlegend": true,
         "type": "scatter",
         "x": [
          2012,
          2013,
          2014,
          2015,
          2016,
          2017
         ],
         "xaxis": "x",
         "y": [
          711474.27,
          756107.26,
          670926.9,
          743338.94,
          679102.2,
          494536.6
         ],
         "yaxis": "y"
        },
        {
         "hovertemplate": "county_99=winnebago<br>yeer=%{x}<br>value=%{y}<extra></extra>",
         "legendgroup": "winnebago",
         "line": {
          "color": "#FFA15A",
          "dash": "solid"
         },
         "marker": {
          "symbol": "circle"
         },
         "mode": "lines",
         "name": "winnebago",
         "orientation": "v",
         "showlegend": true,
         "type": "scatter",
         "x": [
          2012,
          2013,
          2014,
          2015,
          2016,
          2017
         ],
         "xaxis": "x",
         "y": [
          628031.62,
          665467.71,
          690021.56,
          727026.88,
          711636.69,
          508534.88
         ],
         "yaxis": "y"
        },
        {
         "hovertemplate": "county_99=benton<br>yeer=%{x}<br>value=%{y}<extra></extra>",
         "legendgroup": "benton",
         "line": {
          "color": "#19d3f3",
          "dash": "solid"
         },
         "marker": {
          "symbol": "circle"
         },
         "mode": "lines",
         "name": "benton",
         "orientation": "v",
         "showlegend": true,
         "type": "scatter",
         "x": [
          2012,
          2013,
          2014,
          2015,
          2016,
          2017
         ],
         "xaxis": "x",
         "y": [
          640689.25,
          687998.46,
          698404.3,
          726075.75,
          660637.5,
          459306.13
         ],
         "yaxis": "y"
        },
        {
         "hovertemplate": "county_99=shelby<br>yeer=%{x}<br>value=%{y}<extra></extra>",
         "legendgroup": "shelby",
         "line": {
          "color": "#FF6692",
          "dash": "solid"
         },
         "marker": {
          "symbol": "circle"
         },
         "mode": "lines",
         "name": "shelby",
         "orientation": "v",
         "showlegend": true,
         "type": "scatter",
         "x": [
          2012,
          2013,
          2014,
          2015,
          2016,
          2017
         ],
         "xaxis": "x",
         "y": [
          709604.7,
          722370.59,
          792223.05,
          836308.77,
          381278.48,
          362116.54
         ],
         "yaxis": "y"
        },
        {
         "hovertemplate": "county_99=lyon<br>yeer=%{x}<br>value=%{y}<extra></extra>",
         "legendgroup": "lyon",
         "line": {
          "color": "#B6E880",
          "dash": "solid"
         },
         "marker": {
          "symbol": "circle"
         },
         "mode": "lines",
         "name": "lyon",
         "orientation": "v",
         "showlegend": true,
         "type": "scatter",
         "x": [
          2012,
          2013,
          2014,
          2015,
          2016,
          2017
         ],
         "xaxis": "x",
         "y": [
          535959.69,
          636165.61,
          702287.56,
          788587.32,
          643859.46,
          447444.77
         ],
         "yaxis": "y"
        },
        {
         "hovertemplate": "county_99=madison<br>yeer=%{x}<br>value=%{y}<extra></extra>",
         "legendgroup": "madison",
         "line": {
          "color": "#FF97FF",
          "dash": "solid"
         },
         "marker": {
          "symbol": "circle"
         },
         "mode": "lines",
         "name": "madison",
         "orientation": "v",
         "showlegend": true,
         "type": "scatter",
         "x": [
          2012,
          2013,
          2014,
          2015,
          2016,
          2017
         ],
         "xaxis": "x",
         "y": [
          565132.05,
          590210.08,
          596099.7,
          766306.28,
          729117.32,
          482667.3
         ],
         "yaxis": "y"
        },
        {
         "hovertemplate": "county_99=howard<br>yeer=%{x}<br>value=%{y}<extra></extra>",
         "legendgroup": "howard",
         "line": {
          "color": "#FECB52",
          "dash": "solid"
         },
         "marker": {
          "symbol": "circle"
         },
         "mode": "lines",
         "name": "howard",
         "orientation": "v",
         "showlegend": true,
         "type": "scatter",
         "x": [
          2012,
          2013,
          2014,
          2015,
          2016,
          2017
         ],
         "xaxis": "x",
         "y": [
          743955.23,
          736543.49,
          791056.1,
          710520.03,
          369512.41,
          373130.23
         ],
         "yaxis": "y"
        },
        {
         "hovertemplate": "county_99=clayton<br>yeer=%{x}<br>value=%{y}<extra></extra>",
         "legendgroup": "clayton",
         "line": {
          "color": "#636efa",
          "dash": "solid"
         },
         "marker": {
          "symbol": "circle"
         },
         "mode": "lines",
         "name": "clayton",
         "orientation": "v",
         "showlegend": true,
         "type": "scatter",
         "x": [
          2012,
          2013,
          2014,
          2015,
          2016,
          2017
         ],
         "xaxis": "x",
         "y": [
          508343.39,
          544075.09,
          686819.22,
          702285.61,
          629710.92,
          462140.59
         ],
         "yaxis": "y"
        },
        {
         "hovertemplate": "county_99=humboldt<br>yeer=%{x}<br>value=%{y}<extra></extra>",
         "legendgroup": "humboldt",
         "line": {
          "color": "#EF553B",
          "dash": "solid"
         },
         "marker": {
          "symbol": "circle"
         },
         "mode": "lines",
         "name": "humboldt",
         "orientation": "v",
         "showlegend": true,
         "type": "scatter",
         "x": [
          2012,
          2013,
          2014,
          2015,
          2016,
          2017
         ],
         "xaxis": "x",
         "y": [
          634114.54,
          601800.35,
          642619.17,
          648738.09,
          588011.24,
          389366.02
         ],
         "yaxis": "y"
        },
        {
         "hovertemplate": "county_99=emmet<br>yeer=%{x}<br>value=%{y}<extra></extra>",
         "legendgroup": "emmet",
         "line": {
          "color": "#00cc96",
          "dash": "solid"
         },
         "marker": {
          "symbol": "circle"
         },
         "mode": "lines",
         "name": "emmet",
         "orientation": "v",
         "showlegend": true,
         "type": "scatter",
         "x": [
          2012,
          2013,
          2014,
          2015,
          2016,
          2017
         ],
         "xaxis": "x",
         "y": [
          657258.05,
          660335.97,
          583462.49,
          585747.34,
          559453.83,
          383927.43
         ],
         "yaxis": "y"
        },
        {
         "hovertemplate": "county_99=tama<br>yeer=%{x}<br>value=%{y}<extra></extra>",
         "legendgroup": "tama",
         "line": {
          "color": "#ab63fa",
          "dash": "solid"
         },
         "marker": {
          "symbol": "circle"
         },
         "mode": "lines",
         "name": "tama",
         "orientation": "v",
         "showlegend": true,
         "type": "scatter",
         "x": [
          2012,
          2013,
          2014,
          2015,
          2016,
          2017
         ],
         "xaxis": "x",
         "y": [
          535153.82,
          556036.88,
          596348.78,
          638455.4,
          626458.24,
          424870.71
         ],
         "yaxis": "y"
        },
        {
         "hovertemplate": "county_99=palo alto<br>yeer=%{x}<br>value=%{y}<extra></extra>",
         "legendgroup": "palo alto",
         "line": {
          "color": "#FFA15A",
          "dash": "solid"
         },
         "marker": {
          "symbol": "circle"
         },
         "mode": "lines",
         "name": "palo alto",
         "orientation": "v",
         "showlegend": true,
         "type": "scatter",
         "x": [
          2012,
          2013,
          2014,
          2015,
          2016,
          2017
         ],
         "xaxis": "x",
         "y": [
          589873.63,
          668744.71,
          634074.34,
          603797.3,
          552094.88,
          325287.41
         ],
         "yaxis": "y"
        },
        {
         "hovertemplate": "county_99=wright<br>yeer=%{x}<br>value=%{y}<extra></extra>",
         "legendgroup": "wright",
         "line": {
          "color": "#19d3f3",
          "dash": "solid"
         },
         "marker": {
          "symbol": "circle"
         },
         "mode": "lines",
         "name": "wright",
         "orientation": "v",
         "showlegend": true,
         "type": "scatter",
         "x": [
          2012,
          2013,
          2014,
          2015,
          2016,
          2017
         ],
         "xaxis": "x",
         "y": [
          593361.38,
          606333.07,
          558336.27,
          609443.42,
          554353.42,
          451852.41
         ],
         "yaxis": "y"
        },
        {
         "hovertemplate": "county_99=montgomery<br>yeer=%{x}<br>value=%{y}<extra></extra>",
         "legendgroup": "montgomery",
         "line": {
          "color": "#FF6692",
          "dash": "solid"
         },
         "marker": {
          "symbol": "circle"
         },
         "mode": "lines",
         "name": "montgomery",
         "orientation": "v",
         "showlegend": true,
         "type": "scatter",
         "x": [
          2012,
          2013,
          2014,
          2015,
          2016,
          2017
         ],
         "xaxis": "x",
         "y": [
          568863.06,
          541214.47,
          604338.92,
          625465.12,
          606764.75,
          413183.55
         ],
         "yaxis": "y"
        },
        {
         "hovertemplate": "county_99=clarke<br>yeer=%{x}<br>value=%{y}<extra></extra>",
         "legendgroup": "clarke",
         "line": {
          "color": "#B6E880",
          "dash": "solid"
         },
         "marker": {
          "symbol": "circle"
         },
         "mode": "lines",
         "name": "clarke",
         "orientation": "v",
         "showlegend": true,
         "type": "scatter",
         "x": [
          2012,
          2013,
          2014,
          2015,
          2016,
          2017
         ],
         "xaxis": "x",
         "y": [
          505187.3,
          551376.29,
          594923.27,
          665423.91,
          495264.91,
          299442.51
         ],
         "yaxis": "y"
        },
        {
         "hovertemplate": "county_99=sac<br>yeer=%{x}<br>value=%{y}<extra></extra>",
         "legendgroup": "sac",
         "line": {
          "color": "#FF97FF",
          "dash": "solid"
         },
         "marker": {
          "symbol": "circle"
         },
         "mode": "lines",
         "name": "sac",
         "orientation": "v",
         "showlegend": true,
         "type": "scatter",
         "x": [
          2012,
          2013,
          2014,
          2015,
          2016,
          2017
         ],
         "xaxis": "x",
         "y": [
          555655.82,
          511411.26,
          517589.29,
          546378.45,
          502758.21,
          337548.06
         ],
         "yaxis": "y"
        },
        {
         "hovertemplate": "county_99=monona<br>yeer=%{x}<br>value=%{y}<extra></extra>",
         "legendgroup": "monona",
         "line": {
          "color": "#FECB52",
          "dash": "solid"
         },
         "marker": {
          "symbol": "circle"
         },
         "mode": "lines",
         "name": "monona",
         "orientation": "v",
         "showlegend": true,
         "type": "scatter",
         "x": [
          2012,
          2013,
          2014,
          2015,
          2016,
          2017
         ],
         "xaxis": "x",
         "y": [
          510447.11,
          519200.82,
          537095.9,
          519700.46,
          489436.87,
          304677.56
         ],
         "yaxis": "y"
        },
        {
         "hovertemplate": "county_99=ida<br>yeer=%{x}<br>value=%{y}<extra></extra>",
         "legendgroup": "ida",
         "line": {
          "color": "#636efa",
          "dash": "solid"
         },
         "marker": {
          "symbol": "circle"
         },
         "mode": "lines",
         "name": "ida",
         "orientation": "v",
         "showlegend": true,
         "type": "scatter",
         "x": [
          2012,
          2013,
          2014,
          2015,
          2016,
          2017
         ],
         "xaxis": "x",
         "y": [
          440210.03,
          423016.51,
          407028.65,
          547270.83,
          560256.03,
          387597.28
         ],
         "yaxis": "y"
        },
        {
         "hovertemplate": "county_99=cedar<br>yeer=%{x}<br>value=%{y}<extra></extra>",
         "legendgroup": "cedar",
         "line": {
          "color": "#EF553B",
          "dash": "solid"
         },
         "marker": {
          "symbol": "circle"
         },
         "mode": "lines",
         "name": "cedar",
         "orientation": "v",
         "showlegend": true,
         "type": "scatter",
         "x": [
          2012,
          2013,
          2014,
          2015,
          2016,
          2017
         ],
         "xaxis": "x",
         "y": [
          435222.12,
          474237.9,
          505572.64,
          528595.64,
          459474.18,
          306394.06
         ],
         "yaxis": "y"
        },
        {
         "hovertemplate": "county_99=harrison<br>yeer=%{x}<br>value=%{y}<extra></extra>",
         "legendgroup": "harrison",
         "line": {
          "color": "#00cc96",
          "dash": "solid"
         },
         "marker": {
          "symbol": "circle"
         },
         "mode": "lines",
         "name": "harrison",
         "orientation": "v",
         "showlegend": true,
         "type": "scatter",
         "x": [
          2012,
          2013,
          2014,
          2015,
          2016,
          2017
         ],
         "xaxis": "x",
         "y": [
          468592.74,
          442719.23,
          441443.72,
          507430.9,
          319324.32,
          331879.16
         ],
         "yaxis": "y"
        },
        {
         "hovertemplate": "county_99=mills<br>yeer=%{x}<br>value=%{y}<extra></extra>",
         "legendgroup": "mills",
         "line": {
          "color": "#ab63fa",
          "dash": "solid"
         },
         "marker": {
          "symbol": "circle"
         },
         "mode": "lines",
         "name": "mills",
         "orientation": "v",
         "showlegend": true,
         "type": "scatter",
         "x": [
          2012,
          2013,
          2014,
          2015,
          2016,
          2017
         ],
         "xaxis": "x",
         "y": [
          408227.37,
          446688.44,
          423670.17,
          436874.08,
          427031.05,
          356718.7
         ],
         "yaxis": "y"
        },
        {
         "hovertemplate": "county_99=franklin<br>yeer=%{x}<br>value=%{y}<extra></extra>",
         "legendgroup": "franklin",
         "line": {
          "color": "#FFA15A",
          "dash": "solid"
         },
         "marker": {
          "symbol": "circle"
         },
         "mode": "lines",
         "name": "franklin",
         "orientation": "v",
         "showlegend": true,
         "type": "scatter",
         "x": [
          2012,
          2013,
          2014,
          2015,
          2016,
          2017
         ],
         "xaxis": "x",
         "y": [
          497136.27,
          464003.84,
          483340.73,
          488710.08,
          287061.81,
          269356.47
         ],
         "yaxis": "y"
        },
        {
         "hovertemplate": "county_99=mitchell<br>yeer=%{x}<br>value=%{y}<extra></extra>",
         "legendgroup": "mitchell",
         "line": {
          "color": "#19d3f3",
          "dash": "solid"
         },
         "marker": {
          "symbol": "circle"
         },
         "mode": "lines",
         "name": "mitchell",
         "orientation": "v",
         "showlegend": true,
         "type": "scatter",
         "x": [
          2012,
          2013,
          2014,
          2015,
          2016,
          2017
         ],
         "xaxis": "x",
         "y": [
          433674.45,
          446790.1,
          442030.29,
          437388.82,
          416135.51,
          258639.93
         ],
         "yaxis": "y"
        },
        {
         "hovertemplate": "county_99=greene<br>yeer=%{x}<br>value=%{y}<extra></extra>",
         "legendgroup": "greene",
         "line": {
          "color": "#FF6692",
          "dash": "solid"
         },
         "marker": {
          "symbol": "circle"
         },
         "mode": "lines",
         "name": "greene",
         "orientation": "v",
         "showlegend": true,
         "type": "scatter",
         "x": [
          2012,
          2013,
          2014,
          2015,
          2016,
          2017
         ],
         "xaxis": "x",
         "y": [
          302768.2,
          304800.34,
          337735.54,
          583474.3,
          471871.86,
          280912.07
         ],
         "yaxis": "y"
        },
        {
         "hovertemplate": "county_99=adair<br>yeer=%{x}<br>value=%{y}<extra></extra>",
         "legendgroup": "adair",
         "line": {
          "color": "#B6E880",
          "dash": "solid"
         },
         "marker": {
          "symbol": "circle"
         },
         "mode": "lines",
         "name": "adair",
         "orientation": "v",
         "showlegend": true,
         "type": "scatter",
         "x": [
          2012,
          2013,
          2014,
          2015,
          2016,
          2017
         ],
         "xaxis": "x",
         "y": [
          413691.48,
          378584.26,
          413071.07,
          424750.82,
          390382.91,
          256530.15
         ],
         "yaxis": "y"
        },
        {
         "hovertemplate": "county_99=lucas<br>yeer=%{x}<br>value=%{y}<extra></extra>",
         "legendgroup": "lucas",
         "line": {
          "color": "#FF97FF",
          "dash": "solid"
         },
         "marker": {
          "symbol": "circle"
         },
         "mode": "lines",
         "name": "lucas",
         "orientation": "v",
         "showlegend": true,
         "type": "scatter",
         "x": [
          2012,
          2013,
          2014,
          2015,
          2016,
          2017
         ],
         "xaxis": "x",
         "y": [
          269408.51,
          345505.24,
          416887.64,
          415069.06,
          396035.07,
          283937.42
         ],
         "yaxis": "y"
        },
        {
         "hovertemplate": "county_99=chickasaw<br>yeer=%{x}<br>value=%{y}<extra></extra>",
         "legendgroup": "chickasaw",
         "line": {
          "color": "#FECB52",
          "dash": "solid"
         },
         "marker": {
          "symbol": "circle"
         },
         "mode": "lines",
         "name": "chickasaw",
         "orientation": "v",
         "showlegend": true,
         "type": "scatter",
         "x": [
          2012,
          2013,
          2014,
          2015,
          2016,
          2017
         ],
         "xaxis": "x",
         "y": [
          384806.79,
          356483.05,
          380539.37,
          379533.89,
          295220.44,
          169462.2
         ],
         "yaxis": "y"
        },
        {
         "hovertemplate": "county_99=calhoun<br>yeer=%{x}<br>value=%{y}<extra></extra>",
         "legendgroup": "calhoun",
         "line": {
          "color": "#636efa",
          "dash": "solid"
         },
         "marker": {
          "symbol": "circle"
         },
         "mode": "lines",
         "name": "calhoun",
         "orientation": "v",
         "showlegend": true,
         "type": "scatter",
         "x": [
          2012,
          2013,
          2014,
          2015,
          2016,
          2017
         ],
         "xaxis": "x",
         "y": [
          358617.3,
          336587.03,
          328441.27,
          322593.15,
          304339.07,
          213439
         ],
         "yaxis": "y"
        },
        {
         "hovertemplate": "county_99=pocahontas<br>yeer=%{x}<br>value=%{y}<extra></extra>",
         "legendgroup": "pocahontas",
         "line": {
          "color": "#EF553B",
          "dash": "solid"
         },
         "marker": {
          "symbol": "circle"
         },
         "mode": "lines",
         "name": "pocahontas",
         "orientation": "v",
         "showlegend": true,
         "type": "scatter",
         "x": [
          2012,
          2013,
          2014,
          2015,
          2016,
          2017
         ],
         "xaxis": "x",
         "y": [
          337577.83,
          339550.61,
          337373.37,
          327370.38,
          303619.83,
          163189.5
         ],
         "yaxis": "y"
        },
        {
         "hovertemplate": "county_99=monroe<br>yeer=%{x}<br>value=%{y}<extra></extra>",
         "legendgroup": "monroe",
         "line": {
          "color": "#00cc96",
          "dash": "solid"
         },
         "marker": {
          "symbol": "circle"
         },
         "mode": "lines",
         "name": "monroe",
         "orientation": "v",
         "showlegend": true,
         "type": "scatter",
         "x": [
          2012,
          2013,
          2014,
          2015,
          2016,
          2017
         ],
         "xaxis": "x",
         "y": [
          291650.72,
          272537.59,
          293311.1,
          310752.35,
          310806.47,
          228161.15
         ],
         "yaxis": "y"
        },
        {
         "hovertemplate": "county_99=grundy<br>yeer=%{x}<br>value=%{y}<extra></extra>",
         "legendgroup": "grundy",
         "line": {
          "color": "#ab63fa",
          "dash": "solid"
         },
         "marker": {
          "symbol": "circle"
         },
         "mode": "lines",
         "name": "grundy",
         "orientation": "v",
         "showlegend": true,
         "type": "scatter",
         "x": [
          2012,
          2013,
          2014,
          2015,
          2016,
          2017
         ],
         "xaxis": "x",
         "y": [
          297739.87,
          287964.31,
          276976.88,
          302289.79,
          298942.73,
          186195.26
         ],
         "yaxis": "y"
        },
        {
         "hovertemplate": "county_99=hancock<br>yeer=%{x}<br>value=%{y}<extra></extra>",
         "legendgroup": "hancock",
         "line": {
          "color": "#FFA15A",
          "dash": "solid"
         },
         "marker": {
          "symbol": "circle"
         },
         "mode": "lines",
         "name": "hancock",
         "orientation": "v",
         "showlegend": true,
         "type": "scatter",
         "x": [
          2012,
          2013,
          2014,
          2015,
          2016,
          2017
         ],
         "xaxis": "x",
         "y": [
          256871.21,
          263653.9,
          271874.79,
          308398.74,
          305837.45,
          233940.97
         ],
         "yaxis": "y"
        },
        {
         "hovertemplate": "county_99=guthrie<br>yeer=%{x}<br>value=%{y}<extra></extra>",
         "legendgroup": "guthrie",
         "line": {
          "color": "#19d3f3",
          "dash": "solid"
         },
         "marker": {
          "symbol": "circle"
         },
         "mode": "lines",
         "name": "guthrie",
         "orientation": "v",
         "showlegend": true,
         "type": "scatter",
         "x": [
          2012,
          2013,
          2014,
          2015,
          2016,
          2017
         ],
         "xaxis": "x",
         "y": [
          280873.56,
          264970.17,
          271943.65,
          295573.47,
          280769.41,
          194052.97
         ],
         "yaxis": "y"
        },
        {
         "hovertemplate": "county_99=butler<br>yeer=%{x}<br>value=%{y}<extra></extra>",
         "legendgroup": "butler",
         "line": {
          "color": "#FF6692",
          "dash": "solid"
         },
         "marker": {
          "symbol": "circle"
         },
         "mode": "lines",
         "name": "butler",
         "orientation": "v",
         "showlegend": true,
         "type": "scatter",
         "x": [
          2012,
          2013,
          2014,
          2015,
          2016,
          2017
         ],
         "xaxis": "x",
         "y": [
          224592.95,
          242020.56,
          271812.5,
          283132.74,
          280807.43,
          196030.29
         ],
         "yaxis": "y"
        },
        {
         "hovertemplate": "county_99=osceola<br>yeer=%{x}<br>value=%{y}<extra></extra>",
         "legendgroup": "osceola",
         "line": {
          "color": "#B6E880",
          "dash": "solid"
         },
         "marker": {
          "symbol": "circle"
         },
         "mode": "lines",
         "name": "osceola",
         "orientation": "v",
         "showlegend": true,
         "type": "scatter",
         "x": [
          2012,
          2013,
          2014,
          2015,
          2016,
          2017
         ],
         "xaxis": "x",
         "y": [
          219937.01,
          220987.87,
          238594.03,
          259985.23,
          227107,
          163723.21
         ],
         "yaxis": "y"
        },
        {
         "hovertemplate": "county_99=worth<br>yeer=%{x}<br>value=%{y}<extra></extra>",
         "legendgroup": "worth",
         "line": {
          "color": "#FF97FF",
          "dash": "solid"
         },
         "marker": {
          "symbol": "circle"
         },
         "mode": "lines",
         "name": "worth",
         "orientation": "v",
         "showlegend": true,
         "type": "scatter",
         "x": [
          2012,
          2013,
          2014,
          2015,
          2016,
          2017
         ],
         "xaxis": "x",
         "y": [
          166372.17,
          216661.51,
          237997.77,
          258916.55,
          212317.15,
          170045.33
         ],
         "yaxis": "y"
        },
        {
         "hovertemplate": "county_99=louisa<br>yeer=%{x}<br>value=%{y}<extra></extra>",
         "legendgroup": "louisa",
         "line": {
          "color": "#FECB52",
          "dash": "solid"
         },
         "marker": {
          "symbol": "circle"
         },
         "mode": "lines",
         "name": "louisa",
         "orientation": "v",
         "showlegend": true,
         "type": "scatter",
         "x": [
          2012,
          2013,
          2014,
          2015,
          2016,
          2017
         ],
         "xaxis": "x",
         "y": [
          238508.22,
          232094.26,
          236410.23,
          232427.95,
          155274.5,
          122950.47
         ],
         "yaxis": "y"
        },
        {
         "hovertemplate": "county_99=van buren<br>yeer=%{x}<br>value=%{y}<extra></extra>",
         "legendgroup": "van buren",
         "line": {
          "color": "#636efa",
          "dash": "solid"
         },
         "marker": {
          "symbol": "circle"
         },
         "mode": "lines",
         "name": "van buren",
         "orientation": "v",
         "showlegend": true,
         "type": "scatter",
         "x": [
          2012,
          2013,
          2014,
          2015,
          2016,
          2017
         ],
         "xaxis": "x",
         "y": [
          189865.97,
          185716.51,
          179516.67,
          174245.69,
          187612.68,
          110732.75
         ],
         "yaxis": "y"
        },
        {
         "hovertemplate": "county_99=decatur<br>yeer=%{x}<br>value=%{y}<extra></extra>",
         "legendgroup": "decatur",
         "line": {
          "color": "#EF553B",
          "dash": "solid"
         },
         "marker": {
          "symbol": "circle"
         },
         "mode": "lines",
         "name": "decatur",
         "orientation": "v",
         "showlegend": true,
         "type": "scatter",
         "x": [
          2012,
          2013,
          2014,
          2015,
          2016,
          2017
         ],
         "xaxis": "x",
         "y": [
          152663.26,
          168167.12,
          168284.41,
          177470.88,
          149568.89,
          101592.37
         ],
         "yaxis": "y"
        },
        {
         "hovertemplate": "county_99=audubon<br>yeer=%{x}<br>value=%{y}<extra></extra>",
         "legendgroup": "audubon",
         "line": {
          "color": "#00cc96",
          "dash": "solid"
         },
         "marker": {
          "symbol": "circle"
         },
         "mode": "lines",
         "name": "audubon",
         "orientation": "v",
         "showlegend": true,
         "type": "scatter",
         "x": [
          2012,
          2013,
          2014,
          2015,
          2016,
          2017
         ],
         "xaxis": "x",
         "y": [
          163577.03,
          162023.28,
          168113.6,
          173849.23,
          127859.46,
          60870.62
         ],
         "yaxis": "y"
        },
        {
         "hovertemplate": "county_99=ringgold<br>yeer=%{x}<br>value=%{y}<extra></extra>",
         "legendgroup": "ringgold",
         "line": {
          "color": "#ab63fa",
          "dash": "solid"
         },
         "marker": {
          "symbol": "circle"
         },
         "mode": "lines",
         "name": "ringgold",
         "orientation": "v",
         "showlegend": true,
         "type": "scatter",
         "x": [
          2012,
          2013,
          2014,
          2015,
          2016,
          2017
         ],
         "xaxis": "x",
         "y": [
          130629.48,
          141162.23,
          142328.97,
          138680.81,
          143559.15,
          102887.3
         ],
         "yaxis": "y"
        },
        {
         "hovertemplate": "county_99=keokuk<br>yeer=%{x}<br>value=%{y}<extra></extra>",
         "legendgroup": "keokuk",
         "line": {
          "color": "#FFA15A",
          "dash": "solid"
         },
         "marker": {
          "symbol": "circle"
         },
         "mode": "lines",
         "name": "keokuk",
         "orientation": "v",
         "showlegend": true,
         "type": "scatter",
         "x": [
          2012,
          2013,
          2014,
          2015,
          2016,
          2017
         ],
         "xaxis": "x",
         "y": [
          123192.69,
          142893.28,
          146252.63,
          149560.78,
          93633.41,
          79529.83
         ],
         "yaxis": "y"
        },
        {
         "hovertemplate": "county_99=taylor<br>yeer=%{x}<br>value=%{y}<extra></extra>",
         "legendgroup": "taylor",
         "line": {
          "color": "#19d3f3",
          "dash": "solid"
         },
         "marker": {
          "symbol": "circle"
         },
         "mode": "lines",
         "name": "taylor",
         "orientation": "v",
         "showlegend": true,
         "type": "scatter",
         "x": [
          2012,
          2013,
          2014,
          2015,
          2016,
          2017
         ],
         "xaxis": "x",
         "y": [
          99613.74,
          101833.15,
          98038.53,
          110598.35,
          114145.24,
          59049.25
         ],
         "yaxis": "y"
        },
        {
         "hovertemplate": "county_99=wayne<br>yeer=%{x}<br>value=%{y}<extra></extra>",
         "legendgroup": "wayne",
         "line": {
          "color": "#FF6692",
          "dash": "solid"
         },
         "marker": {
          "symbol": "circle"
         },
         "mode": "lines",
         "name": "wayne",
         "orientation": "v",
         "showlegend": true,
         "type": "scatter",
         "x": [
          2012,
          2013,
          2014,
          2015,
          2016,
          2017
         ],
         "xaxis": "x",
         "y": [
          161736.16,
          85065.15,
          70010.95,
          105438.35,
          89033.38,
          69905.57
         ],
         "yaxis": "y"
        },
        {
         "hovertemplate": "county_99=davis<br>yeer=%{x}<br>value=%{y}<extra></extra>",
         "legendgroup": "davis",
         "line": {
          "color": "#B6E880",
          "dash": "solid"
         },
         "marker": {
          "symbol": "circle"
         },
         "mode": "lines",
         "name": "davis",
         "orientation": "v",
         "showlegend": true,
         "type": "scatter",
         "x": [
          2012,
          2013,
          2014,
          2015,
          2016,
          2017
         ],
         "xaxis": "x",
         "y": [
          86467.15,
          93660.91,
          97975.29,
          96185.96,
          93263.14,
          64030.27
         ],
         "yaxis": "y"
        },
        {
         "hovertemplate": "county_99=adams<br>yeer=%{x}<br>value=%{y}<extra></extra>",
         "legendgroup": "adams",
         "line": {
          "color": "#FF97FF",
          "dash": "solid"
         },
         "marker": {
          "symbol": "circle"
         },
         "mode": "lines",
         "name": "adams",
         "orientation": "v",
         "showlegend": true,
         "type": "scatter",
         "x": [
          2012,
          2013,
          2014,
          2015,
          2016,
          2017
         ],
         "xaxis": "x",
         "y": [
          96674.89,
          91286.24,
          90524.22,
          100596.8,
          75070.97,
          44090.55
         ],
         "yaxis": "y"
        },
        {
         "hovertemplate": "county_99=fremont<br>yeer=%{x}<br>value=%{y}<extra></extra>",
         "legendgroup": "fremont",
         "line": {
          "color": "#FECB52",
          "dash": "solid"
         },
         "marker": {
          "symbol": "circle"
         },
         "mode": "lines",
         "name": "fremont",
         "orientation": "v",
         "showlegend": true,
         "type": "scatter",
         "x": [
          2012,
          2013,
          2014,
          2015,
          2016,
          2017
         ],
         "xaxis": "x",
         "y": [
          18793.59,
          25211.4,
          11229.36,
          24029.55,
          29947.61,
          30747.91
         ],
         "yaxis": "y"
        }
       ],
       "layout": {
        "legend": {
         "title": {
          "text": "county_99"
         },
         "tracegroupgap": 0
        },
        "template": {
         "data": {
          "bar": [
           {
            "error_x": {
             "color": "#2a3f5f"
            },
            "error_y": {
             "color": "#2a3f5f"
            },
            "marker": {
             "line": {
              "color": "#E5ECF6",
              "width": 0.5
             },
             "pattern": {
              "fillmode": "overlay",
              "size": 10,
              "solidity": 0.2
             }
            },
            "type": "bar"
           }
          ],
          "barpolar": [
           {
            "marker": {
             "line": {
              "color": "#E5ECF6",
              "width": 0.5
             },
             "pattern": {
              "fillmode": "overlay",
              "size": 10,
              "solidity": 0.2
             }
            },
            "type": "barpolar"
           }
          ],
          "carpet": [
           {
            "aaxis": {
             "endlinecolor": "#2a3f5f",
             "gridcolor": "white",
             "linecolor": "white",
             "minorgridcolor": "white",
             "startlinecolor": "#2a3f5f"
            },
            "baxis": {
             "endlinecolor": "#2a3f5f",
             "gridcolor": "white",
             "linecolor": "white",
             "minorgridcolor": "white",
             "startlinecolor": "#2a3f5f"
            },
            "type": "carpet"
           }
          ],
          "choropleth": [
           {
            "colorbar": {
             "outlinewidth": 0,
             "ticks": ""
            },
            "type": "choropleth"
           }
          ],
          "contour": [
           {
            "colorbar": {
             "outlinewidth": 0,
             "ticks": ""
            },
            "colorscale": [
             [
              0,
              "#0d0887"
             ],
             [
              0.1111111111111111,
              "#46039f"
             ],
             [
              0.2222222222222222,
              "#7201a8"
             ],
             [
              0.3333333333333333,
              "#9c179e"
             ],
             [
              0.4444444444444444,
              "#bd3786"
             ],
             [
              0.5555555555555556,
              "#d8576b"
             ],
             [
              0.6666666666666666,
              "#ed7953"
             ],
             [
              0.7777777777777778,
              "#fb9f3a"
             ],
             [
              0.8888888888888888,
              "#fdca26"
             ],
             [
              1,
              "#f0f921"
             ]
            ],
            "type": "contour"
           }
          ],
          "contourcarpet": [
           {
            "colorbar": {
             "outlinewidth": 0,
             "ticks": ""
            },
            "type": "contourcarpet"
           }
          ],
          "heatmap": [
           {
            "colorbar": {
             "outlinewidth": 0,
             "ticks": ""
            },
            "colorscale": [
             [
              0,
              "#0d0887"
             ],
             [
              0.1111111111111111,
              "#46039f"
             ],
             [
              0.2222222222222222,
              "#7201a8"
             ],
             [
              0.3333333333333333,
              "#9c179e"
             ],
             [
              0.4444444444444444,
              "#bd3786"
             ],
             [
              0.5555555555555556,
              "#d8576b"
             ],
             [
              0.6666666666666666,
              "#ed7953"
             ],
             [
              0.7777777777777778,
              "#fb9f3a"
             ],
             [
              0.8888888888888888,
              "#fdca26"
             ],
             [
              1,
              "#f0f921"
             ]
            ],
            "type": "heatmap"
           }
          ],
          "heatmapgl": [
           {
            "colorbar": {
             "outlinewidth": 0,
             "ticks": ""
            },
            "colorscale": [
             [
              0,
              "#0d0887"
             ],
             [
              0.1111111111111111,
              "#46039f"
             ],
             [
              0.2222222222222222,
              "#7201a8"
             ],
             [
              0.3333333333333333,
              "#9c179e"
             ],
             [
              0.4444444444444444,
              "#bd3786"
             ],
             [
              0.5555555555555556,
              "#d8576b"
             ],
             [
              0.6666666666666666,
              "#ed7953"
             ],
             [
              0.7777777777777778,
              "#fb9f3a"
             ],
             [
              0.8888888888888888,
              "#fdca26"
             ],
             [
              1,
              "#f0f921"
             ]
            ],
            "type": "heatmapgl"
           }
          ],
          "histogram": [
           {
            "marker": {
             "pattern": {
              "fillmode": "overlay",
              "size": 10,
              "solidity": 0.2
             }
            },
            "type": "histogram"
           }
          ],
          "histogram2d": [
           {
            "colorbar": {
             "outlinewidth": 0,
             "ticks": ""
            },
            "colorscale": [
             [
              0,
              "#0d0887"
             ],
             [
              0.1111111111111111,
              "#46039f"
             ],
             [
              0.2222222222222222,
              "#7201a8"
             ],
             [
              0.3333333333333333,
              "#9c179e"
             ],
             [
              0.4444444444444444,
              "#bd3786"
             ],
             [
              0.5555555555555556,
              "#d8576b"
             ],
             [
              0.6666666666666666,
              "#ed7953"
             ],
             [
              0.7777777777777778,
              "#fb9f3a"
             ],
             [
              0.8888888888888888,
              "#fdca26"
             ],
             [
              1,
              "#f0f921"
             ]
            ],
            "type": "histogram2d"
           }
          ],
          "histogram2dcontour": [
           {
            "colorbar": {
             "outlinewidth": 0,
             "ticks": ""
            },
            "colorscale": [
             [
              0,
              "#0d0887"
             ],
             [
              0.1111111111111111,
              "#46039f"
             ],
             [
              0.2222222222222222,
              "#7201a8"
             ],
             [
              0.3333333333333333,
              "#9c179e"
             ],
             [
              0.4444444444444444,
              "#bd3786"
             ],
             [
              0.5555555555555556,
              "#d8576b"
             ],
             [
              0.6666666666666666,
              "#ed7953"
             ],
             [
              0.7777777777777778,
              "#fb9f3a"
             ],
             [
              0.8888888888888888,
              "#fdca26"
             ],
             [
              1,
              "#f0f921"
             ]
            ],
            "type": "histogram2dcontour"
           }
          ],
          "mesh3d": [
           {
            "colorbar": {
             "outlinewidth": 0,
             "ticks": ""
            },
            "type": "mesh3d"
           }
          ],
          "parcoords": [
           {
            "line": {
             "colorbar": {
              "outlinewidth": 0,
              "ticks": ""
             }
            },
            "type": "parcoords"
           }
          ],
          "pie": [
           {
            "automargin": true,
            "type": "pie"
           }
          ],
          "scatter": [
           {
            "marker": {
             "colorbar": {
              "outlinewidth": 0,
              "ticks": ""
             }
            },
            "type": "scatter"
           }
          ],
          "scatter3d": [
           {
            "line": {
             "colorbar": {
              "outlinewidth": 0,
              "ticks": ""
             }
            },
            "marker": {
             "colorbar": {
              "outlinewidth": 0,
              "ticks": ""
             }
            },
            "type": "scatter3d"
           }
          ],
          "scattercarpet": [
           {
            "marker": {
             "colorbar": {
              "outlinewidth": 0,
              "ticks": ""
             }
            },
            "type": "scattercarpet"
           }
          ],
          "scattergeo": [
           {
            "marker": {
             "colorbar": {
              "outlinewidth": 0,
              "ticks": ""
             }
            },
            "type": "scattergeo"
           }
          ],
          "scattergl": [
           {
            "marker": {
             "colorbar": {
              "outlinewidth": 0,
              "ticks": ""
             }
            },
            "type": "scattergl"
           }
          ],
          "scattermapbox": [
           {
            "marker": {
             "colorbar": {
              "outlinewidth": 0,
              "ticks": ""
             }
            },
            "type": "scattermapbox"
           }
          ],
          "scatterpolar": [
           {
            "marker": {
             "colorbar": {
              "outlinewidth": 0,
              "ticks": ""
             }
            },
            "type": "scatterpolar"
           }
          ],
          "scatterpolargl": [
           {
            "marker": {
             "colorbar": {
              "outlinewidth": 0,
              "ticks": ""
             }
            },
            "type": "scatterpolargl"
           }
          ],
          "scatterternary": [
           {
            "marker": {
             "colorbar": {
              "outlinewidth": 0,
              "ticks": ""
             }
            },
            "type": "scatterternary"
           }
          ],
          "surface": [
           {
            "colorbar": {
             "outlinewidth": 0,
             "ticks": ""
            },
            "colorscale": [
             [
              0,
              "#0d0887"
             ],
             [
              0.1111111111111111,
              "#46039f"
             ],
             [
              0.2222222222222222,
              "#7201a8"
             ],
             [
              0.3333333333333333,
              "#9c179e"
             ],
             [
              0.4444444444444444,
              "#bd3786"
             ],
             [
              0.5555555555555556,
              "#d8576b"
             ],
             [
              0.6666666666666666,
              "#ed7953"
             ],
             [
              0.7777777777777778,
              "#fb9f3a"
             ],
             [
              0.8888888888888888,
              "#fdca26"
             ],
             [
              1,
              "#f0f921"
             ]
            ],
            "type": "surface"
           }
          ],
          "table": [
           {
            "cells": {
             "fill": {
              "color": "#EBF0F8"
             },
             "line": {
              "color": "white"
             }
            },
            "header": {
             "fill": {
              "color": "#C8D4E3"
             },
             "line": {
              "color": "white"
             }
            },
            "type": "table"
           }
          ]
         },
         "layout": {
          "annotationdefaults": {
           "arrowcolor": "#2a3f5f",
           "arrowhead": 0,
           "arrowwidth": 1
          },
          "autotypenumbers": "strict",
          "coloraxis": {
           "colorbar": {
            "outlinewidth": 0,
            "ticks": ""
           }
          },
          "colorscale": {
           "diverging": [
            [
             0,
             "#8e0152"
            ],
            [
             0.1,
             "#c51b7d"
            ],
            [
             0.2,
             "#de77ae"
            ],
            [
             0.3,
             "#f1b6da"
            ],
            [
             0.4,
             "#fde0ef"
            ],
            [
             0.5,
             "#f7f7f7"
            ],
            [
             0.6,
             "#e6f5d0"
            ],
            [
             0.7,
             "#b8e186"
            ],
            [
             0.8,
             "#7fbc41"
            ],
            [
             0.9,
             "#4d9221"
            ],
            [
             1,
             "#276419"
            ]
           ],
           "sequential": [
            [
             0,
             "#0d0887"
            ],
            [
             0.1111111111111111,
             "#46039f"
            ],
            [
             0.2222222222222222,
             "#7201a8"
            ],
            [
             0.3333333333333333,
             "#9c179e"
            ],
            [
             0.4444444444444444,
             "#bd3786"
            ],
            [
             0.5555555555555556,
             "#d8576b"
            ],
            [
             0.6666666666666666,
             "#ed7953"
            ],
            [
             0.7777777777777778,
             "#fb9f3a"
            ],
            [
             0.8888888888888888,
             "#fdca26"
            ],
            [
             1,
             "#f0f921"
            ]
           ],
           "sequentialminus": [
            [
             0,
             "#0d0887"
            ],
            [
             0.1111111111111111,
             "#46039f"
            ],
            [
             0.2222222222222222,
             "#7201a8"
            ],
            [
             0.3333333333333333,
             "#9c179e"
            ],
            [
             0.4444444444444444,
             "#bd3786"
            ],
            [
             0.5555555555555556,
             "#d8576b"
            ],
            [
             0.6666666666666666,
             "#ed7953"
            ],
            [
             0.7777777777777778,
             "#fb9f3a"
            ],
            [
             0.8888888888888888,
             "#fdca26"
            ],
            [
             1,
             "#f0f921"
            ]
           ]
          },
          "colorway": [
           "#636efa",
           "#EF553B",
           "#00cc96",
           "#ab63fa",
           "#FFA15A",
           "#19d3f3",
           "#FF6692",
           "#B6E880",
           "#FF97FF",
           "#FECB52"
          ],
          "font": {
           "color": "#2a3f5f"
          },
          "geo": {
           "bgcolor": "white",
           "lakecolor": "white",
           "landcolor": "#E5ECF6",
           "showlakes": true,
           "showland": true,
           "subunitcolor": "white"
          },
          "hoverlabel": {
           "align": "left"
          },
          "hovermode": "closest",
          "mapbox": {
           "style": "light"
          },
          "paper_bgcolor": "white",
          "plot_bgcolor": "#E5ECF6",
          "polar": {
           "angularaxis": {
            "gridcolor": "white",
            "linecolor": "white",
            "ticks": ""
           },
           "bgcolor": "#E5ECF6",
           "radialaxis": {
            "gridcolor": "white",
            "linecolor": "white",
            "ticks": ""
           }
          },
          "scene": {
           "xaxis": {
            "backgroundcolor": "#E5ECF6",
            "gridcolor": "white",
            "gridwidth": 2,
            "linecolor": "white",
            "showbackground": true,
            "ticks": "",
            "zerolinecolor": "white"
           },
           "yaxis": {
            "backgroundcolor": "#E5ECF6",
            "gridcolor": "white",
            "gridwidth": 2,
            "linecolor": "white",
            "showbackground": true,
            "ticks": "",
            "zerolinecolor": "white"
           },
           "zaxis": {
            "backgroundcolor": "#E5ECF6",
            "gridcolor": "white",
            "gridwidth": 2,
            "linecolor": "white",
            "showbackground": true,
            "ticks": "",
            "zerolinecolor": "white"
           }
          },
          "shapedefaults": {
           "line": {
            "color": "#2a3f5f"
           }
          },
          "ternary": {
           "aaxis": {
            "gridcolor": "white",
            "linecolor": "white",
            "ticks": ""
           },
           "baxis": {
            "gridcolor": "white",
            "linecolor": "white",
            "ticks": ""
           },
           "bgcolor": "#E5ECF6",
           "caxis": {
            "gridcolor": "white",
            "linecolor": "white",
            "ticks": ""
           }
          },
          "title": {
           "x": 0.05
          },
          "xaxis": {
           "automargin": true,
           "gridcolor": "white",
           "linecolor": "white",
           "ticks": "",
           "title": {
            "standoff": 15
           },
           "zerolinecolor": "white",
           "zerolinewidth": 2
          },
          "yaxis": {
           "automargin": true,
           "gridcolor": "white",
           "linecolor": "white",
           "ticks": "",
           "title": {
            "standoff": 15
           },
           "zerolinecolor": "white",
           "zerolinewidth": 2
          }
         }
        },
        "title": {
         "text": "Revenue By County (Log Scale)"
        },
        "xaxis": {
         "anchor": "y",
         "domain": [
          0,
          1
         ],
         "title": {
          "text": "yeer"
         }
        },
        "yaxis": {
         "anchor": "x",
         "domain": [
          0,
          1
         ],
         "title": {
          "text": "value"
         },
         "type": "log"
        }
       }
      },
      "text/html": [
       "<div>                            <div id=\"7e5ce8b4-9999-4f85-a2cb-ad374ec31f1d\" class=\"plotly-graph-div\" style=\"height:525px; width:100%;\"></div>            <script type=\"text/javascript\">                require([\"plotly\"], function(Plotly) {                    window.PLOTLYENV=window.PLOTLYENV || {};                                    if (document.getElementById(\"7e5ce8b4-9999-4f85-a2cb-ad374ec31f1d\")) {                    Plotly.newPlot(                        \"7e5ce8b4-9999-4f85-a2cb-ad374ec31f1d\",                        [{\"hovertemplate\":\"county_99=polk<br>yeer=%{x}<br>value=%{y}<extra></extra>\",\"legendgroup\":\"polk\",\"line\":{\"color\":\"#636efa\",\"dash\":\"solid\"},\"marker\":{\"symbol\":\"circle\"},\"mode\":\"lines\",\"name\":\"polk\",\"orientation\":\"v\",\"showlegend\":true,\"x\":[2012.0,2013.0,2014.0,2015.0,2016.0,2017.0],\"xaxis\":\"x\",\"y\":[55190112.1,56057048.32,59476777.54,63748122.62,54529157.43,31033373.49],\"yaxis\":\"y\",\"type\":\"scatter\"},{\"hovertemplate\":\"county_99=linn<br>yeer=%{x}<br>value=%{y}<extra></extra>\",\"legendgroup\":\"linn\",\"line\":{\"color\":\"#EF553B\",\"dash\":\"solid\"},\"marker\":{\"symbol\":\"circle\"},\"mode\":\"lines\",\"name\":\"linn\",\"orientation\":\"v\",\"showlegend\":true,\"x\":[2012.0,2013.0,2014.0,2015.0,2016.0,2017.0],\"xaxis\":\"x\",\"y\":[22717019.55,23224587.71,23575832.62,24989946.22,21088920.22,12253686.74],\"yaxis\":\"y\",\"type\":\"scatter\"},{\"hovertemplate\":\"county_99=scott<br>yeer=%{x}<br>value=%{y}<extra></extra>\",\"legendgroup\":\"scott\",\"line\":{\"color\":\"#00cc96\",\"dash\":\"solid\"},\"marker\":{\"symbol\":\"circle\"},\"mode\":\"lines\",\"name\":\"scott\",\"orientation\":\"v\",\"showlegend\":true,\"x\":[2012.0,2013.0,2014.0,2015.0,2016.0,2017.0],\"xaxis\":\"x\",\"y\":[18456818.97,18384930.01,19538877.03,20422368.43,17052264.43,9921419.02],\"yaxis\":\"y\",\"type\":\"scatter\"},{\"hovertemplate\":\"county_99=johnson<br>yeer=%{x}<br>value=%{y}<extra></extra>\",\"legendgroup\":\"johnson\",\"line\":{\"color\":\"#ab63fa\",\"dash\":\"solid\"},\"marker\":{\"symbol\":\"circle\"},\"mode\":\"lines\",\"name\":\"johnson\",\"orientation\":\"v\",\"showlegend\":true,\"x\":[2012.0,2013.0,2014.0,2015.0,2016.0,2017.0],\"xaxis\":\"x\",\"y\":[15031775.38,15266328.93,16657159.53,17673297.64,14255250.59,8047171.42],\"yaxis\":\"y\",\"type\":\"scatter\"},{\"hovertemplate\":\"county_99=black hawk<br>yeer=%{x}<br>value=%{y}<extra></extra>\",\"legendgroup\":\"black hawk\",\"line\":{\"color\":\"#FFA15A\",\"dash\":\"solid\"},\"marker\":{\"symbol\":\"circle\"},\"mode\":\"lines\",\"name\":\"black hawk\",\"orientation\":\"v\",\"showlegend\":true,\"x\":[2012.0,2013.0,2014.0,2015.0,2016.0,2017.0],\"xaxis\":\"x\",\"y\":[15216821.8,15107130.74,15833551.46,16064552.82,14023188.91,8632143.62],\"yaxis\":\"y\",\"type\":\"scatter\"},{\"hovertemplate\":\"county_99=pottawattamie<br>yeer=%{x}<br>value=%{y}<extra></extra>\",\"legendgroup\":\"pottawattamie\",\"line\":{\"color\":\"#19d3f3\",\"dash\":\"solid\"},\"marker\":{\"symbol\":\"circle\"},\"mode\":\"lines\",\"name\":\"pottawattamie\",\"orientation\":\"v\",\"showlegend\":true,\"x\":[2012.0,2013.0,2014.0,2015.0,2016.0,2017.0],\"xaxis\":\"x\",\"y\":[9098306.49,9138901.33,9667883.18,10056843.86,8448306.95,5061601.28],\"yaxis\":\"y\",\"type\":\"scatter\"},{\"hovertemplate\":\"county_99=woodbury<br>yeer=%{x}<br>value=%{y}<extra></extra>\",\"legendgroup\":\"woodbury\",\"line\":{\"color\":\"#FF6692\",\"dash\":\"solid\"},\"marker\":{\"symbol\":\"circle\"},\"mode\":\"lines\",\"name\":\"woodbury\",\"orientation\":\"v\",\"showlegend\":true,\"x\":[2012.0,2013.0,2014.0,2015.0,2016.0,2017.0],\"xaxis\":\"x\",\"y\":[8502715.94,8720322.41,9260145.06,10115238.44,8324114.76,5387746.09],\"yaxis\":\"y\",\"type\":\"scatter\"},{\"hovertemplate\":\"county_99=story<br>yeer=%{x}<br>value=%{y}<extra></extra>\",\"legendgroup\":\"story\",\"line\":{\"color\":\"#B6E880\",\"dash\":\"solid\"},\"marker\":{\"symbol\":\"circle\"},\"mode\":\"lines\",\"name\":\"story\",\"orientation\":\"v\",\"showlegend\":true,\"x\":[2012.0,2013.0,2014.0,2015.0,2016.0,2017.0],\"xaxis\":\"x\",\"y\":[8029406.39,7910476.99,8391239.43,8559325.44,7553817.91,4523108.9],\"yaxis\":\"y\",\"type\":\"scatter\"},{\"hovertemplate\":\"county_99=dubuque<br>yeer=%{x}<br>value=%{y}<extra></extra>\",\"legendgroup\":\"dubuque\",\"line\":{\"color\":\"#FF97FF\",\"dash\":\"solid\"},\"marker\":{\"symbol\":\"circle\"},\"mode\":\"lines\",\"name\":\"dubuque\",\"orientation\":\"v\",\"showlegend\":true,\"x\":[2012.0,2013.0,2014.0,2015.0,2016.0,2017.0],\"xaxis\":\"x\",\"y\":[8007198.95,7850343.32,8145792.36,8710159.48,7365138.72,4633025.91],\"yaxis\":\"y\",\"type\":\"scatter\"},{\"hovertemplate\":\"county_99=cerro gordo<br>yeer=%{x}<br>value=%{y}<extra></extra>\",\"legendgroup\":\"cerro gordo\",\"line\":{\"color\":\"#FECB52\",\"dash\":\"solid\"},\"marker\":{\"symbol\":\"circle\"},\"mode\":\"lines\",\"name\":\"cerro gordo\",\"orientation\":\"v\",\"showlegend\":true,\"x\":[2012.0,2013.0,2014.0,2015.0,2016.0,2017.0],\"xaxis\":\"x\",\"y\":[5434307.18,5329229.12,5633811.63,5751979.57,4995862.39,3054378.48],\"yaxis\":\"y\",\"type\":\"scatter\"},{\"hovertemplate\":\"county_99=dallas<br>yeer=%{x}<br>value=%{y}<extra></extra>\",\"legendgroup\":\"dallas\",\"line\":{\"color\":\"#636efa\",\"dash\":\"solid\"},\"marker\":{\"symbol\":\"circle\"},\"mode\":\"lines\",\"name\":\"dallas\",\"orientation\":\"v\",\"showlegend\":true,\"x\":[2012.0,2013.0,2014.0,2015.0,2016.0,2017.0],\"xaxis\":\"x\",\"y\":[4150888.35,4734861.59,5827022.8,5562538.96,4161028.01,1590234.88],\"yaxis\":\"y\",\"type\":\"scatter\"},{\"hovertemplate\":\"county_99=dickinson<br>yeer=%{x}<br>value=%{y}<extra></extra>\",\"legendgroup\":\"dickinson\",\"line\":{\"color\":\"#EF553B\",\"dash\":\"solid\"},\"marker\":{\"symbol\":\"circle\"},\"mode\":\"lines\",\"name\":\"dickinson\",\"orientation\":\"v\",\"showlegend\":true,\"x\":[2012.0,2013.0,2014.0,2015.0,2016.0,2017.0],\"xaxis\":\"x\",\"y\":[3710672.72,3682930.49,3667009.21,3967311.85,3776698.86,2097236.36],\"yaxis\":\"y\",\"type\":\"scatter\"},{\"hovertemplate\":\"county_99=des moines<br>yeer=%{x}<br>value=%{y}<extra></extra>\",\"legendgroup\":\"des moines\",\"line\":{\"color\":\"#00cc96\",\"dash\":\"solid\"},\"marker\":{\"symbol\":\"circle\"},\"mode\":\"lines\",\"name\":\"des moines\",\"orientation\":\"v\",\"showlegend\":true,\"x\":[2012.0,2013.0,2014.0,2015.0,2016.0,2017.0],\"xaxis\":\"x\",\"y\":[3116052.59,3107413.21,3570182.82,3852786.75,3413077.38,2185138.38],\"yaxis\":\"y\",\"type\":\"scatter\"},{\"hovertemplate\":\"county_99=clinton<br>yeer=%{x}<br>value=%{y}<extra></extra>\",\"legendgroup\":\"clinton\",\"line\":{\"color\":\"#ab63fa\",\"dash\":\"solid\"},\"marker\":{\"symbol\":\"circle\"},\"mode\":\"lines\",\"name\":\"clinton\",\"orientation\":\"v\",\"showlegend\":true,\"x\":[2012.0,2013.0,2014.0,2015.0,2016.0,2017.0],\"xaxis\":\"x\",\"y\":[3286709.16,3288669.49,3332356.55,3401524.7,2978299.58,2089316.72],\"yaxis\":\"y\",\"type\":\"scatter\"},{\"hovertemplate\":\"county_99=lee<br>yeer=%{x}<br>value=%{y}<extra></extra>\",\"legendgroup\":\"lee\",\"line\":{\"color\":\"#FFA15A\",\"dash\":\"solid\"},\"marker\":{\"symbol\":\"circle\"},\"mode\":\"lines\",\"name\":\"lee\",\"orientation\":\"v\",\"showlegend\":true,\"x\":[2012.0,2013.0,2014.0,2015.0,2016.0,2017.0],\"xaxis\":\"x\",\"y\":[3027583.05,2977703.5,3399047.77,3876840.25,3101665.84,1790741.14],\"yaxis\":\"y\",\"type\":\"scatter\"},{\"hovertemplate\":\"county_99=webster<br>yeer=%{x}<br>value=%{y}<extra></extra>\",\"legendgroup\":\"webster\",\"line\":{\"color\":\"#19d3f3\",\"dash\":\"solid\"},\"marker\":{\"symbol\":\"circle\"},\"mode\":\"lines\",\"name\":\"webster\",\"orientation\":\"v\",\"showlegend\":true,\"x\":[2012.0,2013.0,2014.0,2015.0,2016.0,2017.0],\"xaxis\":\"x\",\"y\":[2835896.75,3085081.36,2887574.26,3283169.41,2942784.53,1932832.48],\"yaxis\":\"y\",\"type\":\"scatter\"},{\"hovertemplate\":\"county_99=muscatine<br>yeer=%{x}<br>value=%{y}<extra></extra>\",\"legendgroup\":\"muscatine\",\"line\":{\"color\":\"#FF6692\",\"dash\":\"solid\"},\"marker\":{\"symbol\":\"circle\"},\"mode\":\"lines\",\"name\":\"muscatine\",\"orientation\":\"v\",\"showlegend\":true,\"x\":[2012.0,2013.0,2014.0,2015.0,2016.0,2017.0],\"xaxis\":\"x\",\"y\":[2744851.31,2817560.97,2964742.92,3023950.74,2757048.16,1844274.87],\"yaxis\":\"y\",\"type\":\"scatter\"},{\"hovertemplate\":\"county_99=marshall<br>yeer=%{x}<br>value=%{y}<extra></extra>\",\"legendgroup\":\"marshall\",\"line\":{\"color\":\"#B6E880\",\"dash\":\"solid\"},\"marker\":{\"symbol\":\"circle\"},\"mode\":\"lines\",\"name\":\"marshall\",\"orientation\":\"v\",\"showlegend\":true,\"x\":[2012.0,2013.0,2014.0,2015.0,2016.0,2017.0],\"xaxis\":\"x\",\"y\":[2712215.66,2686227.02,2729311.94,3026309.07,2773077.02,1699894.14],\"yaxis\":\"y\",\"type\":\"scatter\"},{\"hovertemplate\":\"county_99=wapello<br>yeer=%{x}<br>value=%{y}<extra></extra>\",\"legendgroup\":\"wapello\",\"line\":{\"color\":\"#FF97FF\",\"dash\":\"solid\"},\"marker\":{\"symbol\":\"circle\"},\"mode\":\"lines\",\"name\":\"wapello\",\"orientation\":\"v\",\"showlegend\":true,\"x\":[2012.0,2013.0,2014.0,2015.0,2016.0,2017.0],\"xaxis\":\"x\",\"y\":[2394581.08,2495451.02,2539000.33,2745634.87,2133475.04,1590804.83],\"yaxis\":\"y\",\"type\":\"scatter\"},{\"hovertemplate\":\"county_99=carroll<br>yeer=%{x}<br>value=%{y}<extra></extra>\",\"legendgroup\":\"carroll\",\"line\":{\"color\":\"#FECB52\",\"dash\":\"solid\"},\"marker\":{\"symbol\":\"circle\"},\"mode\":\"lines\",\"name\":\"carroll\",\"orientation\":\"v\",\"showlegend\":true,\"x\":[2012.0,2013.0,2014.0,2015.0,2016.0,2017.0],\"xaxis\":\"x\",\"y\":[2398414.69,2173263.14,2285421.8,2341824.75,1935079.13,999635.43],\"yaxis\":\"y\",\"type\":\"scatter\"},{\"hovertemplate\":\"county_99=warren<br>yeer=%{x}<br>value=%{y}<extra></extra>\",\"legendgroup\":\"warren\",\"line\":{\"color\":\"#636efa\",\"dash\":\"solid\"},\"marker\":{\"symbol\":\"circle\"},\"mode\":\"lines\",\"name\":\"warren\",\"orientation\":\"v\",\"showlegend\":true,\"x\":[2012.0,2013.0,2014.0,2015.0,2016.0,2017.0],\"xaxis\":\"x\",\"y\":[1876943.07,1943461.9,2048282.52,2350365.27,2015836.12,1487934.14],\"yaxis\":\"y\",\"type\":\"scatter\"},{\"hovertemplate\":\"county_99=marion<br>yeer=%{x}<br>value=%{y}<extra></extra>\",\"legendgroup\":\"marion\",\"line\":{\"color\":\"#EF553B\",\"dash\":\"solid\"},\"marker\":{\"symbol\":\"circle\"},\"mode\":\"lines\",\"name\":\"marion\",\"orientation\":\"v\",\"showlegend\":true,\"x\":[2012.0,2013.0,2014.0,2015.0,2016.0,2017.0],\"xaxis\":\"x\",\"y\":[1691516.8,1858281.08,1944980.54,1974697.44,1857003.62,1221340.21],\"yaxis\":\"y\",\"type\":\"scatter\"},{\"hovertemplate\":\"county_99=hardin<br>yeer=%{x}<br>value=%{y}<extra></extra>\",\"legendgroup\":\"hardin\",\"line\":{\"color\":\"#00cc96\",\"dash\":\"solid\"},\"marker\":{\"symbol\":\"circle\"},\"mode\":\"lines\",\"name\":\"hardin\",\"orientation\":\"v\",\"showlegend\":true,\"x\":[2012.0,2013.0,2014.0,2015.0,2016.0,2017.0],\"xaxis\":\"x\",\"y\":[1608075.82,1574701.54,1784257.99,1820394.05,1684998.86,1115395.53],\"yaxis\":\"y\",\"type\":\"scatter\"},{\"hovertemplate\":\"county_99=bremer<br>yeer=%{x}<br>value=%{y}<extra></extra>\",\"legendgroup\":\"bremer\",\"line\":{\"color\":\"#ab63fa\",\"dash\":\"solid\"},\"marker\":{\"symbol\":\"circle\"},\"mode\":\"lines\",\"name\":\"bremer\",\"orientation\":\"v\",\"showlegend\":true,\"x\":[2012.0,2013.0,2014.0,2015.0,2016.0,2017.0],\"xaxis\":\"x\",\"y\":[1776898.8,1761039.09,1761823.88,1794322.78,1509622.04,934050.5],\"yaxis\":\"y\",\"type\":\"scatter\"},{\"hovertemplate\":\"county_99=buena vista<br>yeer=%{x}<br>value=%{y}<extra></extra>\",\"legendgroup\":\"buena vista\",\"line\":{\"color\":\"#FFA15A\",\"dash\":\"solid\"},\"marker\":{\"symbol\":\"circle\"},\"mode\":\"lines\",\"name\":\"buena vista\",\"orientation\":\"v\",\"showlegend\":true,\"x\":[2012.0,2013.0,2014.0,2015.0,2016.0,2017.0],\"xaxis\":\"x\",\"y\":[1664076.55,1731553.39,1661424.36,1802902.99,1582622.45,948502.02],\"yaxis\":\"y\",\"type\":\"scatter\"},{\"hovertemplate\":\"county_99=jasper<br>yeer=%{x}<br>value=%{y}<extra></extra>\",\"legendgroup\":\"jasper\",\"line\":{\"color\":\"#19d3f3\",\"dash\":\"solid\"},\"marker\":{\"symbol\":\"circle\"},\"mode\":\"lines\",\"name\":\"jasper\",\"orientation\":\"v\",\"showlegend\":true,\"x\":[2012.0,2013.0,2014.0,2015.0,2016.0,2017.0],\"xaxis\":\"x\",\"y\":[1722006.36,1716299.27,1742732.31,1671867.55,1448381.59,968420.6],\"yaxis\":\"y\",\"type\":\"scatter\"},{\"hovertemplate\":\"county_99=boone<br>yeer=%{x}<br>value=%{y}<extra></extra>\",\"legendgroup\":\"boone\",\"line\":{\"color\":\"#FF6692\",\"dash\":\"solid\"},\"marker\":{\"symbol\":\"circle\"},\"mode\":\"lines\",\"name\":\"boone\",\"orientation\":\"v\",\"showlegend\":true,\"x\":[2012.0,2013.0,2014.0,2015.0,2016.0,2017.0],\"xaxis\":\"x\",\"y\":[1457656.61,1664919.58,1671568.1,1751063.03,1545574.55,1161503.89],\"yaxis\":\"y\",\"type\":\"scatter\"},{\"hovertemplate\":\"county_99=kossuth<br>yeer=%{x}<br>value=%{y}<extra></extra>\",\"legendgroup\":\"kossuth\",\"line\":{\"color\":\"#B6E880\",\"dash\":\"solid\"},\"marker\":{\"symbol\":\"circle\"},\"mode\":\"lines\",\"name\":\"kossuth\",\"orientation\":\"v\",\"showlegend\":true,\"x\":[2012.0,2013.0,2014.0,2015.0,2016.0,2017.0],\"xaxis\":\"x\",\"y\":[1602397.31,1661485.89,1735309.67,1769012.89,1406432.08,1009394.7],\"yaxis\":\"y\",\"type\":\"scatter\"},{\"hovertemplate\":\"county_99=UNKNOWN<br>yeer=%{x}<br>value=%{y}<extra></extra>\",\"legendgroup\":\"UNKNOWN\",\"line\":{\"color\":\"#FF97FF\",\"dash\":\"solid\"},\"marker\":{\"symbol\":\"circle\"},\"mode\":\"lines\",\"name\":\"UNKNOWN\",\"orientation\":\"v\",\"showlegend\":true,\"x\":[2012.0,2013.0,2014.0,2015.0,2016.0,2017.0],\"xaxis\":\"x\",\"y\":[254964.57,204524.91,104169.05,92540.85,8262314.27,82348.15],\"yaxis\":\"y\",\"type\":\"scatter\"},{\"hovertemplate\":\"county_99=plymouth<br>yeer=%{x}<br>value=%{y}<extra></extra>\",\"legendgroup\":\"plymouth\",\"line\":{\"color\":\"#FECB52\",\"dash\":\"solid\"},\"marker\":{\"symbol\":\"circle\"},\"mode\":\"lines\",\"name\":\"plymouth\",\"orientation\":\"v\",\"showlegend\":true,\"x\":[2012.0,2013.0,2014.0,2015.0,2016.0,2017.0],\"xaxis\":\"x\",\"y\":[1512916.93,1504671.73,1572071.62,1558273.49,1443319.09,1003703.82],\"yaxis\":\"y\",\"type\":\"scatter\"},{\"hovertemplate\":\"county_99=clay<br>yeer=%{x}<br>value=%{y}<extra></extra>\",\"legendgroup\":\"clay\",\"line\":{\"color\":\"#636efa\",\"dash\":\"solid\"},\"marker\":{\"symbol\":\"circle\"},\"mode\":\"lines\",\"name\":\"clay\",\"orientation\":\"v\",\"showlegend\":true,\"x\":[2012.0,2013.0,2014.0,2015.0,2016.0,2017.0],\"xaxis\":\"x\",\"y\":[1427106.77,1463129.05,1479853.53,1571856.45,1337716.01,817560.75],\"yaxis\":\"y\",\"type\":\"scatter\"},{\"hovertemplate\":\"county_99=sioux<br>yeer=%{x}<br>value=%{y}<extra></extra>\",\"legendgroup\":\"sioux\",\"line\":{\"color\":\"#EF553B\",\"dash\":\"solid\"},\"marker\":{\"symbol\":\"circle\"},\"mode\":\"lines\",\"name\":\"sioux\",\"orientation\":\"v\",\"showlegend\":true,\"x\":[2012.0,2013.0,2014.0,2015.0,2016.0,2017.0],\"xaxis\":\"x\",\"y\":[1360711.22,1477890.63,1424805.42,1502398.07,1288096.74,859255.3],\"yaxis\":\"y\",\"type\":\"scatter\"},{\"hovertemplate\":\"county_99=iowa<br>yeer=%{x}<br>value=%{y}<extra></extra>\",\"legendgroup\":\"iowa\",\"line\":{\"color\":\"#00cc96\",\"dash\":\"solid\"},\"marker\":{\"symbol\":\"circle\"},\"mode\":\"lines\",\"name\":\"iowa\",\"orientation\":\"v\",\"showlegend\":true,\"x\":[2012.0,2013.0,2014.0,2015.0,2016.0,2017.0],\"xaxis\":\"x\",\"y\":[1817734.27,1660767.69,1536444.13,1064852.78,961119.4,688931.41],\"yaxis\":\"y\",\"type\":\"scatter\"},{\"hovertemplate\":\"county_99=washington<br>yeer=%{x}<br>value=%{y}<extra></extra>\",\"legendgroup\":\"washington\",\"line\":{\"color\":\"#ab63fa\",\"dash\":\"solid\"},\"marker\":{\"symbol\":\"circle\"},\"mode\":\"lines\",\"name\":\"washington\",\"orientation\":\"v\",\"showlegend\":true,\"x\":[2012.0,2013.0,2014.0,2015.0,2016.0,2017.0],\"xaxis\":\"x\",\"y\":[1220746.44,1280723.01,1388068.73,1462246.29,1363308.34,781136.33],\"yaxis\":\"y\",\"type\":\"scatter\"},{\"hovertemplate\":\"county_99=poweshiek<br>yeer=%{x}<br>value=%{y}<extra></extra>\",\"legendgroup\":\"poweshiek\",\"line\":{\"color\":\"#FFA15A\",\"dash\":\"solid\"},\"marker\":{\"symbol\":\"circle\"},\"mode\":\"lines\",\"name\":\"poweshiek\",\"orientation\":\"v\",\"showlegend\":true,\"x\":[2012.0,2013.0,2014.0,2015.0,2016.0,2017.0],\"xaxis\":\"x\",\"y\":[1260818.16,1338820.89,1414533.39,1349652.23,1239019.79,838116.44],\"yaxis\":\"y\",\"type\":\"scatter\"},{\"hovertemplate\":\"county_99=winneshiek<br>yeer=%{x}<br>value=%{y}<extra></extra>\",\"legendgroup\":\"winneshiek\",\"line\":{\"color\":\"#19d3f3\",\"dash\":\"solid\"},\"marker\":{\"symbol\":\"circle\"},\"mode\":\"lines\",\"name\":\"winneshiek\",\"orientation\":\"v\",\"showlegend\":true,\"x\":[2012.0,2013.0,2014.0,2015.0,2016.0,2017.0],\"xaxis\":\"x\",\"y\":[1329013.68,1304110.2,1355288.84,1284923.04,1246363.91,899885.15],\"yaxis\":\"y\",\"type\":\"scatter\"},{\"hovertemplate\":\"county_99=buchanan<br>yeer=%{x}<br>value=%{y}<extra></extra>\",\"legendgroup\":\"buchanan\",\"line\":{\"color\":\"#FF6692\",\"dash\":\"solid\"},\"marker\":{\"symbol\":\"circle\"},\"mode\":\"lines\",\"name\":\"buchanan\",\"orientation\":\"v\",\"showlegend\":true,\"x\":[2012.0,2013.0,2014.0,2015.0,2016.0,2017.0],\"xaxis\":\"x\",\"y\":[1306200.0,1294292.75,1345316.93,1297984.66,1168599.25,709181.24],\"yaxis\":\"y\",\"type\":\"scatter\"},{\"hovertemplate\":\"county_99=obrien<br>yeer=%{x}<br>value=%{y}<extra></extra>\",\"legendgroup\":\"obrien\",\"line\":{\"color\":\"#B6E880\",\"dash\":\"solid\"},\"marker\":{\"symbol\":\"circle\"},\"mode\":\"lines\",\"name\":\"obrien\",\"orientation\":\"v\",\"showlegend\":true,\"x\":[2012.0,2013.0,2014.0,2015.0,2016.0,2017.0],\"xaxis\":\"x\",\"y\":[1314248.35,1198222.55,1232846.98,1273098.87,1097465.41,718342.79],\"yaxis\":\"y\",\"type\":\"scatter\"},{\"hovertemplate\":\"county_99=crawford<br>yeer=%{x}<br>value=%{y}<extra></extra>\",\"legendgroup\":\"crawford\",\"line\":{\"color\":\"#FF97FF\",\"dash\":\"solid\"},\"marker\":{\"symbol\":\"circle\"},\"mode\":\"lines\",\"name\":\"crawford\",\"orientation\":\"v\",\"showlegend\":true,\"x\":[2012.0,2013.0,2014.0,2015.0,2016.0,2017.0],\"xaxis\":\"x\",\"y\":[1287620.56,1202377.43,1287052.65,1265170.37,1061308.64,545594.23],\"yaxis\":\"y\",\"type\":\"scatter\"},{\"hovertemplate\":\"county_99=jackson<br>yeer=%{x}<br>value=%{y}<extra></extra>\",\"legendgroup\":\"jackson\",\"line\":{\"color\":\"#FECB52\",\"dash\":\"solid\"},\"marker\":{\"symbol\":\"circle\"},\"mode\":\"lines\",\"name\":\"jackson\",\"orientation\":\"v\",\"showlegend\":true,\"x\":[2012.0,2013.0,2014.0,2015.0,2016.0,2017.0],\"xaxis\":\"x\",\"y\":[1159790.05,1181949.59,1160665.14,1207416.17,1132736.83,708954.09],\"yaxis\":\"y\",\"type\":\"scatter\"},{\"hovertemplate\":\"county_99=page<br>yeer=%{x}<br>value=%{y}<extra></extra>\",\"legendgroup\":\"page\",\"line\":{\"color\":\"#636efa\",\"dash\":\"solid\"},\"marker\":{\"symbol\":\"circle\"},\"mode\":\"lines\",\"name\":\"page\",\"orientation\":\"v\",\"showlegend\":true,\"x\":[2012.0,2013.0,2014.0,2015.0,2016.0,2017.0],\"xaxis\":\"x\",\"y\":[1189220.67,1148726.23,1135061.93,1178275.96,926094.99,776505.32],\"yaxis\":\"y\",\"type\":\"scatter\"},{\"hovertemplate\":\"county_99=fayette<br>yeer=%{x}<br>value=%{y}<extra></extra>\",\"legendgroup\":\"fayette\",\"line\":{\"color\":\"#EF553B\",\"dash\":\"solid\"},\"marker\":{\"symbol\":\"circle\"},\"mode\":\"lines\",\"name\":\"fayette\",\"orientation\":\"v\",\"showlegend\":true,\"x\":[2012.0,2013.0,2014.0,2015.0,2016.0,2017.0],\"xaxis\":\"x\",\"y\":[1118145.7,1091413.95,1120694.84,1124619.0,1141616.29,676225.16],\"yaxis\":\"y\",\"type\":\"scatter\"},{\"hovertemplate\":\"county_99=cass<br>yeer=%{x}<br>value=%{y}<extra></extra>\",\"legendgroup\":\"cass\",\"line\":{\"color\":\"#00cc96\",\"dash\":\"solid\"},\"marker\":{\"symbol\":\"circle\"},\"mode\":\"lines\",\"name\":\"cass\",\"orientation\":\"v\",\"showlegend\":true,\"x\":[2012.0,2013.0,2014.0,2015.0,2016.0,2017.0],\"xaxis\":\"x\",\"y\":[1156054.73,1058351.53,1062224.34,1142073.39,1039348.64,724579.22],\"yaxis\":\"y\",\"type\":\"scatter\"},{\"hovertemplate\":\"county_99=floyd<br>yeer=%{x}<br>value=%{y}<extra></extra>\",\"legendgroup\":\"floyd\",\"line\":{\"color\":\"#ab63fa\",\"dash\":\"solid\"},\"marker\":{\"symbol\":\"circle\"},\"mode\":\"lines\",\"name\":\"floyd\",\"orientation\":\"v\",\"showlegend\":true,\"x\":[2012.0,2013.0,2014.0,2015.0,2016.0,2017.0],\"xaxis\":\"x\",\"y\":[1053915.13,1017670.96,1069348.34,1225631.24,1087696.19,702952.05],\"yaxis\":\"y\",\"type\":\"scatter\"},{\"hovertemplate\":\"county_99=jones<br>yeer=%{x}<br>value=%{y}<extra></extra>\",\"legendgroup\":\"jones\",\"line\":{\"color\":\"#FFA15A\",\"dash\":\"solid\"},\"marker\":{\"symbol\":\"circle\"},\"mode\":\"lines\",\"name\":\"jones\",\"orientation\":\"v\",\"showlegend\":true,\"x\":[2012.0,2013.0,2014.0,2015.0,2016.0,2017.0],\"xaxis\":\"x\",\"y\":[1218910.65,1150084.83,1077679.84,1015238.25,780339.38,687469.84],\"yaxis\":\"y\",\"type\":\"scatter\"},{\"hovertemplate\":\"county_99=henry<br>yeer=%{x}<br>value=%{y}<extra></extra>\",\"legendgroup\":\"henry\",\"line\":{\"color\":\"#19d3f3\",\"dash\":\"solid\"},\"marker\":{\"symbol\":\"circle\"},\"mode\":\"lines\",\"name\":\"henry\",\"orientation\":\"v\",\"showlegend\":true,\"x\":[2012.0,2013.0,2014.0,2015.0,2016.0,2017.0],\"xaxis\":\"x\",\"y\":[951255.56,1056372.11,1053207.59,1083269.58,1002315.51,680425.5],\"yaxis\":\"y\",\"type\":\"scatter\"},{\"hovertemplate\":\"county_99=mahaska<br>yeer=%{x}<br>value=%{y}<extra></extra>\",\"legendgroup\":\"mahaska\",\"line\":{\"color\":\"#FF6692\",\"dash\":\"solid\"},\"marker\":{\"symbol\":\"circle\"},\"mode\":\"lines\",\"name\":\"mahaska\",\"orientation\":\"v\",\"showlegend\":true,\"x\":[2012.0,2013.0,2014.0,2015.0,2016.0,2017.0],\"xaxis\":\"x\",\"y\":[908041.38,916465.9,949565.92,962686.79,870012.47,638986.75],\"yaxis\":\"y\",\"type\":\"scatter\"},{\"hovertemplate\":\"county_99=union<br>yeer=%{x}<br>value=%{y}<extra></extra>\",\"legendgroup\":\"union\",\"line\":{\"color\":\"#B6E880\",\"dash\":\"solid\"},\"marker\":{\"symbol\":\"circle\"},\"mode\":\"lines\",\"name\":\"union\",\"orientation\":\"v\",\"showlegend\":true,\"x\":[2012.0,2013.0,2014.0,2015.0,2016.0,2017.0],\"xaxis\":\"x\",\"y\":[850957.33,953472.71,921609.93,968807.5,900590.25,508537.34],\"yaxis\":\"y\",\"type\":\"scatter\"},{\"hovertemplate\":\"county_99=delaware<br>yeer=%{x}<br>value=%{y}<extra></extra>\",\"legendgroup\":\"delaware\",\"line\":{\"color\":\"#FF97FF\",\"dash\":\"solid\"},\"marker\":{\"symbol\":\"circle\"},\"mode\":\"lines\",\"name\":\"delaware\",\"orientation\":\"v\",\"showlegend\":true,\"x\":[2012.0,2013.0,2014.0,2015.0,2016.0,2017.0],\"xaxis\":\"x\",\"y\":[884699.06,929929.74,881656.03,871470.79,862503.57,581219.38],\"yaxis\":\"y\",\"type\":\"scatter\"},{\"hovertemplate\":\"county_99=jefferson<br>yeer=%{x}<br>value=%{y}<extra></extra>\",\"legendgroup\":\"jefferson\",\"line\":{\"color\":\"#FECB52\",\"dash\":\"solid\"},\"marker\":{\"symbol\":\"circle\"},\"mode\":\"lines\",\"name\":\"jefferson\",\"orientation\":\"v\",\"showlegend\":true,\"x\":[2012.0,2013.0,2014.0,2015.0,2016.0,2017.0],\"xaxis\":\"x\",\"y\":[746559.87,790566.53,781815.46,863813.42,852254.91,558316.2],\"yaxis\":\"y\",\"type\":\"scatter\"},{\"hovertemplate\":\"county_99=allamakee<br>yeer=%{x}<br>value=%{y}<extra></extra>\",\"legendgroup\":\"allamakee\",\"line\":{\"color\":\"#636efa\",\"dash\":\"solid\"},\"marker\":{\"symbol\":\"circle\"},\"mode\":\"lines\",\"name\":\"allamakee\",\"orientation\":\"v\",\"showlegend\":true,\"x\":[2012.0,2013.0,2014.0,2015.0,2016.0,2017.0],\"xaxis\":\"x\",\"y\":[785647.44,811512.37,795778.07,823579.28,777198.46,513366.64],\"yaxis\":\"y\",\"type\":\"scatter\"},{\"hovertemplate\":\"county_99=hamilton<br>yeer=%{x}<br>value=%{y}<extra></extra>\",\"legendgroup\":\"hamilton\",\"line\":{\"color\":\"#EF553B\",\"dash\":\"solid\"},\"marker\":{\"symbol\":\"circle\"},\"mode\":\"lines\",\"name\":\"hamilton\",\"orientation\":\"v\",\"showlegend\":true,\"x\":[2012.0,2013.0,2014.0,2015.0,2016.0,2017.0],\"xaxis\":\"x\",\"y\":[796043.77,824559.75,850255.35,850165.6,702825.34,425174.65],\"yaxis\":\"y\",\"type\":\"scatter\"},{\"hovertemplate\":\"county_99=appanoose<br>yeer=%{x}<br>value=%{y}<extra></extra>\",\"legendgroup\":\"appanoose\",\"line\":{\"color\":\"#00cc96\",\"dash\":\"solid\"},\"marker\":{\"symbol\":\"circle\"},\"mode\":\"lines\",\"name\":\"appanoose\",\"orientation\":\"v\",\"showlegend\":true,\"x\":[2012.0,2013.0,2014.0,2015.0,2016.0,2017.0],\"xaxis\":\"x\",\"y\":[687274.18,780715.27,769647.57,835381.93,743207.82,501963.78],\"yaxis\":\"y\",\"type\":\"scatter\"},{\"hovertemplate\":\"county_99=cherokee<br>yeer=%{x}<br>value=%{y}<extra></extra>\",\"legendgroup\":\"cherokee\",\"line\":{\"color\":\"#ab63fa\",\"dash\":\"solid\"},\"marker\":{\"symbol\":\"circle\"},\"mode\":\"lines\",\"name\":\"cherokee\",\"orientation\":\"v\",\"showlegend\":true,\"x\":[2012.0,2013.0,2014.0,2015.0,2016.0,2017.0],\"xaxis\":\"x\",\"y\":[711474.27,756107.26,670926.9,743338.94,679102.2,494536.6],\"yaxis\":\"y\",\"type\":\"scatter\"},{\"hovertemplate\":\"county_99=winnebago<br>yeer=%{x}<br>value=%{y}<extra></extra>\",\"legendgroup\":\"winnebago\",\"line\":{\"color\":\"#FFA15A\",\"dash\":\"solid\"},\"marker\":{\"symbol\":\"circle\"},\"mode\":\"lines\",\"name\":\"winnebago\",\"orientation\":\"v\",\"showlegend\":true,\"x\":[2012.0,2013.0,2014.0,2015.0,2016.0,2017.0],\"xaxis\":\"x\",\"y\":[628031.62,665467.71,690021.56,727026.88,711636.69,508534.88],\"yaxis\":\"y\",\"type\":\"scatter\"},{\"hovertemplate\":\"county_99=benton<br>yeer=%{x}<br>value=%{y}<extra></extra>\",\"legendgroup\":\"benton\",\"line\":{\"color\":\"#19d3f3\",\"dash\":\"solid\"},\"marker\":{\"symbol\":\"circle\"},\"mode\":\"lines\",\"name\":\"benton\",\"orientation\":\"v\",\"showlegend\":true,\"x\":[2012.0,2013.0,2014.0,2015.0,2016.0,2017.0],\"xaxis\":\"x\",\"y\":[640689.25,687998.46,698404.3,726075.75,660637.5,459306.13],\"yaxis\":\"y\",\"type\":\"scatter\"},{\"hovertemplate\":\"county_99=shelby<br>yeer=%{x}<br>value=%{y}<extra></extra>\",\"legendgroup\":\"shelby\",\"line\":{\"color\":\"#FF6692\",\"dash\":\"solid\"},\"marker\":{\"symbol\":\"circle\"},\"mode\":\"lines\",\"name\":\"shelby\",\"orientation\":\"v\",\"showlegend\":true,\"x\":[2012.0,2013.0,2014.0,2015.0,2016.0,2017.0],\"xaxis\":\"x\",\"y\":[709604.7,722370.59,792223.05,836308.77,381278.48,362116.54],\"yaxis\":\"y\",\"type\":\"scatter\"},{\"hovertemplate\":\"county_99=lyon<br>yeer=%{x}<br>value=%{y}<extra></extra>\",\"legendgroup\":\"lyon\",\"line\":{\"color\":\"#B6E880\",\"dash\":\"solid\"},\"marker\":{\"symbol\":\"circle\"},\"mode\":\"lines\",\"name\":\"lyon\",\"orientation\":\"v\",\"showlegend\":true,\"x\":[2012.0,2013.0,2014.0,2015.0,2016.0,2017.0],\"xaxis\":\"x\",\"y\":[535959.69,636165.61,702287.56,788587.32,643859.46,447444.77],\"yaxis\":\"y\",\"type\":\"scatter\"},{\"hovertemplate\":\"county_99=madison<br>yeer=%{x}<br>value=%{y}<extra></extra>\",\"legendgroup\":\"madison\",\"line\":{\"color\":\"#FF97FF\",\"dash\":\"solid\"},\"marker\":{\"symbol\":\"circle\"},\"mode\":\"lines\",\"name\":\"madison\",\"orientation\":\"v\",\"showlegend\":true,\"x\":[2012.0,2013.0,2014.0,2015.0,2016.0,2017.0],\"xaxis\":\"x\",\"y\":[565132.05,590210.08,596099.7,766306.28,729117.32,482667.3],\"yaxis\":\"y\",\"type\":\"scatter\"},{\"hovertemplate\":\"county_99=howard<br>yeer=%{x}<br>value=%{y}<extra></extra>\",\"legendgroup\":\"howard\",\"line\":{\"color\":\"#FECB52\",\"dash\":\"solid\"},\"marker\":{\"symbol\":\"circle\"},\"mode\":\"lines\",\"name\":\"howard\",\"orientation\":\"v\",\"showlegend\":true,\"x\":[2012.0,2013.0,2014.0,2015.0,2016.0,2017.0],\"xaxis\":\"x\",\"y\":[743955.23,736543.49,791056.1,710520.03,369512.41,373130.23],\"yaxis\":\"y\",\"type\":\"scatter\"},{\"hovertemplate\":\"county_99=clayton<br>yeer=%{x}<br>value=%{y}<extra></extra>\",\"legendgroup\":\"clayton\",\"line\":{\"color\":\"#636efa\",\"dash\":\"solid\"},\"marker\":{\"symbol\":\"circle\"},\"mode\":\"lines\",\"name\":\"clayton\",\"orientation\":\"v\",\"showlegend\":true,\"x\":[2012.0,2013.0,2014.0,2015.0,2016.0,2017.0],\"xaxis\":\"x\",\"y\":[508343.39,544075.09,686819.22,702285.61,629710.92,462140.59],\"yaxis\":\"y\",\"type\":\"scatter\"},{\"hovertemplate\":\"county_99=humboldt<br>yeer=%{x}<br>value=%{y}<extra></extra>\",\"legendgroup\":\"humboldt\",\"line\":{\"color\":\"#EF553B\",\"dash\":\"solid\"},\"marker\":{\"symbol\":\"circle\"},\"mode\":\"lines\",\"name\":\"humboldt\",\"orientation\":\"v\",\"showlegend\":true,\"x\":[2012.0,2013.0,2014.0,2015.0,2016.0,2017.0],\"xaxis\":\"x\",\"y\":[634114.54,601800.35,642619.17,648738.09,588011.24,389366.02],\"yaxis\":\"y\",\"type\":\"scatter\"},{\"hovertemplate\":\"county_99=emmet<br>yeer=%{x}<br>value=%{y}<extra></extra>\",\"legendgroup\":\"emmet\",\"line\":{\"color\":\"#00cc96\",\"dash\":\"solid\"},\"marker\":{\"symbol\":\"circle\"},\"mode\":\"lines\",\"name\":\"emmet\",\"orientation\":\"v\",\"showlegend\":true,\"x\":[2012.0,2013.0,2014.0,2015.0,2016.0,2017.0],\"xaxis\":\"x\",\"y\":[657258.05,660335.97,583462.49,585747.34,559453.83,383927.43],\"yaxis\":\"y\",\"type\":\"scatter\"},{\"hovertemplate\":\"county_99=tama<br>yeer=%{x}<br>value=%{y}<extra></extra>\",\"legendgroup\":\"tama\",\"line\":{\"color\":\"#ab63fa\",\"dash\":\"solid\"},\"marker\":{\"symbol\":\"circle\"},\"mode\":\"lines\",\"name\":\"tama\",\"orientation\":\"v\",\"showlegend\":true,\"x\":[2012.0,2013.0,2014.0,2015.0,2016.0,2017.0],\"xaxis\":\"x\",\"y\":[535153.82,556036.88,596348.78,638455.4,626458.24,424870.71],\"yaxis\":\"y\",\"type\":\"scatter\"},{\"hovertemplate\":\"county_99=palo alto<br>yeer=%{x}<br>value=%{y}<extra></extra>\",\"legendgroup\":\"palo alto\",\"line\":{\"color\":\"#FFA15A\",\"dash\":\"solid\"},\"marker\":{\"symbol\":\"circle\"},\"mode\":\"lines\",\"name\":\"palo alto\",\"orientation\":\"v\",\"showlegend\":true,\"x\":[2012.0,2013.0,2014.0,2015.0,2016.0,2017.0],\"xaxis\":\"x\",\"y\":[589873.63,668744.71,634074.34,603797.3,552094.88,325287.41],\"yaxis\":\"y\",\"type\":\"scatter\"},{\"hovertemplate\":\"county_99=wright<br>yeer=%{x}<br>value=%{y}<extra></extra>\",\"legendgroup\":\"wright\",\"line\":{\"color\":\"#19d3f3\",\"dash\":\"solid\"},\"marker\":{\"symbol\":\"circle\"},\"mode\":\"lines\",\"name\":\"wright\",\"orientation\":\"v\",\"showlegend\":true,\"x\":[2012.0,2013.0,2014.0,2015.0,2016.0,2017.0],\"xaxis\":\"x\",\"y\":[593361.38,606333.07,558336.27,609443.42,554353.42,451852.41],\"yaxis\":\"y\",\"type\":\"scatter\"},{\"hovertemplate\":\"county_99=montgomery<br>yeer=%{x}<br>value=%{y}<extra></extra>\",\"legendgroup\":\"montgomery\",\"line\":{\"color\":\"#FF6692\",\"dash\":\"solid\"},\"marker\":{\"symbol\":\"circle\"},\"mode\":\"lines\",\"name\":\"montgomery\",\"orientation\":\"v\",\"showlegend\":true,\"x\":[2012.0,2013.0,2014.0,2015.0,2016.0,2017.0],\"xaxis\":\"x\",\"y\":[568863.06,541214.47,604338.92,625465.12,606764.75,413183.55],\"yaxis\":\"y\",\"type\":\"scatter\"},{\"hovertemplate\":\"county_99=clarke<br>yeer=%{x}<br>value=%{y}<extra></extra>\",\"legendgroup\":\"clarke\",\"line\":{\"color\":\"#B6E880\",\"dash\":\"solid\"},\"marker\":{\"symbol\":\"circle\"},\"mode\":\"lines\",\"name\":\"clarke\",\"orientation\":\"v\",\"showlegend\":true,\"x\":[2012.0,2013.0,2014.0,2015.0,2016.0,2017.0],\"xaxis\":\"x\",\"y\":[505187.3,551376.29,594923.27,665423.91,495264.91,299442.51],\"yaxis\":\"y\",\"type\":\"scatter\"},{\"hovertemplate\":\"county_99=sac<br>yeer=%{x}<br>value=%{y}<extra></extra>\",\"legendgroup\":\"sac\",\"line\":{\"color\":\"#FF97FF\",\"dash\":\"solid\"},\"marker\":{\"symbol\":\"circle\"},\"mode\":\"lines\",\"name\":\"sac\",\"orientation\":\"v\",\"showlegend\":true,\"x\":[2012.0,2013.0,2014.0,2015.0,2016.0,2017.0],\"xaxis\":\"x\",\"y\":[555655.82,511411.26,517589.29,546378.45,502758.21,337548.06],\"yaxis\":\"y\",\"type\":\"scatter\"},{\"hovertemplate\":\"county_99=monona<br>yeer=%{x}<br>value=%{y}<extra></extra>\",\"legendgroup\":\"monona\",\"line\":{\"color\":\"#FECB52\",\"dash\":\"solid\"},\"marker\":{\"symbol\":\"circle\"},\"mode\":\"lines\",\"name\":\"monona\",\"orientation\":\"v\",\"showlegend\":true,\"x\":[2012.0,2013.0,2014.0,2015.0,2016.0,2017.0],\"xaxis\":\"x\",\"y\":[510447.11,519200.82,537095.9,519700.46,489436.87,304677.56],\"yaxis\":\"y\",\"type\":\"scatter\"},{\"hovertemplate\":\"county_99=ida<br>yeer=%{x}<br>value=%{y}<extra></extra>\",\"legendgroup\":\"ida\",\"line\":{\"color\":\"#636efa\",\"dash\":\"solid\"},\"marker\":{\"symbol\":\"circle\"},\"mode\":\"lines\",\"name\":\"ida\",\"orientation\":\"v\",\"showlegend\":true,\"x\":[2012.0,2013.0,2014.0,2015.0,2016.0,2017.0],\"xaxis\":\"x\",\"y\":[440210.03,423016.51,407028.65,547270.83,560256.03,387597.28],\"yaxis\":\"y\",\"type\":\"scatter\"},{\"hovertemplate\":\"county_99=cedar<br>yeer=%{x}<br>value=%{y}<extra></extra>\",\"legendgroup\":\"cedar\",\"line\":{\"color\":\"#EF553B\",\"dash\":\"solid\"},\"marker\":{\"symbol\":\"circle\"},\"mode\":\"lines\",\"name\":\"cedar\",\"orientation\":\"v\",\"showlegend\":true,\"x\":[2012.0,2013.0,2014.0,2015.0,2016.0,2017.0],\"xaxis\":\"x\",\"y\":[435222.12,474237.9,505572.64,528595.64,459474.18,306394.06],\"yaxis\":\"y\",\"type\":\"scatter\"},{\"hovertemplate\":\"county_99=harrison<br>yeer=%{x}<br>value=%{y}<extra></extra>\",\"legendgroup\":\"harrison\",\"line\":{\"color\":\"#00cc96\",\"dash\":\"solid\"},\"marker\":{\"symbol\":\"circle\"},\"mode\":\"lines\",\"name\":\"harrison\",\"orientation\":\"v\",\"showlegend\":true,\"x\":[2012.0,2013.0,2014.0,2015.0,2016.0,2017.0],\"xaxis\":\"x\",\"y\":[468592.74,442719.23,441443.72,507430.9,319324.32,331879.16],\"yaxis\":\"y\",\"type\":\"scatter\"},{\"hovertemplate\":\"county_99=mills<br>yeer=%{x}<br>value=%{y}<extra></extra>\",\"legendgroup\":\"mills\",\"line\":{\"color\":\"#ab63fa\",\"dash\":\"solid\"},\"marker\":{\"symbol\":\"circle\"},\"mode\":\"lines\",\"name\":\"mills\",\"orientation\":\"v\",\"showlegend\":true,\"x\":[2012.0,2013.0,2014.0,2015.0,2016.0,2017.0],\"xaxis\":\"x\",\"y\":[408227.37,446688.44,423670.17,436874.08,427031.05,356718.7],\"yaxis\":\"y\",\"type\":\"scatter\"},{\"hovertemplate\":\"county_99=franklin<br>yeer=%{x}<br>value=%{y}<extra></extra>\",\"legendgroup\":\"franklin\",\"line\":{\"color\":\"#FFA15A\",\"dash\":\"solid\"},\"marker\":{\"symbol\":\"circle\"},\"mode\":\"lines\",\"name\":\"franklin\",\"orientation\":\"v\",\"showlegend\":true,\"x\":[2012.0,2013.0,2014.0,2015.0,2016.0,2017.0],\"xaxis\":\"x\",\"y\":[497136.27,464003.84,483340.73,488710.08,287061.81,269356.47],\"yaxis\":\"y\",\"type\":\"scatter\"},{\"hovertemplate\":\"county_99=mitchell<br>yeer=%{x}<br>value=%{y}<extra></extra>\",\"legendgroup\":\"mitchell\",\"line\":{\"color\":\"#19d3f3\",\"dash\":\"solid\"},\"marker\":{\"symbol\":\"circle\"},\"mode\":\"lines\",\"name\":\"mitchell\",\"orientation\":\"v\",\"showlegend\":true,\"x\":[2012.0,2013.0,2014.0,2015.0,2016.0,2017.0],\"xaxis\":\"x\",\"y\":[433674.45,446790.1,442030.29,437388.82,416135.51,258639.93],\"yaxis\":\"y\",\"type\":\"scatter\"},{\"hovertemplate\":\"county_99=greene<br>yeer=%{x}<br>value=%{y}<extra></extra>\",\"legendgroup\":\"greene\",\"line\":{\"color\":\"#FF6692\",\"dash\":\"solid\"},\"marker\":{\"symbol\":\"circle\"},\"mode\":\"lines\",\"name\":\"greene\",\"orientation\":\"v\",\"showlegend\":true,\"x\":[2012.0,2013.0,2014.0,2015.0,2016.0,2017.0],\"xaxis\":\"x\",\"y\":[302768.2,304800.34,337735.54,583474.3,471871.86,280912.07],\"yaxis\":\"y\",\"type\":\"scatter\"},{\"hovertemplate\":\"county_99=adair<br>yeer=%{x}<br>value=%{y}<extra></extra>\",\"legendgroup\":\"adair\",\"line\":{\"color\":\"#B6E880\",\"dash\":\"solid\"},\"marker\":{\"symbol\":\"circle\"},\"mode\":\"lines\",\"name\":\"adair\",\"orientation\":\"v\",\"showlegend\":true,\"x\":[2012.0,2013.0,2014.0,2015.0,2016.0,2017.0],\"xaxis\":\"x\",\"y\":[413691.48,378584.26,413071.07,424750.82,390382.91,256530.15],\"yaxis\":\"y\",\"type\":\"scatter\"},{\"hovertemplate\":\"county_99=lucas<br>yeer=%{x}<br>value=%{y}<extra></extra>\",\"legendgroup\":\"lucas\",\"line\":{\"color\":\"#FF97FF\",\"dash\":\"solid\"},\"marker\":{\"symbol\":\"circle\"},\"mode\":\"lines\",\"name\":\"lucas\",\"orientation\":\"v\",\"showlegend\":true,\"x\":[2012.0,2013.0,2014.0,2015.0,2016.0,2017.0],\"xaxis\":\"x\",\"y\":[269408.51,345505.24,416887.64,415069.06,396035.07,283937.42],\"yaxis\":\"y\",\"type\":\"scatter\"},{\"hovertemplate\":\"county_99=chickasaw<br>yeer=%{x}<br>value=%{y}<extra></extra>\",\"legendgroup\":\"chickasaw\",\"line\":{\"color\":\"#FECB52\",\"dash\":\"solid\"},\"marker\":{\"symbol\":\"circle\"},\"mode\":\"lines\",\"name\":\"chickasaw\",\"orientation\":\"v\",\"showlegend\":true,\"x\":[2012.0,2013.0,2014.0,2015.0,2016.0,2017.0],\"xaxis\":\"x\",\"y\":[384806.79,356483.05,380539.37,379533.89,295220.44,169462.2],\"yaxis\":\"y\",\"type\":\"scatter\"},{\"hovertemplate\":\"county_99=calhoun<br>yeer=%{x}<br>value=%{y}<extra></extra>\",\"legendgroup\":\"calhoun\",\"line\":{\"color\":\"#636efa\",\"dash\":\"solid\"},\"marker\":{\"symbol\":\"circle\"},\"mode\":\"lines\",\"name\":\"calhoun\",\"orientation\":\"v\",\"showlegend\":true,\"x\":[2012.0,2013.0,2014.0,2015.0,2016.0,2017.0],\"xaxis\":\"x\",\"y\":[358617.3,336587.03,328441.27,322593.15,304339.07,213439.0],\"yaxis\":\"y\",\"type\":\"scatter\"},{\"hovertemplate\":\"county_99=pocahontas<br>yeer=%{x}<br>value=%{y}<extra></extra>\",\"legendgroup\":\"pocahontas\",\"line\":{\"color\":\"#EF553B\",\"dash\":\"solid\"},\"marker\":{\"symbol\":\"circle\"},\"mode\":\"lines\",\"name\":\"pocahontas\",\"orientation\":\"v\",\"showlegend\":true,\"x\":[2012.0,2013.0,2014.0,2015.0,2016.0,2017.0],\"xaxis\":\"x\",\"y\":[337577.83,339550.61,337373.37,327370.38,303619.83,163189.5],\"yaxis\":\"y\",\"type\":\"scatter\"},{\"hovertemplate\":\"county_99=monroe<br>yeer=%{x}<br>value=%{y}<extra></extra>\",\"legendgroup\":\"monroe\",\"line\":{\"color\":\"#00cc96\",\"dash\":\"solid\"},\"marker\":{\"symbol\":\"circle\"},\"mode\":\"lines\",\"name\":\"monroe\",\"orientation\":\"v\",\"showlegend\":true,\"x\":[2012.0,2013.0,2014.0,2015.0,2016.0,2017.0],\"xaxis\":\"x\",\"y\":[291650.72,272537.59,293311.1,310752.35,310806.47,228161.15],\"yaxis\":\"y\",\"type\":\"scatter\"},{\"hovertemplate\":\"county_99=grundy<br>yeer=%{x}<br>value=%{y}<extra></extra>\",\"legendgroup\":\"grundy\",\"line\":{\"color\":\"#ab63fa\",\"dash\":\"solid\"},\"marker\":{\"symbol\":\"circle\"},\"mode\":\"lines\",\"name\":\"grundy\",\"orientation\":\"v\",\"showlegend\":true,\"x\":[2012.0,2013.0,2014.0,2015.0,2016.0,2017.0],\"xaxis\":\"x\",\"y\":[297739.87,287964.31,276976.88,302289.79,298942.73,186195.26],\"yaxis\":\"y\",\"type\":\"scatter\"},{\"hovertemplate\":\"county_99=hancock<br>yeer=%{x}<br>value=%{y}<extra></extra>\",\"legendgroup\":\"hancock\",\"line\":{\"color\":\"#FFA15A\",\"dash\":\"solid\"},\"marker\":{\"symbol\":\"circle\"},\"mode\":\"lines\",\"name\":\"hancock\",\"orientation\":\"v\",\"showlegend\":true,\"x\":[2012.0,2013.0,2014.0,2015.0,2016.0,2017.0],\"xaxis\":\"x\",\"y\":[256871.21,263653.9,271874.79,308398.74,305837.45,233940.97],\"yaxis\":\"y\",\"type\":\"scatter\"},{\"hovertemplate\":\"county_99=guthrie<br>yeer=%{x}<br>value=%{y}<extra></extra>\",\"legendgroup\":\"guthrie\",\"line\":{\"color\":\"#19d3f3\",\"dash\":\"solid\"},\"marker\":{\"symbol\":\"circle\"},\"mode\":\"lines\",\"name\":\"guthrie\",\"orientation\":\"v\",\"showlegend\":true,\"x\":[2012.0,2013.0,2014.0,2015.0,2016.0,2017.0],\"xaxis\":\"x\",\"y\":[280873.56,264970.17,271943.65,295573.47,280769.41,194052.97],\"yaxis\":\"y\",\"type\":\"scatter\"},{\"hovertemplate\":\"county_99=butler<br>yeer=%{x}<br>value=%{y}<extra></extra>\",\"legendgroup\":\"butler\",\"line\":{\"color\":\"#FF6692\",\"dash\":\"solid\"},\"marker\":{\"symbol\":\"circle\"},\"mode\":\"lines\",\"name\":\"butler\",\"orientation\":\"v\",\"showlegend\":true,\"x\":[2012.0,2013.0,2014.0,2015.0,2016.0,2017.0],\"xaxis\":\"x\",\"y\":[224592.95,242020.56,271812.5,283132.74,280807.43,196030.29],\"yaxis\":\"y\",\"type\":\"scatter\"},{\"hovertemplate\":\"county_99=osceola<br>yeer=%{x}<br>value=%{y}<extra></extra>\",\"legendgroup\":\"osceola\",\"line\":{\"color\":\"#B6E880\",\"dash\":\"solid\"},\"marker\":{\"symbol\":\"circle\"},\"mode\":\"lines\",\"name\":\"osceola\",\"orientation\":\"v\",\"showlegend\":true,\"x\":[2012.0,2013.0,2014.0,2015.0,2016.0,2017.0],\"xaxis\":\"x\",\"y\":[219937.01,220987.87,238594.03,259985.23,227107.0,163723.21],\"yaxis\":\"y\",\"type\":\"scatter\"},{\"hovertemplate\":\"county_99=worth<br>yeer=%{x}<br>value=%{y}<extra></extra>\",\"legendgroup\":\"worth\",\"line\":{\"color\":\"#FF97FF\",\"dash\":\"solid\"},\"marker\":{\"symbol\":\"circle\"},\"mode\":\"lines\",\"name\":\"worth\",\"orientation\":\"v\",\"showlegend\":true,\"x\":[2012.0,2013.0,2014.0,2015.0,2016.0,2017.0],\"xaxis\":\"x\",\"y\":[166372.17,216661.51,237997.77,258916.55,212317.15,170045.33],\"yaxis\":\"y\",\"type\":\"scatter\"},{\"hovertemplate\":\"county_99=louisa<br>yeer=%{x}<br>value=%{y}<extra></extra>\",\"legendgroup\":\"louisa\",\"line\":{\"color\":\"#FECB52\",\"dash\":\"solid\"},\"marker\":{\"symbol\":\"circle\"},\"mode\":\"lines\",\"name\":\"louisa\",\"orientation\":\"v\",\"showlegend\":true,\"x\":[2012.0,2013.0,2014.0,2015.0,2016.0,2017.0],\"xaxis\":\"x\",\"y\":[238508.22,232094.26,236410.23,232427.95,155274.5,122950.47],\"yaxis\":\"y\",\"type\":\"scatter\"},{\"hovertemplate\":\"county_99=van buren<br>yeer=%{x}<br>value=%{y}<extra></extra>\",\"legendgroup\":\"van buren\",\"line\":{\"color\":\"#636efa\",\"dash\":\"solid\"},\"marker\":{\"symbol\":\"circle\"},\"mode\":\"lines\",\"name\":\"van buren\",\"orientation\":\"v\",\"showlegend\":true,\"x\":[2012.0,2013.0,2014.0,2015.0,2016.0,2017.0],\"xaxis\":\"x\",\"y\":[189865.97,185716.51,179516.67,174245.69,187612.68,110732.75],\"yaxis\":\"y\",\"type\":\"scatter\"},{\"hovertemplate\":\"county_99=decatur<br>yeer=%{x}<br>value=%{y}<extra></extra>\",\"legendgroup\":\"decatur\",\"line\":{\"color\":\"#EF553B\",\"dash\":\"solid\"},\"marker\":{\"symbol\":\"circle\"},\"mode\":\"lines\",\"name\":\"decatur\",\"orientation\":\"v\",\"showlegend\":true,\"x\":[2012.0,2013.0,2014.0,2015.0,2016.0,2017.0],\"xaxis\":\"x\",\"y\":[152663.26,168167.12,168284.41,177470.88,149568.89,101592.37],\"yaxis\":\"y\",\"type\":\"scatter\"},{\"hovertemplate\":\"county_99=audubon<br>yeer=%{x}<br>value=%{y}<extra></extra>\",\"legendgroup\":\"audubon\",\"line\":{\"color\":\"#00cc96\",\"dash\":\"solid\"},\"marker\":{\"symbol\":\"circle\"},\"mode\":\"lines\",\"name\":\"audubon\",\"orientation\":\"v\",\"showlegend\":true,\"x\":[2012.0,2013.0,2014.0,2015.0,2016.0,2017.0],\"xaxis\":\"x\",\"y\":[163577.03,162023.28,168113.6,173849.23,127859.46,60870.62],\"yaxis\":\"y\",\"type\":\"scatter\"},{\"hovertemplate\":\"county_99=ringgold<br>yeer=%{x}<br>value=%{y}<extra></extra>\",\"legendgroup\":\"ringgold\",\"line\":{\"color\":\"#ab63fa\",\"dash\":\"solid\"},\"marker\":{\"symbol\":\"circle\"},\"mode\":\"lines\",\"name\":\"ringgold\",\"orientation\":\"v\",\"showlegend\":true,\"x\":[2012.0,2013.0,2014.0,2015.0,2016.0,2017.0],\"xaxis\":\"x\",\"y\":[130629.48,141162.23,142328.97,138680.81,143559.15,102887.3],\"yaxis\":\"y\",\"type\":\"scatter\"},{\"hovertemplate\":\"county_99=keokuk<br>yeer=%{x}<br>value=%{y}<extra></extra>\",\"legendgroup\":\"keokuk\",\"line\":{\"color\":\"#FFA15A\",\"dash\":\"solid\"},\"marker\":{\"symbol\":\"circle\"},\"mode\":\"lines\",\"name\":\"keokuk\",\"orientation\":\"v\",\"showlegend\":true,\"x\":[2012.0,2013.0,2014.0,2015.0,2016.0,2017.0],\"xaxis\":\"x\",\"y\":[123192.69,142893.28,146252.63,149560.78,93633.41,79529.83],\"yaxis\":\"y\",\"type\":\"scatter\"},{\"hovertemplate\":\"county_99=taylor<br>yeer=%{x}<br>value=%{y}<extra></extra>\",\"legendgroup\":\"taylor\",\"line\":{\"color\":\"#19d3f3\",\"dash\":\"solid\"},\"marker\":{\"symbol\":\"circle\"},\"mode\":\"lines\",\"name\":\"taylor\",\"orientation\":\"v\",\"showlegend\":true,\"x\":[2012.0,2013.0,2014.0,2015.0,2016.0,2017.0],\"xaxis\":\"x\",\"y\":[99613.74,101833.15,98038.53,110598.35,114145.24,59049.25],\"yaxis\":\"y\",\"type\":\"scatter\"},{\"hovertemplate\":\"county_99=wayne<br>yeer=%{x}<br>value=%{y}<extra></extra>\",\"legendgroup\":\"wayne\",\"line\":{\"color\":\"#FF6692\",\"dash\":\"solid\"},\"marker\":{\"symbol\":\"circle\"},\"mode\":\"lines\",\"name\":\"wayne\",\"orientation\":\"v\",\"showlegend\":true,\"x\":[2012.0,2013.0,2014.0,2015.0,2016.0,2017.0],\"xaxis\":\"x\",\"y\":[161736.16,85065.15,70010.95,105438.35,89033.38,69905.57],\"yaxis\":\"y\",\"type\":\"scatter\"},{\"hovertemplate\":\"county_99=davis<br>yeer=%{x}<br>value=%{y}<extra></extra>\",\"legendgroup\":\"davis\",\"line\":{\"color\":\"#B6E880\",\"dash\":\"solid\"},\"marker\":{\"symbol\":\"circle\"},\"mode\":\"lines\",\"name\":\"davis\",\"orientation\":\"v\",\"showlegend\":true,\"x\":[2012.0,2013.0,2014.0,2015.0,2016.0,2017.0],\"xaxis\":\"x\",\"y\":[86467.15,93660.91,97975.29,96185.96,93263.14,64030.27],\"yaxis\":\"y\",\"type\":\"scatter\"},{\"hovertemplate\":\"county_99=adams<br>yeer=%{x}<br>value=%{y}<extra></extra>\",\"legendgroup\":\"adams\",\"line\":{\"color\":\"#FF97FF\",\"dash\":\"solid\"},\"marker\":{\"symbol\":\"circle\"},\"mode\":\"lines\",\"name\":\"adams\",\"orientation\":\"v\",\"showlegend\":true,\"x\":[2012.0,2013.0,2014.0,2015.0,2016.0,2017.0],\"xaxis\":\"x\",\"y\":[96674.89,91286.24,90524.22,100596.8,75070.97,44090.55],\"yaxis\":\"y\",\"type\":\"scatter\"},{\"hovertemplate\":\"county_99=fremont<br>yeer=%{x}<br>value=%{y}<extra></extra>\",\"legendgroup\":\"fremont\",\"line\":{\"color\":\"#FECB52\",\"dash\":\"solid\"},\"marker\":{\"symbol\":\"circle\"},\"mode\":\"lines\",\"name\":\"fremont\",\"orientation\":\"v\",\"showlegend\":true,\"x\":[2012.0,2013.0,2014.0,2015.0,2016.0,2017.0],\"xaxis\":\"x\",\"y\":[18793.59,25211.4,11229.36,24029.55,29947.61,30747.91],\"yaxis\":\"y\",\"type\":\"scatter\"}],                        {\"template\":{\"data\":{\"bar\":[{\"error_x\":{\"color\":\"#2a3f5f\"},\"error_y\":{\"color\":\"#2a3f5f\"},\"marker\":{\"line\":{\"color\":\"#E5ECF6\",\"width\":0.5},\"pattern\":{\"fillmode\":\"overlay\",\"size\":10,\"solidity\":0.2}},\"type\":\"bar\"}],\"barpolar\":[{\"marker\":{\"line\":{\"color\":\"#E5ECF6\",\"width\":0.5},\"pattern\":{\"fillmode\":\"overlay\",\"size\":10,\"solidity\":0.2}},\"type\":\"barpolar\"}],\"carpet\":[{\"aaxis\":{\"endlinecolor\":\"#2a3f5f\",\"gridcolor\":\"white\",\"linecolor\":\"white\",\"minorgridcolor\":\"white\",\"startlinecolor\":\"#2a3f5f\"},\"baxis\":{\"endlinecolor\":\"#2a3f5f\",\"gridcolor\":\"white\",\"linecolor\":\"white\",\"minorgridcolor\":\"white\",\"startlinecolor\":\"#2a3f5f\"},\"type\":\"carpet\"}],\"choropleth\":[{\"colorbar\":{\"outlinewidth\":0,\"ticks\":\"\"},\"type\":\"choropleth\"}],\"contour\":[{\"colorbar\":{\"outlinewidth\":0,\"ticks\":\"\"},\"colorscale\":[[0.0,\"#0d0887\"],[0.1111111111111111,\"#46039f\"],[0.2222222222222222,\"#7201a8\"],[0.3333333333333333,\"#9c179e\"],[0.4444444444444444,\"#bd3786\"],[0.5555555555555556,\"#d8576b\"],[0.6666666666666666,\"#ed7953\"],[0.7777777777777778,\"#fb9f3a\"],[0.8888888888888888,\"#fdca26\"],[1.0,\"#f0f921\"]],\"type\":\"contour\"}],\"contourcarpet\":[{\"colorbar\":{\"outlinewidth\":0,\"ticks\":\"\"},\"type\":\"contourcarpet\"}],\"heatmap\":[{\"colorbar\":{\"outlinewidth\":0,\"ticks\":\"\"},\"colorscale\":[[0.0,\"#0d0887\"],[0.1111111111111111,\"#46039f\"],[0.2222222222222222,\"#7201a8\"],[0.3333333333333333,\"#9c179e\"],[0.4444444444444444,\"#bd3786\"],[0.5555555555555556,\"#d8576b\"],[0.6666666666666666,\"#ed7953\"],[0.7777777777777778,\"#fb9f3a\"],[0.8888888888888888,\"#fdca26\"],[1.0,\"#f0f921\"]],\"type\":\"heatmap\"}],\"heatmapgl\":[{\"colorbar\":{\"outlinewidth\":0,\"ticks\":\"\"},\"colorscale\":[[0.0,\"#0d0887\"],[0.1111111111111111,\"#46039f\"],[0.2222222222222222,\"#7201a8\"],[0.3333333333333333,\"#9c179e\"],[0.4444444444444444,\"#bd3786\"],[0.5555555555555556,\"#d8576b\"],[0.6666666666666666,\"#ed7953\"],[0.7777777777777778,\"#fb9f3a\"],[0.8888888888888888,\"#fdca26\"],[1.0,\"#f0f921\"]],\"type\":\"heatmapgl\"}],\"histogram\":[{\"marker\":{\"pattern\":{\"fillmode\":\"overlay\",\"size\":10,\"solidity\":0.2}},\"type\":\"histogram\"}],\"histogram2d\":[{\"colorbar\":{\"outlinewidth\":0,\"ticks\":\"\"},\"colorscale\":[[0.0,\"#0d0887\"],[0.1111111111111111,\"#46039f\"],[0.2222222222222222,\"#7201a8\"],[0.3333333333333333,\"#9c179e\"],[0.4444444444444444,\"#bd3786\"],[0.5555555555555556,\"#d8576b\"],[0.6666666666666666,\"#ed7953\"],[0.7777777777777778,\"#fb9f3a\"],[0.8888888888888888,\"#fdca26\"],[1.0,\"#f0f921\"]],\"type\":\"histogram2d\"}],\"histogram2dcontour\":[{\"colorbar\":{\"outlinewidth\":0,\"ticks\":\"\"},\"colorscale\":[[0.0,\"#0d0887\"],[0.1111111111111111,\"#46039f\"],[0.2222222222222222,\"#7201a8\"],[0.3333333333333333,\"#9c179e\"],[0.4444444444444444,\"#bd3786\"],[0.5555555555555556,\"#d8576b\"],[0.6666666666666666,\"#ed7953\"],[0.7777777777777778,\"#fb9f3a\"],[0.8888888888888888,\"#fdca26\"],[1.0,\"#f0f921\"]],\"type\":\"histogram2dcontour\"}],\"mesh3d\":[{\"colorbar\":{\"outlinewidth\":0,\"ticks\":\"\"},\"type\":\"mesh3d\"}],\"parcoords\":[{\"line\":{\"colorbar\":{\"outlinewidth\":0,\"ticks\":\"\"}},\"type\":\"parcoords\"}],\"pie\":[{\"automargin\":true,\"type\":\"pie\"}],\"scatter\":[{\"marker\":{\"colorbar\":{\"outlinewidth\":0,\"ticks\":\"\"}},\"type\":\"scatter\"}],\"scatter3d\":[{\"line\":{\"colorbar\":{\"outlinewidth\":0,\"ticks\":\"\"}},\"marker\":{\"colorbar\":{\"outlinewidth\":0,\"ticks\":\"\"}},\"type\":\"scatter3d\"}],\"scattercarpet\":[{\"marker\":{\"colorbar\":{\"outlinewidth\":0,\"ticks\":\"\"}},\"type\":\"scattercarpet\"}],\"scattergeo\":[{\"marker\":{\"colorbar\":{\"outlinewidth\":0,\"ticks\":\"\"}},\"type\":\"scattergeo\"}],\"scattergl\":[{\"marker\":{\"colorbar\":{\"outlinewidth\":0,\"ticks\":\"\"}},\"type\":\"scattergl\"}],\"scattermapbox\":[{\"marker\":{\"colorbar\":{\"outlinewidth\":0,\"ticks\":\"\"}},\"type\":\"scattermapbox\"}],\"scatterpolar\":[{\"marker\":{\"colorbar\":{\"outlinewidth\":0,\"ticks\":\"\"}},\"type\":\"scatterpolar\"}],\"scatterpolargl\":[{\"marker\":{\"colorbar\":{\"outlinewidth\":0,\"ticks\":\"\"}},\"type\":\"scatterpolargl\"}],\"scatterternary\":[{\"marker\":{\"colorbar\":{\"outlinewidth\":0,\"ticks\":\"\"}},\"type\":\"scatterternary\"}],\"surface\":[{\"colorbar\":{\"outlinewidth\":0,\"ticks\":\"\"},\"colorscale\":[[0.0,\"#0d0887\"],[0.1111111111111111,\"#46039f\"],[0.2222222222222222,\"#7201a8\"],[0.3333333333333333,\"#9c179e\"],[0.4444444444444444,\"#bd3786\"],[0.5555555555555556,\"#d8576b\"],[0.6666666666666666,\"#ed7953\"],[0.7777777777777778,\"#fb9f3a\"],[0.8888888888888888,\"#fdca26\"],[1.0,\"#f0f921\"]],\"type\":\"surface\"}],\"table\":[{\"cells\":{\"fill\":{\"color\":\"#EBF0F8\"},\"line\":{\"color\":\"white\"}},\"header\":{\"fill\":{\"color\":\"#C8D4E3\"},\"line\":{\"color\":\"white\"}},\"type\":\"table\"}]},\"layout\":{\"annotationdefaults\":{\"arrowcolor\":\"#2a3f5f\",\"arrowhead\":0,\"arrowwidth\":1},\"autotypenumbers\":\"strict\",\"coloraxis\":{\"colorbar\":{\"outlinewidth\":0,\"ticks\":\"\"}},\"colorscale\":{\"diverging\":[[0,\"#8e0152\"],[0.1,\"#c51b7d\"],[0.2,\"#de77ae\"],[0.3,\"#f1b6da\"],[0.4,\"#fde0ef\"],[0.5,\"#f7f7f7\"],[0.6,\"#e6f5d0\"],[0.7,\"#b8e186\"],[0.8,\"#7fbc41\"],[0.9,\"#4d9221\"],[1,\"#276419\"]],\"sequential\":[[0.0,\"#0d0887\"],[0.1111111111111111,\"#46039f\"],[0.2222222222222222,\"#7201a8\"],[0.3333333333333333,\"#9c179e\"],[0.4444444444444444,\"#bd3786\"],[0.5555555555555556,\"#d8576b\"],[0.6666666666666666,\"#ed7953\"],[0.7777777777777778,\"#fb9f3a\"],[0.8888888888888888,\"#fdca26\"],[1.0,\"#f0f921\"]],\"sequentialminus\":[[0.0,\"#0d0887\"],[0.1111111111111111,\"#46039f\"],[0.2222222222222222,\"#7201a8\"],[0.3333333333333333,\"#9c179e\"],[0.4444444444444444,\"#bd3786\"],[0.5555555555555556,\"#d8576b\"],[0.6666666666666666,\"#ed7953\"],[0.7777777777777778,\"#fb9f3a\"],[0.8888888888888888,\"#fdca26\"],[1.0,\"#f0f921\"]]},\"colorway\":[\"#636efa\",\"#EF553B\",\"#00cc96\",\"#ab63fa\",\"#FFA15A\",\"#19d3f3\",\"#FF6692\",\"#B6E880\",\"#FF97FF\",\"#FECB52\"],\"font\":{\"color\":\"#2a3f5f\"},\"geo\":{\"bgcolor\":\"white\",\"lakecolor\":\"white\",\"landcolor\":\"#E5ECF6\",\"showlakes\":true,\"showland\":true,\"subunitcolor\":\"white\"},\"hoverlabel\":{\"align\":\"left\"},\"hovermode\":\"closest\",\"mapbox\":{\"style\":\"light\"},\"paper_bgcolor\":\"white\",\"plot_bgcolor\":\"#E5ECF6\",\"polar\":{\"angularaxis\":{\"gridcolor\":\"white\",\"linecolor\":\"white\",\"ticks\":\"\"},\"bgcolor\":\"#E5ECF6\",\"radialaxis\":{\"gridcolor\":\"white\",\"linecolor\":\"white\",\"ticks\":\"\"}},\"scene\":{\"xaxis\":{\"backgroundcolor\":\"#E5ECF6\",\"gridcolor\":\"white\",\"gridwidth\":2,\"linecolor\":\"white\",\"showbackground\":true,\"ticks\":\"\",\"zerolinecolor\":\"white\"},\"yaxis\":{\"backgroundcolor\":\"#E5ECF6\",\"gridcolor\":\"white\",\"gridwidth\":2,\"linecolor\":\"white\",\"showbackground\":true,\"ticks\":\"\",\"zerolinecolor\":\"white\"},\"zaxis\":{\"backgroundcolor\":\"#E5ECF6\",\"gridcolor\":\"white\",\"gridwidth\":2,\"linecolor\":\"white\",\"showbackground\":true,\"ticks\":\"\",\"zerolinecolor\":\"white\"}},\"shapedefaults\":{\"line\":{\"color\":\"#2a3f5f\"}},\"ternary\":{\"aaxis\":{\"gridcolor\":\"white\",\"linecolor\":\"white\",\"ticks\":\"\"},\"baxis\":{\"gridcolor\":\"white\",\"linecolor\":\"white\",\"ticks\":\"\"},\"bgcolor\":\"#E5ECF6\",\"caxis\":{\"gridcolor\":\"white\",\"linecolor\":\"white\",\"ticks\":\"\"}},\"title\":{\"x\":0.05},\"xaxis\":{\"automargin\":true,\"gridcolor\":\"white\",\"linecolor\":\"white\",\"ticks\":\"\",\"title\":{\"standoff\":15},\"zerolinecolor\":\"white\",\"zerolinewidth\":2},\"yaxis\":{\"automargin\":true,\"gridcolor\":\"white\",\"linecolor\":\"white\",\"ticks\":\"\",\"title\":{\"standoff\":15},\"zerolinecolor\":\"white\",\"zerolinewidth\":2}}},\"xaxis\":{\"anchor\":\"y\",\"domain\":[0.0,1.0],\"title\":{\"text\":\"yeer\"}},\"yaxis\":{\"anchor\":\"x\",\"domain\":[0.0,1.0],\"title\":{\"text\":\"value\"},\"type\":\"log\"},\"legend\":{\"title\":{\"text\":\"county_99\"},\"tracegroupgap\":0},\"title\":{\"text\":\"Revenue By County (Log Scale)\"}},                        {\"responsive\": true}                    ).then(function(){\n",
       "                            \n",
       "var gd = document.getElementById('7e5ce8b4-9999-4f85-a2cb-ad374ec31f1d');\n",
       "var x = new MutationObserver(function (mutations, observer) {{\n",
       "        var display = window.getComputedStyle(gd).display;\n",
       "        if (!display || display === 'none') {{\n",
       "            console.log([gd, 'removed!']);\n",
       "            Plotly.purge(gd);\n",
       "            observer.disconnect();\n",
       "        }}\n",
       "}});\n",
       "\n",
       "// Listen for the removal of the full notebook cells\n",
       "var notebookContainer = gd.closest('#notebook-container');\n",
       "if (notebookContainer) {{\n",
       "    x.observe(notebookContainer, {childList: true});\n",
       "}}\n",
       "\n",
       "// Listen for the clearing of the current output cell\n",
       "var outputEl = gd.closest('.output');\n",
       "if (outputEl) {{\n",
       "    x.observe(outputEl, {childList: true});\n",
       "}}\n",
       "\n",
       "                        })                };                });            </script>        </div>"
      ]
     },
     "metadata": {},
     "output_type": "display_data"
    }
   ],
   "source": [
    "px.line(rbcy_toplot, \n",
    "        line_group='county_99', color='county_99', \n",
    "        title='Revenue By County (Log Scale)',\n",
    "        labels='county_99',\n",
    "        log_y=True\n",
    "    )"
   ]
  },
  {
   "cell_type": "markdown",
   "id": "9d627d78",
   "metadata": {
    "hidden": true
   },
   "source": [
    "- There's an overall consistent trend of liquor sales decreasing across the state.\n",
    "- A few smaller counties have a different trend.\n",
    "- There was a spike of \\$10 million in sales to unknown counties in 2016.  (see below)"
   ]
  },
  {
   "cell_type": "markdown",
   "id": "6134c8c1",
   "metadata": {
    "hidden": true
   },
   "source": [
    "##### Check revenue per person"
   ]
  },
  {
   "cell_type": "code",
   "execution_count": 342,
   "id": "f2cb0755",
   "metadata": {
    "code_folding": [],
    "hidden": true
   },
   "outputs": [],
   "source": [
    "revenue_percap_cty_yr = pd.read_sql(\"\"\"\n",
    "    SELECT\n",
    "        ia.county_99,\n",
    "        DATE_PART('year', date) yeer,\n",
    "        SUM(sale_ttl_usd)/MAX(cp.population) rev_percap\n",
    "    FROM iowaalcohol ia\n",
    "        JOIN county_pop cp\n",
    "        ON cp.name = ia.county_99\n",
    "    WHERE county_99 <> 'UNKNOWN'\n",
    "    GROUP BY county_99, yeer\n",
    "    ORDER BY rev_percap, yeer\n",
    "    ;\"\"\", conn)"
   ]
  },
  {
   "cell_type": "code",
   "execution_count": 337,
   "id": "d6721adf",
   "metadata": {
    "code_folding": [
     0,
     1
    ],
    "hidden": true
   },
   "outputs": [],
   "source": [
    "# get dataframe ready to plot\n",
    "rbcy_percap_toplot = (revenue_percap_cty_yr\n",
    "    .set_index(['county_99', 'yeer'])\n",
    "    .unstack(0).droplevel(0,axis=1)\n",
    "    )\n",
    "rbcy_percap_sorted_cols = rbcy_percap_toplot.mean().sort_values(ascending=False).index.tolist()\n",
    "rbcy_percap_toplot = rbcy_percap_toplot.reindex(rbcy_percap_sorted_cols, axis=1)"
   ]
  },
  {
   "cell_type": "code",
   "execution_count": 343,
   "id": "adb4a673",
   "metadata": {
    "code_folding": [
     0
    ],
    "hidden": true
   },
   "outputs": [
    {
     "data": {
      "image/png": "[encoded data removed]",
      "text/plain": [
       "<Figure size 720x360 with 2 Axes>"
      ]
     },
     "metadata": {
      "needs_background": "light"
     },
     "output_type": "display_data"
    }
   ],
   "source": [
    "# plot with matplotlib\n",
    "fig, (ax0,ax1) = plt.subplots(1,2, figsize=(10,5))\n",
    "rbcy_percap_toplot.plot(legend=False, ax=ax0)\n",
    "rbcy_percap_toplot.plot(legend=False, ax=ax1)\n",
    "ax0.set_yscale('log')"
   ]
  },
  {
   "cell_type": "code",
   "execution_count": 375,
   "id": "4ce932cf",
   "metadata": {
    "hidden": true
   },
   "outputs": [
    {
     "data": {
      "application/vnd.plotly.v1+json": {
       "config": {
        "plotlyServerURL": "https://plot.ly"
       },
       "data": [
        {
         "hovertemplate": "county_99=dickinson<br>yeer=%{x}<br>value=%{y}<extra></extra>",
         "legendgroup": "dickinson",
         "line": {
          "color": "#636efa",
          "dash": "solid"
         },
         "marker": {
          "symbol": "circle"
         },
         "mode": "lines",
         "name": "dickinson",
         "orientation": "v",
         "showlegend": true,
         "type": "scatter",
         "x": [
          2012,
          2013,
          2014,
          2015,
          2016,
          2017
         ],
         "xaxis": "x",
         "y": [
          219.1903077559218,
          217.55156772402387,
          216.6110939807431,
          234.35004134916414,
          223.0904873294347,
          123.88424360564711
         ],
         "yaxis": "y"
        },
        {
         "hovertemplate": "county_99=polk<br>yeer=%{x}<br>value=%{y}<extra></extra>",
         "legendgroup": "polk",
         "line": {
          "color": "#EF553B",
          "dash": "solid"
         },
         "marker": {
          "symbol": "circle"
         },
         "mode": "lines",
         "name": "polk",
         "orientation": "v",
         "showlegend": true,
         "type": "scatter",
         "x": [
          2012,
          2013,
          2014,
          2015,
          2016,
          2017
         ],
         "xaxis": "x",
         "y": [
          124.09160163056798,
          126.04085485651586,
          133.72990747673427,
          143.3337664276576,
          122.60548535928932,
          69.77664791468523
         ],
         "yaxis": "y"
        },
        {
         "hovertemplate": "county_99=cerro gordo<br>yeer=%{x}<br>value=%{y}<extra></extra>",
         "legendgroup": "cerro gordo",
         "line": {
          "color": "#00cc96",
          "dash": "solid"
         },
         "marker": {
          "symbol": "circle"
         },
         "mode": "lines",
         "name": "cerro gordo",
         "orientation": "v",
         "showlegend": true,
         "type": "scatter",
         "x": [
          2012,
          2013,
          2014,
          2015,
          2016,
          2017
         ],
         "xaxis": "x",
         "y": [
          124.34347382390628,
          121.9391616328025,
          128.9083752059308,
          131.61219956983342,
          114.31133054182683,
          69.88784733662823
         ],
         "yaxis": "y"
        },
        {
         "hovertemplate": "county_99=black hawk<br>yeer=%{x}<br>value=%{y}<extra></extra>",
         "legendgroup": "black hawk",
         "line": {
          "color": "#ab63fa",
          "dash": "solid"
         },
         "marker": {
          "symbol": "circle"
         },
         "mode": "lines",
         "name": "black hawk",
         "orientation": "v",
         "showlegend": true,
         "type": "scatter",
         "x": [
          2012,
          2013,
          2014,
          2015,
          2016,
          2017
         ],
         "xaxis": "x",
         "y": [
          115.3628532872392,
          114.5312556101407,
          120.03844811377972,
          121.78973207787482,
          106.31359860201358,
          65.44262205846677
         ],
         "yaxis": "y"
        },
        {
         "hovertemplate": "county_99=johnson<br>yeer=%{x}<br>value=%{y}<extra></extra>",
         "legendgroup": "johnson",
         "line": {
          "color": "#FFA15A",
          "dash": "solid"
         },
         "marker": {
          "symbol": "circle"
         },
         "mode": "lines",
         "name": "johnson",
         "orientation": "v",
         "showlegend": true,
         "type": "scatter",
         "x": [
          2012,
          2013,
          2014,
          2015,
          2016,
          2017
         ],
         "xaxis": "x",
         "y": [
          109.57701837002479,
          111.2868415949847,
          121.42556881469602,
          128.8329030470914,
          103.91639152937746,
          58.66140414054527
         ],
         "yaxis": "y"
        },
        {
         "hovertemplate": "county_99=scott<br>yeer=%{x}<br>value=%{y}<extra></extra>",
         "legendgroup": "scott",
         "line": {
          "color": "#19d3f3",
          "dash": "solid"
         },
         "marker": {
          "symbol": "circle"
         },
         "mode": "lines",
         "name": "scott",
         "orientation": "v",
         "showlegend": true,
         "type": "scatter",
         "x": [
          2012,
          2013,
          2014,
          2015,
          2016,
          2017
         ],
         "xaxis": "x",
         "y": [
          109.57958933225675,
          109.15277890912114,
          116.00385334227853,
          121.24921143718868,
          101.24063829534592,
          58.904246911234736
         ],
         "yaxis": "y"
        },
        {
         "hovertemplate": "county_99=kossuth<br>yeer=%{x}<br>value=%{y}<extra></extra>",
         "legendgroup": "kossuth",
         "line": {
          "color": "#FF6692",
          "dash": "solid"
         },
         "marker": {
          "symbol": "circle"
         },
         "mode": "lines",
         "name": "kossuth",
         "orientation": "v",
         "showlegend": true,
         "type": "scatter",
         "x": [
          2012,
          2013,
          2014,
          2015,
          2016,
          2017
         ],
         "xaxis": "x",
         "y": [
          104.00449860453041,
          107.83967612124358,
          112.63125008113195,
          114.81877653014864,
          91.28526513922243,
          65.51533069384047
         ],
         "yaxis": "y"
        },
        {
         "hovertemplate": "county_99=linn<br>yeer=%{x}<br>value=%{y}<extra></extra>",
         "legendgroup": "linn",
         "line": {
          "color": "#B6E880",
          "dash": "solid"
         },
         "marker": {
          "symbol": "circle"
         },
         "mode": "lines",
         "name": "linn",
         "orientation": "v",
         "showlegend": true,
         "type": "scatter",
         "x": [
          2012,
          2013,
          2014,
          2015,
          2016,
          2017
         ],
         "xaxis": "x",
         "y": [
          105.39486295014429,
          107.74970868786593,
          109.3792978630615,
          115.94003127000771,
          97.84134980653423,
          56.85057547948892
         ],
         "yaxis": "y"
        },
        {
         "hovertemplate": "county_99=carroll<br>yeer=%{x}<br>value=%{y}<extra></extra>",
         "legendgroup": "carroll",
         "line": {
          "color": "#FF97FF",
          "dash": "solid"
         },
         "marker": {
          "symbol": "circle"
         },
         "mode": "lines",
         "name": "carroll",
         "orientation": "v",
         "showlegend": true,
         "type": "scatter",
         "x": [
          2012,
          2013,
          2014,
          2015,
          2016,
          2017
         ],
         "xaxis": "x",
         "y": [
          116.12911877209122,
          105.22747978501913,
          110.65810293904033,
          113.3890839103278,
          93.69482060717571,
          48.40146370987266
         ],
         "yaxis": "y"
        },
        {
         "hovertemplate": "county_99=pottawattamie<br>yeer=%{x}<br>value=%{y}<extra></extra>",
         "legendgroup": "pottawattamie",
         "line": {
          "color": "#FECB52",
          "dash": "solid"
         },
         "marker": {
          "symbol": "circle"
         },
         "mode": "lines",
         "name": "pottawattamie",
         "orientation": "v",
         "showlegend": true,
         "type": "scatter",
         "x": [
          2012,
          2013,
          2014,
          2015,
          2016,
          2017
         ],
         "xaxis": "x",
         "y": [
          97.86808465551552,
          98.30475264884635,
          103.99487097294681,
          108.17881848007315,
          90.87621093960092,
          54.44631076211478
         ],
         "yaxis": "y"
        },
        {
         "hovertemplate": "county_99=hardin<br>yeer=%{x}<br>value=%{y}<extra></extra>",
         "legendgroup": "hardin",
         "line": {
          "color": "#636efa",
          "dash": "solid"
         },
         "marker": {
          "symbol": "circle"
         },
         "mode": "lines",
         "name": "hardin",
         "orientation": "v",
         "showlegend": true,
         "type": "scatter",
         "x": [
          2012,
          2013,
          2014,
          2015,
          2016,
          2017
         ],
         "xaxis": "x",
         "y": [
          92.63109562211982,
          90.70861405529953,
          102.77983813364055,
          104.86140841013825,
          97.06214631336405,
          64.25089458525346
         ],
         "yaxis": "y"
        },
        {
         "hovertemplate": "county_99=lee<br>yeer=%{x}<br>value=%{y}<extra></extra>",
         "legendgroup": "lee",
         "line": {
          "color": "#EF553B",
          "dash": "solid"
         },
         "marker": {
          "symbol": "circle"
         },
         "mode": "lines",
         "name": "lee",
         "orientation": "v",
         "showlegend": true,
         "type": "scatter",
         "x": [
          2012,
          2013,
          2014,
          2015,
          2016,
          2017
         ],
         "xaxis": "x",
         "y": [
          85.16647585023489,
          83.76335480604236,
          95.61584770317027,
          109.0562392753664,
          87.25043854960758,
          50.3738822470393
         ],
         "yaxis": "y"
        },
        {
         "hovertemplate": "county_99=woodbury<br>yeer=%{x}<br>value=%{y}<extra></extra>",
         "legendgroup": "woodbury",
         "line": {
          "color": "#00cc96",
          "dash": "solid"
         },
         "marker": {
          "symbol": "circle"
         },
         "mode": "lines",
         "name": "woodbury",
         "orientation": "v",
         "showlegend": true,
         "type": "scatter",
         "x": [
          2012,
          2013,
          2014,
          2015,
          2016,
          2017
         ],
         "xaxis": "x",
         "y": [
          83.07408760051196,
          85.20016814686716,
          90.47439751443562,
          98.82891657140624,
          81.32910044845678,
          52.63989692333245
         ],
         "yaxis": "y"
        },
        {
         "hovertemplate": "county_99=clay<br>yeer=%{x}<br>value=%{y}<extra></extra>",
         "legendgroup": "clay",
         "line": {
          "color": "#ab63fa",
          "dash": "solid"
         },
         "marker": {
          "symbol": "circle"
         },
         "mode": "lines",
         "name": "clay",
         "orientation": "v",
         "showlegend": true,
         "type": "scatter",
         "x": [
          2012,
          2013,
          2014,
          2015,
          2016,
          2017
         ],
         "xaxis": "x",
         "y": [
          86.28215054413543,
          88.4600392986699,
          89.47119286577993,
          95.03364268440146,
          80.87763059250302,
          49.42930773881499
         ],
         "yaxis": "y"
        },
        {
         "hovertemplate": "county_99=story<br>yeer=%{x}<br>value=%{y}<extra></extra>",
         "legendgroup": "story",
         "line": {
          "color": "#FFA15A",
          "dash": "solid"
         },
         "marker": {
          "symbol": "circle"
         },
         "mode": "lines",
         "name": "story",
         "orientation": "v",
         "showlegend": true,
         "type": "scatter",
         "x": [
          2012,
          2013,
          2014,
          2015,
          2016,
          2017
         ],
         "xaxis": "x",
         "y": [
          87.232540142972,
          85.94047530582534,
          91.16354246789649,
          92.98965126132586,
          82.06568357125785,
          49.13965734524042
         ],
         "yaxis": "y"
        },
        {
         "hovertemplate": "county_99=obrien<br>yeer=%{x}<br>value=%{y}<extra></extra>",
         "legendgroup": "obrien",
         "line": {
          "color": "#19d3f3",
          "dash": "solid"
         },
         "marker": {
          "symbol": "circle"
         },
         "mode": "lines",
         "name": "obrien",
         "orientation": "v",
         "showlegend": true,
         "type": "scatter",
         "x": [
          2012,
          2013,
          2014,
          2015,
          2016,
          2017
         ],
         "xaxis": "x",
         "y": [
          92.85349371202487,
          84.6561078140455,
          87.10237247421223,
          89.9462250953794,
          77.53747421223683,
          50.75192807686873
         ],
         "yaxis": "y"
        },
        {
         "hovertemplate": "county_99=des moines<br>yeer=%{x}<br>value=%{y}<extra></extra>",
         "legendgroup": "des moines",
         "line": {
          "color": "#FF6692",
          "dash": "solid"
         },
         "marker": {
          "symbol": "circle"
         },
         "mode": "lines",
         "name": "des moines",
         "orientation": "v",
         "showlegend": true,
         "type": "scatter",
         "x": [
          2012,
          2013,
          2014,
          2015,
          2016,
          2017
         ],
         "xaxis": "x",
         "y": [
          77.42322632742813,
          77.20856734663454,
          88.706805973116,
          95.72854498471936,
          84.8032742813129,
          54.29319899619848
         ],
         "yaxis": "y"
        },
        {
         "hovertemplate": "county_99=iowa<br>yeer=%{x}<br>value=%{y}<extra></extra>",
         "legendgroup": "iowa",
         "line": {
          "color": "#B6E880",
          "dash": "solid"
         },
         "marker": {
          "symbol": "circle"
         },
         "mode": "lines",
         "name": "iowa",
         "orientation": "v",
         "showlegend": true,
         "type": "scatter",
         "x": [
          2012,
          2013,
          2014,
          2015,
          2016,
          2017
         ],
         "xaxis": "x",
         "y": [
          112.32368967434962,
          102.6242161527529,
          94.94186059445097,
          65.80070320706915,
          59.39068157943521,
          42.57130383736019
         ],
         "yaxis": "y"
        },
        {
         "hovertemplate": "county_99=dubuque<br>yeer=%{x}<br>value=%{y}<extra></extra>",
         "legendgroup": "dubuque",
         "line": {
          "color": "#FF97FF",
          "dash": "solid"
         },
         "marker": {
          "symbol": "circle"
         },
         "mode": "lines",
         "name": "dubuque",
         "orientation": "v",
         "showlegend": true,
         "type": "scatter",
         "x": [
          2012,
          2013,
          2014,
          2015,
          2016,
          2017
         ],
         "xaxis": "x",
         "y": [
          84.12425485643445,
          82.47631740962147,
          85.58032799974785,
          91.50961285103432,
          77.37872014960655,
          48.67493050229558
         ],
         "yaxis": "y"
        },
        {
         "hovertemplate": "county_99=buena vista<br>yeer=%{x}<br>value=%{y}<extra></extra>",
         "legendgroup": "buena vista",
         "line": {
          "color": "#FECB52",
          "dash": "solid"
         },
         "marker": {
          "symbol": "circle"
         },
         "mode": "lines",
         "name": "buena vista",
         "orientation": "v",
         "showlegend": true,
         "type": "scatter",
         "x": [
          2012,
          2013,
          2014,
          2015,
          2016,
          2017
         ],
         "xaxis": "x",
         "y": [
          80.94544946006421,
          84.22771621753088,
          80.81643934234847,
          87.69836511333787,
          76.98328874404125,
          46.13785484969355
         ],
         "yaxis": "y"
        },
        {
         "hovertemplate": "county_99=webster<br>yeer=%{x}<br>value=%{y}<extra></extra>",
         "legendgroup": "webster",
         "line": {
          "color": "#636efa",
          "dash": "solid"
         },
         "marker": {
          "symbol": "circle"
         },
         "mode": "lines",
         "name": "webster",
         "orientation": "v",
         "showlegend": true,
         "type": "scatter",
         "x": [
          2012,
          2013,
          2014,
          2015,
          2016,
          2017
         ],
         "xaxis": "x",
         "y": [
          75.9581291013794,
          82.6324189098701,
          77.34228632650328,
          87.93811195928753,
          78.82106682737378,
          51.76998741127628
         ],
         "yaxis": "y"
        },
        {
         "hovertemplate": "county_99=cass<br>yeer=%{x}<br>value=%{y}<extra></extra>",
         "legendgroup": "cass",
         "line": {
          "color": "#EF553B",
          "dash": "solid"
         },
         "marker": {
          "symbol": "circle"
         },
         "mode": "lines",
         "name": "cass",
         "orientation": "v",
         "showlegend": true,
         "type": "scatter",
         "x": [
          2012,
          2013,
          2014,
          2015,
          2016,
          2017
         ],
         "xaxis": "x",
         "y": [
          84.40203913265678,
          77.26885668394539,
          77.55160546104986,
          83.38127984230124,
          75.88148061619333,
          52.90057822880923
         ],
         "yaxis": "y"
        },
        {
         "hovertemplate": "county_99=union<br>yeer=%{x}<br>value=%{y}<extra></extra>",
         "legendgroup": "union",
         "line": {
          "color": "#00cc96",
          "dash": "solid"
         },
         "marker": {
          "symbol": "circle"
         },
         "mode": "lines",
         "name": "union",
         "orientation": "v",
         "showlegend": true,
         "type": "scatter",
         "x": [
          2012,
          2013,
          2014,
          2015,
          2016,
          2017
         ],
         "xaxis": "x",
         "y": [
          67.61679221295192,
          75.76263090981327,
          73.23082479141836,
          76.98112832737385,
          71.56060786650775,
          40.40821136273341
         ],
         "yaxis": "y"
        },
        {
         "hovertemplate": "county_99=page<br>yeer=%{x}<br>value=%{y}<extra></extra>",
         "legendgroup": "page",
         "line": {
          "color": "#ab63fa",
          "dash": "solid"
         },
         "marker": {
          "symbol": "circle"
         },
         "mode": "lines",
         "name": "page",
         "orientation": "v",
         "showlegend": true,
         "type": "scatter",
         "x": [
          2012,
          2013,
          2014,
          2015,
          2016,
          2017
         ],
         "xaxis": "x",
         "y": [
          75.7224240687679,
          73.14398153454314,
          72.27392104425343,
          75.02553072269977,
          58.968162368672395,
          49.44319134033747
         ],
         "yaxis": "y"
        },
        {
         "hovertemplate": "county_99=poweshiek<br>yeer=%{x}<br>value=%{y}<extra></extra>",
         "legendgroup": "poweshiek",
         "line": {
          "color": "#FFA15A",
          "dash": "solid"
         },
         "marker": {
          "symbol": "circle"
         },
         "mode": "lines",
         "name": "poweshiek",
         "orientation": "v",
         "showlegend": true,
         "type": "scatter",
         "x": [
          2012,
          2013,
          2014,
          2015,
          2016,
          2017
         ],
         "xaxis": "x",
         "y": [
          67.30106544251095,
          71.46476406533576,
          75.50621276822889,
          72.04292889932742,
          66.13749279385075,
          44.737719654104836
         ],
         "yaxis": "y"
        },
        {
         "hovertemplate": "county_99=ida<br>yeer=%{x}<br>value=%{y}<extra></extra>",
         "legendgroup": "ida",
         "line": {
          "color": "#19d3f3",
          "dash": "solid"
         },
         "marker": {
          "symbol": "circle"
         },
         "mode": "lines",
         "name": "ida",
         "orientation": "v",
         "showlegend": true,
         "type": "scatter",
         "x": [
          2012,
          2013,
          2014,
          2015,
          2016,
          2017
         ],
         "xaxis": "x",
         "y": [
          62.485454932576296,
          60.04492689850958,
          57.775535841022,
          77.68216181689141,
          79.52534137686303,
          55.0173569907736
         ],
         "yaxis": "y"
        },
        {
         "hovertemplate": "county_99=wapello<br>yeer=%{x}<br>value=%{y}<extra></extra>",
         "legendgroup": "wapello",
         "line": {
          "color": "#FF6692",
          "dash": "solid"
         },
         "marker": {
          "symbol": "circle"
         },
         "mode": "lines",
         "name": "wapello",
         "orientation": "v",
         "showlegend": true,
         "type": "scatter",
         "x": [
          2012,
          2013,
          2014,
          2015,
          2016,
          2017
         ],
         "xaxis": "x",
         "y": [
          67.58625684448208,
          70.43327744848997,
          71.66244228055321,
          77.49463364380469,
          60.21662545865086,
          44.89993875246966
         ],
         "yaxis": "y"
        },
        {
         "hovertemplate": "county_99=howard<br>yeer=%{x}<br>value=%{y}<extra></extra>",
         "legendgroup": "howard",
         "line": {
          "color": "#B6E880",
          "dash": "solid"
         },
         "marker": {
          "symbol": "circle"
         },
         "mode": "lines",
         "name": "howard",
         "orientation": "v",
         "showlegend": true,
         "type": "scatter",
         "x": [
          2012,
          2013,
          2014,
          2015,
          2016,
          2017
         ],
         "xaxis": "x",
         "y": [
          77.90107120418848,
          77.12497277486911,
          82.83309947643978,
          74.40000314136125,
          38.69239895287958,
          39.07122827225131
         ],
         "yaxis": "y"
        },
        {
         "hovertemplate": "county_99=bremer<br>yeer=%{x}<br>value=%{y}<extra></extra>",
         "legendgroup": "bremer",
         "line": {
          "color": "#FF97FF",
          "dash": "solid"
         },
         "marker": {
          "symbol": "circle"
         },
         "mode": "lines",
         "name": "bremer",
         "orientation": "v",
         "showlegend": true,
         "type": "scatter",
         "x": [
          2012,
          2013,
          2014,
          2015,
          2016,
          2017
         ],
         "xaxis": "x",
         "y": [
          72.52944201804155,
          71.88208049308135,
          71.91411404547124,
          73.24065390424099,
          61.6197412139271,
          38.12606637005592
         ],
         "yaxis": "y"
        },
        {
         "hovertemplate": "county_99=crawford<br>yeer=%{x}<br>value=%{y}<extra></extra>",
         "legendgroup": "crawford",
         "line": {
          "color": "#FECB52",
          "dash": "solid"
         },
         "marker": {
          "symbol": "circle"
         },
         "mode": "lines",
         "name": "crawford",
         "orientation": "v",
         "showlegend": true,
         "type": "scatter",
         "x": [
          2012,
          2013,
          2014,
          2015,
          2016,
          2017
         ],
         "xaxis": "x",
         "y": [
          74.46336803145964,
          69.53373987971317,
          74.43052567661346,
          73.1650688179505,
          61.37570205875549,
          31.55182916955818
         ],
         "yaxis": "y"
        },
        {
         "hovertemplate": "county_99=floyd<br>yeer=%{x}<br>value=%{y}<extra></extra>",
         "legendgroup": "floyd",
         "line": {
          "color": "#636efa",
          "dash": "solid"
         },
         "marker": {
          "symbol": "circle"
         },
         "mode": "lines",
         "name": "floyd",
         "orientation": "v",
         "showlegend": true,
         "type": "scatter",
         "x": [
          2012,
          2013,
          2014,
          2015,
          2016,
          2017
         ],
         "xaxis": "x",
         "y": [
          65.50125108763207,
          63.24866128029832,
          66.4604313238036,
          76.1734766935985,
          67.60075761342449,
          43.68875388440025
         ],
         "yaxis": "y"
        },
        {
         "hovertemplate": "county_99=marshall<br>yeer=%{x}<br>value=%{y}<extra></extra>",
         "legendgroup": "marshall",
         "line": {
          "color": "#EF553B",
          "dash": "solid"
         },
         "marker": {
          "symbol": "circle"
         },
         "mode": "lines",
         "name": "marshall",
         "orientation": "v",
         "showlegend": true,
         "type": "scatter",
         "x": [
          2012,
          2013,
          2014,
          2015,
          2016,
          2017
         ],
         "xaxis": "x",
         "y": [
          66.10001121076233,
          65.466636283876,
          66.51666845388965,
          73.75485157925522,
          67.58327695457204,
          41.42849824527198
         ],
         "yaxis": "y"
        },
        {
         "hovertemplate": "county_99=clinton<br>yeer=%{x}<br>value=%{y}<extra></extra>",
         "legendgroup": "clinton",
         "line": {
          "color": "#00cc96",
          "dash": "solid"
         },
         "marker": {
          "symbol": "circle"
         },
         "mode": "lines",
         "name": "clinton",
         "orientation": "v",
         "showlegend": true,
         "type": "scatter",
         "x": [
          2012,
          2013,
          2014,
          2015,
          2016,
          2017
         ],
         "xaxis": "x",
         "y": [
          67.47365400012318,
          67.51389809283324,
          68.41076040319435,
          69.83073022520581,
          61.142238508755725,
          42.89209254583154
         ],
         "yaxis": "y"
        },
        {
         "hovertemplate": "county_99=muscatine<br>yeer=%{x}<br>value=%{y}<extra></extra>",
         "legendgroup": "muscatine",
         "line": {
          "color": "#ab63fa",
          "dash": "solid"
         },
         "marker": {
          "symbol": "circle"
         },
         "mode": "lines",
         "name": "muscatine",
         "orientation": "v",
         "showlegend": true,
         "type": "scatter",
         "x": [
          2012,
          2013,
          2014,
          2015,
          2016,
          2017
         ],
         "xaxis": "x",
         "y": [
          63.94975327337962,
          65.6437484273799,
          69.0728046223382,
          70.45223288756348,
          64.23391640650482,
          42.968055309631424
         ],
         "yaxis": "y"
        },
        {
         "hovertemplate": "county_99=winnebago<br>yeer=%{x}<br>value=%{y}<extra></extra>",
         "legendgroup": "winnebago",
         "line": {
          "color": "#FFA15A",
          "dash": "solid"
         },
         "marker": {
          "symbol": "circle"
         },
         "mode": "lines",
         "name": "winnebago",
         "orientation": "v",
         "showlegend": true,
         "type": "scatter",
         "x": [
          2012,
          2013,
          2014,
          2015,
          2016,
          2017
         ],
         "xaxis": "x",
         "y": [
          59.20358408748115,
          62.73262726244344,
          65.04728129713423,
          68.53571644042232,
          67.08490667420814,
          47.9388084464555
         ],
         "yaxis": "y"
        },
        {
         "hovertemplate": "county_99=palo alto<br>yeer=%{x}<br>value=%{y}<extra></extra>",
         "legendgroup": "palo alto",
         "line": {
          "color": "#19d3f3",
          "dash": "solid"
         },
         "marker": {
          "symbol": "circle"
         },
         "mode": "lines",
         "name": "palo alto",
         "orientation": "v",
         "showlegend": true,
         "type": "scatter",
         "x": [
          2012,
          2013,
          2014,
          2015,
          2016,
          2017
         ],
         "xaxis": "x",
         "y": [
          63.57767083423152,
          72.07854171157577,
          68.34170510885967,
          65.07838973916792,
          59.50580728605303,
          35.06007868075016
         ],
         "yaxis": "y"
        },
        {
         "hovertemplate": "county_99=humboldt<br>yeer=%{x}<br>value=%{y}<extra></extra>",
         "legendgroup": "humboldt",
         "line": {
          "color": "#FF6692",
          "dash": "solid"
         },
         "marker": {
          "symbol": "circle"
         },
         "mode": "lines",
         "name": "humboldt",
         "orientation": "v",
         "showlegend": true,
         "type": "scatter",
         "x": [
          2012,
          2013,
          2014,
          2015,
          2016,
          2017
         ],
         "xaxis": "x",
         "y": [
          65.21128547922666,
          61.88814788153024,
          66.08588749485808,
          66.71514705882353,
          60.47009872480461,
          40.04175442204854
         ],
         "yaxis": "y"
        },
        {
         "hovertemplate": "county_99=dallas<br>yeer=%{x}<br>value=%{y}<extra></extra>",
         "legendgroup": "dallas",
         "line": {
          "color": "#B6E880",
          "dash": "solid"
         },
         "marker": {
          "symbol": "circle"
         },
         "mode": "lines",
         "name": "dallas",
         "orientation": "v",
         "showlegend": true,
         "type": "scatter",
         "x": [
          2012,
          2013,
          2014,
          2015,
          2016,
          2017
         ],
         "xaxis": "x",
         "y": [
          57.453332272173625,
          65.53623062230096,
          80.65306721293322,
          76.99228989037759,
          57.593677472040746,
          22.010780644446903
         ],
         "yaxis": "y"
        },
        {
         "hovertemplate": "county_99=boone<br>yeer=%{x}<br>value=%{y}<extra></extra>",
         "legendgroup": "boone",
         "line": {
          "color": "#FF97FF",
          "dash": "solid"
         },
         "marker": {
          "symbol": "circle"
         },
         "mode": "lines",
         "name": "boone",
         "orientation": "v",
         "showlegend": true,
         "type": "scatter",
         "x": [
          2012,
          2013,
          2014,
          2015,
          2016,
          2017
         ],
         "xaxis": "x",
         "y": [
          55.767717882010864,
          63.69728288315862,
          63.95164511439284,
          66.9929998469661,
          59.13132412579386,
          44.43736666921723
         ],
         "yaxis": "y"
        },
        {
         "hovertemplate": "county_99=winneshiek<br>yeer=%{x}<br>value=%{y}<extra></extra>",
         "legendgroup": "winneshiek",
         "line": {
          "color": "#FECB52",
          "dash": "solid"
         },
         "marker": {
          "symbol": "circle"
         },
         "mode": "lines",
         "name": "winneshiek",
         "orientation": "v",
         "showlegend": true,
         "type": "scatter",
         "x": [
          2012,
          2013,
          2014,
          2015,
          2016,
          2017
         ],
         "xaxis": "x",
         "y": [
          63.14204104903079,
          61.95886545039909,
          64.39038578487268,
          61.0472748004561,
          59.21531309388065,
          42.75395049410871
         ],
         "yaxis": "y"
        },
        {
         "hovertemplate": "county_99=plymouth<br>yeer=%{x}<br>value=%{y}<extra></extra>",
         "legendgroup": "plymouth",
         "line": {
          "color": "#636efa",
          "dash": "solid"
         },
         "marker": {
          "symbol": "circle"
         },
         "mode": "lines",
         "name": "plymouth",
         "orientation": "v",
         "showlegend": true,
         "type": "scatter",
         "x": [
          2012,
          2013,
          2014,
          2015,
          2016,
          2017
         ],
         "xaxis": "x",
         "y": [
          60.91628804960541,
          60.58430222258013,
          63.29810033821872,
          62.74253060074086,
          58.1139913834756,
          40.41326381059752
         ],
         "yaxis": "y"
        },
        {
         "hovertemplate": "county_99=emmet<br>yeer=%{x}<br>value=%{y}<extra></extra>",
         "legendgroup": "emmet",
         "line": {
          "color": "#EF553B",
          "dash": "solid"
         },
         "marker": {
          "symbol": "circle"
         },
         "mode": "lines",
         "name": "emmet",
         "orientation": "v",
         "showlegend": true,
         "type": "scatter",
         "x": [
          2012,
          2013,
          2014,
          2015,
          2016,
          2017
         ],
         "xaxis": "x",
         "y": [
          66.06272489697457,
          66.3720946828827,
          58.64534023519952,
          58.8749964820585,
          56.23216705196502,
          38.58954970348779
         ],
         "yaxis": "y"
        },
        {
         "hovertemplate": "county_99=washington<br>yeer=%{x}<br>value=%{y}<extra></extra>",
         "legendgroup": "washington",
         "line": {
          "color": "#00cc96",
          "dash": "solid"
         },
         "marker": {
          "symbol": "circle"
         },
         "mode": "lines",
         "name": "washington",
         "orientation": "v",
         "showlegend": true,
         "type": "scatter",
         "x": [
          2012,
          2013,
          2014,
          2015,
          2016,
          2017
         ],
         "xaxis": "x",
         "y": [
          55.71640529438613,
          58.45381150159744,
          63.353205385668645,
          66.73876266544957,
          62.22310999543588,
          35.6520460976723
         ],
         "yaxis": "y"
        },
        {
         "hovertemplate": "county_99=appanoose<br>yeer=%{x}<br>value=%{y}<extra></extra>",
         "legendgroup": "appanoose",
         "line": {
          "color": "#ab63fa",
          "dash": "solid"
         },
         "marker": {
          "symbol": "circle"
         },
         "mode": "lines",
         "name": "appanoose",
         "orientation": "v",
         "showlegend": true,
         "type": "scatter",
         "x": [
          2012,
          2013,
          2014,
          2015,
          2016,
          2017
         ],
         "xaxis": "x",
         "y": [
          54.06073940061354,
          61.410781876819,
          60.54020058208133,
          65.7108416581452,
          58.46045937229607,
          39.48429009675136
         ],
         "yaxis": "y"
        },
        {
         "hovertemplate": "county_99=cherokee<br>yeer=%{x}<br>value=%{y}<extra></extra>",
         "legendgroup": "cherokee",
         "line": {
          "color": "#FFA15A",
          "dash": "solid"
         },
         "marker": {
          "symbol": "circle"
         },
         "mode": "lines",
         "name": "cherokee",
         "orientation": "v",
         "showlegend": true,
         "type": "scatter",
         "x": [
          2012,
          2013,
          2014,
          2015,
          2016,
          2017
         ],
         "xaxis": "x",
         "y": [
          59.51767358206458,
          63.251402041157775,
          56.125723607160786,
          62.183280910155595,
          56.8096202108081,
          41.36996821147733
         ],
         "yaxis": "y"
        },
        {
         "hovertemplate": "county_99=buchanan<br>yeer=%{x}<br>value=%{y}<extra></extra>",
         "legendgroup": "buchanan",
         "line": {
          "color": "#19d3f3",
          "dash": "solid"
         },
         "marker": {
          "symbol": "circle"
         },
         "mode": "lines",
         "name": "buchanan",
         "orientation": "v",
         "showlegend": true,
         "type": "scatter",
         "x": [
          2012,
          2013,
          2014,
          2015,
          2016,
          2017
         ],
         "xaxis": "x",
         "y": [
          62.21481305072636,
          61.647666110978804,
          64.07796761133604,
          61.82351321743272,
          55.660835913312695,
          33.77857775660872
         ],
         "yaxis": "y"
        },
        {
         "hovertemplate": "county_99=clarke<br>yeer=%{x}<br>value=%{y}<extra></extra>",
         "legendgroup": "clarke",
         "line": {
          "color": "#FF6692",
          "dash": "solid"
         },
         "marker": {
          "symbol": "circle"
         },
         "mode": "lines",
         "name": "clarke",
         "orientation": "v",
         "showlegend": true,
         "type": "scatter",
         "x": [
          2012,
          2013,
          2014,
          2015,
          2016,
          2017
         ],
         "xaxis": "x",
         "y": [
          54.094367705321766,
          59.04018524467288,
          63.70310204518685,
          71.25215868936716,
          53.03189956098083,
          32.06365884998394
         ],
         "yaxis": "y"
        },
        {
         "hovertemplate": "county_99=jackson<br>yeer=%{x}<br>value=%{y}<extra></extra>",
         "legendgroup": "jackson",
         "line": {
          "color": "#B6E880",
          "dash": "solid"
         },
         "marker": {
          "symbol": "circle"
         },
         "mode": "lines",
         "name": "jackson",
         "orientation": "v",
         "showlegend": true,
         "type": "scatter",
         "x": [
          2012,
          2013,
          2014,
          2015,
          2016,
          2017
         ],
         "xaxis": "x",
         "y": [
          58.920445539524486,
          60.0462096118675,
          58.96490245884983,
          61.33998018695387,
          57.546069396464134,
          36.01676945742735
         ],
         "yaxis": "y"
        },
        {
         "hovertemplate": "county_99=lyon<br>yeer=%{x}<br>value=%{y}<extra></extra>",
         "legendgroup": "lyon",
         "line": {
          "color": "#FF97FF",
          "dash": "solid"
         },
         "marker": {
          "symbol": "circle"
         },
         "mode": "lines",
         "name": "lyon",
         "orientation": "v",
         "showlegend": true,
         "type": "scatter",
         "x": [
          2012,
          2013,
          2014,
          2015,
          2016,
          2017
         ],
         "xaxis": "x",
         "y": [
          45.57092849247513,
          54.091115551398694,
          59.713252274466456,
          67.05104327863278,
          54.74529886914378,
          38.044789558710995
         ],
         "yaxis": "y"
        },
        {
         "hovertemplate": "county_99=montgomery<br>yeer=%{x}<br>value=%{y}<extra></extra>",
         "legendgroup": "montgomery",
         "line": {
          "color": "#FECB52",
          "dash": "solid"
         },
         "marker": {
          "symbol": "circle"
         },
         "mode": "lines",
         "name": "montgomery",
         "orientation": "v",
         "showlegend": true,
         "type": "scatter",
         "x": [
          2012,
          2013,
          2014,
          2015,
          2016,
          2017
         ],
         "xaxis": "x",
         "y": [
          53.96670714353477,
          51.34375011858457,
          57.33221895455839,
          59.33641210511337,
          57.562351769281854,
          39.19775637985011
         ],
         "yaxis": "y"
        },
        {
         "hovertemplate": "county_99=allamakee<br>yeer=%{x}<br>value=%{y}<extra></extra>",
         "legendgroup": "allamakee",
         "line": {
          "color": "#636efa",
          "dash": "solid"
         },
         "marker": {
          "symbol": "circle"
         },
         "mode": "lines",
         "name": "allamakee",
         "orientation": "v",
         "showlegend": true,
         "type": "scatter",
         "x": [
          2012,
          2013,
          2014,
          2015,
          2016,
          2017
         ],
         "xaxis": "x",
         "y": [
          55.52278727915194,
          57.35069752650177,
          56.238732862190815,
          58.20348268551237,
          54.92568621908127,
          36.28032791519435
         ],
         "yaxis": "y"
        },
        {
         "hovertemplate": "county_99=marion<br>yeer=%{x}<br>value=%{y}<extra></extra>",
         "legendgroup": "marion",
         "line": {
          "color": "#EF553B",
          "dash": "solid"
         },
         "marker": {
          "symbol": "circle"
         },
         "mode": "lines",
         "name": "marion",
         "orientation": "v",
         "showlegend": true,
         "type": "scatter",
         "x": [
          2012,
          2013,
          2014,
          2015,
          2016,
          2017
         ],
         "xaxis": "x",
         "y": [
          50.83140908134748,
          55.84280674339634,
          58.44819364726388,
          59.34120984463744,
          55.80441806653244,
          36.70223307389488
         ],
         "yaxis": "y"
        },
        {
         "hovertemplate": "county_99=monona<br>yeer=%{x}<br>value=%{y}<extra></extra>",
         "legendgroup": "monona",
         "line": {
          "color": "#00cc96",
          "dash": "solid"
         },
         "marker": {
          "symbol": "circle"
         },
         "mode": "lines",
         "name": "monona",
         "orientation": "v",
         "showlegend": true,
         "type": "scatter",
         "x": [
          2012,
          2013,
          2014,
          2015,
          2016,
          2017
         ],
         "xaxis": "x",
         "y": [
          56.154797579757975,
          57.11780198019802,
          59.086457645764575,
          57.17276787678768,
          53.8434400440044,
          33.51788338833883
         ],
         "yaxis": "y"
        },
        {
         "hovertemplate": "county_99=shelby<br>yeer=%{x}<br>value=%{y}<extra></extra>",
         "legendgroup": "shelby",
         "line": {
          "color": "#ab63fa",
          "dash": "solid"
         },
         "marker": {
          "symbol": "circle"
         },
         "mode": "lines",
         "name": "shelby",
         "orientation": "v",
         "showlegend": true,
         "type": "scatter",
         "x": [
          2012,
          2013,
          2014,
          2015,
          2016,
          2017
         ],
         "xaxis": "x",
         "y": [
          58.97645445478723,
          60.0374493018617,
          65.84300615026596,
          69.50704537898936,
          31.68870345744681,
          30.096122007978725
         ],
         "yaxis": "y"
        },
        {
         "hovertemplate": "county_99=adair<br>yeer=%{x}<br>value=%{y}<extra></extra>",
         "legendgroup": "adair",
         "line": {
          "color": "#FFA15A",
          "dash": "solid"
         },
         "marker": {
          "symbol": "circle"
         },
         "mode": "lines",
         "name": "adair",
         "orientation": "v",
         "showlegend": true,
         "type": "scatter",
         "x": [
          2012,
          2013,
          2014,
          2015,
          2016,
          2017
         ],
         "xaxis": "x",
         "y": [
          55.410056255022766,
          50.70777658719528,
          55.326958210554515,
          56.89135012054648,
          52.288094026252345,
          34.35978435574605
         ],
         "yaxis": "y"
        },
        {
         "hovertemplate": "county_99=fayette<br>yeer=%{x}<br>value=%{y}<extra></extra>",
         "legendgroup": "fayette",
         "line": {
          "color": "#19d3f3",
          "dash": "solid"
         },
         "marker": {
          "symbol": "circle"
         },
         "mode": "lines",
         "name": "fayette",
         "orientation": "v",
         "showlegend": true,
         "type": "scatter",
         "x": [
          2012,
          2013,
          2014,
          2015,
          2016,
          2017
         ],
         "xaxis": "x",
         "y": [
          53.82687623357243,
          52.54002551388822,
          53.949590333606125,
          54.13849708756559,
          54.95673662927839,
          32.553081403745246
         ],
         "yaxis": "y"
        },
        {
         "hovertemplate": "county_99=sac<br>yeer=%{x}<br>value=%{y}<extra></extra>",
         "legendgroup": "sac",
         "line": {
          "color": "#FF6692",
          "dash": "solid"
         },
         "marker": {
          "symbol": "circle"
         },
         "mode": "lines",
         "name": "sac",
         "orientation": "v",
         "showlegend": true,
         "type": "scatter",
         "x": [
          2012,
          2013,
          2014,
          2015,
          2016,
          2017
         ],
         "xaxis": "x",
         "y": [
          54.685151067808285,
          50.330800118098615,
          50.93881409310107,
          53.77211396516091,
          49.479205786832004,
          33.219964570416295
         ],
         "yaxis": "y"
        },
        {
         "hovertemplate": "county_99=henry<br>yeer=%{x}<br>value=%{y}<extra></extra>",
         "legendgroup": "henry",
         "line": {
          "color": "#B6E880",
          "dash": "solid"
         },
         "marker": {
          "symbol": "circle"
         },
         "mode": "lines",
         "name": "henry",
         "orientation": "v",
         "showlegend": true,
         "type": "scatter",
         "x": [
          2012,
          2013,
          2014,
          2015,
          2016,
          2017
         ],
         "xaxis": "x",
         "y": [
          47.555644653302004,
          52.81068389741539,
          52.65248162775584,
          54.1553556966455,
          50.10825926111083,
          34.01617257411388
         ],
         "yaxis": "y"
        },
        {
         "hovertemplate": "county_99=hamilton<br>yeer=%{x}<br>value=%{y}<extra></extra>",
         "legendgroup": "hamilton",
         "line": {
          "color": "#FF97FF",
          "dash": "solid"
         },
         "marker": {
          "symbol": "circle"
         },
         "mode": "lines",
         "name": "hamilton",
         "orientation": "v",
         "showlegend": true,
         "type": "scatter",
         "x": [
          2012,
          2013,
          2014,
          2015,
          2016,
          2017
         ],
         "xaxis": "x",
         "y": [
          51.957690098557535,
          53.81892500489524,
          55.49607401605639,
          55.49021604333921,
          45.873333333333335,
          27.751103061157888
         ],
         "yaxis": "y"
        },
        {
         "hovertemplate": "county_99=jones<br>yeer=%{x}<br>value=%{y}<extra></extra>",
         "legendgroup": "jones",
         "line": {
          "color": "#FECB52",
          "dash": "solid"
         },
         "marker": {
          "symbol": "circle"
         },
         "mode": "lines",
         "name": "jones",
         "orientation": "v",
         "showlegend": true,
         "type": "scatter",
         "x": [
          2012,
          2013,
          2014,
          2015,
          2016,
          2017
         ],
         "xaxis": "x",
         "y": [
          59.16467575963499,
          55.82394087952626,
          52.30947674983011,
          49.27862586156684,
          37.87687506067372,
          33.36908261333851
         ],
         "yaxis": "y"
        },
        {
         "hovertemplate": "county_99=delaware<br>yeer=%{x}<br>value=%{y}<extra></extra>",
         "legendgroup": "delaware",
         "line": {
          "color": "#636efa",
          "dash": "solid"
         },
         "marker": {
          "symbol": "circle"
         },
         "mode": "lines",
         "name": "delaware",
         "orientation": "v",
         "showlegend": true,
         "type": "scatter",
         "x": [
          2012,
          2013,
          2014,
          2015,
          2016,
          2017
         ],
         "xaxis": "x",
         "y": [
          50.35855305100182,
          52.93315915300546,
          50.185338683970855,
          49.60557775500911,
          49.09514856557377,
          33.08398110200364
         ],
         "yaxis": "y"
        },
        {
         "hovertemplate": "county_99=jefferson<br>yeer=%{x}<br>value=%{y}<extra></extra>",
         "legendgroup": "jefferson",
         "line": {
          "color": "#EF553B",
          "dash": "solid"
         },
         "marker": {
          "symbol": "circle"
         },
         "mode": "lines",
         "name": "jefferson",
         "orientation": "v",
         "showlegend": true,
         "type": "scatter",
         "x": [
          2012,
          2013,
          2014,
          2015,
          2016,
          2017
         ],
         "xaxis": "x",
         "y": [
          43.20119611133615,
          45.74773045541346,
          45.24133209883687,
          49.98630982003356,
          49.31745327238007,
          32.30809559631966
         ],
         "yaxis": "y"
        },
        {
         "hovertemplate": "county_99=wright<br>yeer=%{x}<br>value=%{y}<extra></extra>",
         "legendgroup": "wright",
         "line": {
          "color": "#00cc96",
          "dash": "solid"
         },
         "marker": {
          "symbol": "circle"
         },
         "mode": "lines",
         "name": "wright",
         "orientation": "v",
         "showlegend": true,
         "type": "scatter",
         "x": [
          2012,
          2013,
          2014,
          2015,
          2016,
          2017
         ],
         "xaxis": "x",
         "y": [
          45.57657116522007,
          46.57293724556418,
          42.886263921960214,
          46.811845763883554,
          42.580337967585834,
          34.707151854981184
         ],
         "yaxis": "y"
        },
        {
         "hovertemplate": "county_99=jasper<br>yeer=%{x}<br>value=%{y}<extra></extra>",
         "legendgroup": "jasper",
         "line": {
          "color": "#ab63fa",
          "dash": "solid"
         },
         "marker": {
          "symbol": "circle"
         },
         "mode": "lines",
         "name": "jasper",
         "orientation": "v",
         "showlegend": true,
         "type": "scatter",
         "x": [
          2012,
          2013,
          2014,
          2015,
          2016,
          2017
         ],
         "xaxis": "x",
         "y": [
          47.07121777874969,
          46.91521389716535,
          47.63776371538693,
          45.700668343219526,
          39.591657053822814,
          26.47187491457781
         ],
         "yaxis": "y"
        },
        {
         "hovertemplate": "county_99=pocahontas<br>yeer=%{x}<br>value=%{y}<extra></extra>",
         "legendgroup": "pocahontas",
         "line": {
          "color": "#FFA15A",
          "dash": "solid"
         },
         "marker": {
          "symbol": "circle"
         },
         "mode": "lines",
         "name": "pocahontas",
         "orientation": "v",
         "showlegend": true,
         "type": "scatter",
         "x": [
          2012,
          2013,
          2014,
          2015,
          2016,
          2017
         ],
         "xaxis": "x",
         "y": [
          47.25995100097998,
          47.53613467730646,
          47.23132717345653,
          45.830936581268375,
          42.50592608147837,
          22.846073078538428
         ],
         "yaxis": "y"
        },
        {
         "hovertemplate": "county_99=warren<br>yeer=%{x}<br>value=%{y}<extra></extra>",
         "legendgroup": "warren",
         "line": {
          "color": "#19d3f3",
          "dash": "solid"
         },
         "marker": {
          "symbol": "circle"
         },
         "mode": "lines",
         "name": "warren",
         "orientation": "v",
         "showlegend": true,
         "type": "scatter",
         "x": [
          2012,
          2013,
          2014,
          2015,
          2016,
          2017
         ],
         "xaxis": "x",
         "y": [
          40.01498891399821,
          41.43311943035006,
          43.66781477849316,
          50.107987677482626,
          42.976082377521,
          31.721616424338038
         ],
         "yaxis": "y"
        },
        {
         "hovertemplate": "county_99=greene<br>yeer=%{x}<br>value=%{y}<extra></extra>",
         "legendgroup": "greene",
         "line": {
          "color": "#FF6692",
          "dash": "solid"
         },
         "marker": {
          "symbol": "circle"
         },
         "mode": "lines",
         "name": "greene",
         "orientation": "v",
         "showlegend": true,
         "type": "scatter",
         "x": [
          2012,
          2013,
          2014,
          2015,
          2016,
          2017
         ],
         "xaxis": "x",
         "y": [
          32.977693061757975,
          33.1990349635116,
          36.786356606034204,
          63.55236902298225,
          51.39656464437425,
          30.597110336564644
         ],
         "yaxis": "y"
        },
        {
         "hovertemplate": "county_99=lucas<br>yeer=%{x}<br>value=%{y}<extra></extra>",
         "legendgroup": "lucas",
         "line": {
          "color": "#B6E880",
          "dash": "solid"
         },
         "marker": {
          "symbol": "circle"
         },
         "mode": "lines",
         "name": "lucas",
         "orientation": "v",
         "showlegend": true,
         "type": "scatter",
         "x": [
          2012,
          2013,
          2014,
          2015,
          2016,
          2017
         ],
         "xaxis": "x",
         "y": [
          30.694828529110175,
          39.36484447989062,
          47.49773726785918,
          47.29053890851088,
          45.12191751167825,
          32.35016748319472
         ],
         "yaxis": "y"
        },
        {
         "hovertemplate": "county_99=madison<br>yeer=%{x}<br>value=%{y}<extra></extra>",
         "legendgroup": "madison",
         "line": {
          "color": "#FF97FF",
          "dash": "solid"
         },
         "marker": {
          "symbol": "circle"
         },
         "mode": "lines",
         "name": "madison",
         "orientation": "v",
         "showlegend": true,
         "type": "scatter",
         "x": [
          2012,
          2013,
          2014,
          2015,
          2016,
          2017
         ],
         "xaxis": "x",
         "y": [
          36.13607327834261,
          37.73963041115161,
          38.116228659121425,
          48.999698190421384,
          46.621735405077054,
          30.863053903702284
         ],
         "yaxis": "y"
        },
        {
         "hovertemplate": "county_99=franklin<br>yeer=%{x}<br>value=%{y}<extra></extra>",
         "legendgroup": "franklin",
         "line": {
          "color": "#FECB52",
          "dash": "solid"
         },
         "marker": {
          "symbol": "circle"
         },
         "mode": "lines",
         "name": "franklin",
         "orientation": "v",
         "showlegend": true,
         "type": "scatter",
         "x": [
          2012,
          2013,
          2014,
          2015,
          2016,
          2017
         ],
         "xaxis": "x",
         "y": [
          47.30576363117328,
          44.1529964792083,
          45.99302788086402,
          46.50395660862118,
          27.315806451612904,
          25.631027690550955
         ],
         "yaxis": "y"
        },
        {
         "hovertemplate": "county_99=mahaska<br>yeer=%{x}<br>value=%{y}<extra></extra>",
         "legendgroup": "mahaska",
         "line": {
          "color": "#636efa",
          "dash": "solid"
         },
         "marker": {
          "symbol": "circle"
         },
         "mode": "lines",
         "name": "mahaska",
         "orientation": "v",
         "showlegend": true,
         "type": "scatter",
         "x": [
          2012,
          2013,
          2014,
          2015,
          2016,
          2017
         ],
         "xaxis": "x",
         "y": [
          40.524897576650154,
          40.90087472664792,
          42.3780925603606,
          42.963662694693625,
          38.82770875172937,
          28.517282545633062
         ],
         "yaxis": "y"
        },
        {
         "hovertemplate": "county_99=sioux<br>yeer=%{x}<br>value=%{y}<extra></extra>",
         "legendgroup": "sioux",
         "line": {
          "color": "#EF553B",
          "dash": "solid"
         },
         "marker": {
          "symbol": "circle"
         },
         "mode": "lines",
         "name": "sioux",
         "orientation": "v",
         "showlegend": true,
         "type": "scatter",
         "x": [
          2012,
          2013,
          2014,
          2015,
          2016,
          2017
         ],
         "xaxis": "x",
         "y": [
          39.68360757094112,
          43.10101286126746,
          41.55284260258392,
          43.8157446994663,
          37.56588818571554,
          25.059211408906645
         ],
         "yaxis": "y"
        },
        {
         "hovertemplate": "county_99=mitchell<br>yeer=%{x}<br>value=%{y}<extra></extra>",
         "legendgroup": "mitchell",
         "line": {
          "color": "#00cc96",
          "dash": "solid"
         },
         "marker": {
          "symbol": "circle"
         },
         "mode": "lines",
         "name": "mitchell",
         "orientation": "v",
         "showlegend": true,
         "type": "scatter",
         "x": [
          2012,
          2013,
          2014,
          2015,
          2016,
          2017
         ],
         "xaxis": "x",
         "y": [
          40.4773613963039,
          41.701521373903304,
          41.25726059361583,
          40.824045174537986,
          38.840350009333584,
          24.140370543214484
         ],
         "yaxis": "y"
        },
        {
         "hovertemplate": "county_99=osceola<br>yeer=%{x}<br>value=%{y}<extra></extra>",
         "legendgroup": "osceola",
         "line": {
          "color": "#ab63fa",
          "dash": "solid"
         },
         "marker": {
          "symbol": "circle"
         },
         "mode": "lines",
         "name": "osceola",
         "orientation": "v",
         "showlegend": true,
         "type": "scatter",
         "x": [
          2012,
          2013,
          2014,
          2015,
          2016,
          2017
         ],
         "xaxis": "x",
         "y": [
          35.45655489279381,
          35.62596646783814,
          38.46429630823795,
          41.912821215540866,
          36.61244559084314,
          26.39419796872481
         ],
         "yaxis": "y"
        },
        {
         "hovertemplate": "county_99=monroe<br>yeer=%{x}<br>value=%{y}<extra></extra>",
         "legendgroup": "monroe",
         "line": {
          "color": "#FFA15A",
          "dash": "solid"
         },
         "marker": {
          "symbol": "circle"
         },
         "mode": "lines",
         "name": "monroe",
         "orientation": "v",
         "showlegend": true,
         "type": "scatter",
         "x": [
          2012,
          2013,
          2014,
          2015,
          2016,
          2017
         ],
         "xaxis": "x",
         "y": [
          36.14011400247831,
          33.77169640644362,
          36.345861214374224,
          38.50710656753407,
          38.51381288723668,
          28.272757125154893
         ],
         "yaxis": "y"
        },
        {
         "hovertemplate": "county_99=clayton<br>yeer=%{x}<br>value=%{y}<extra></extra>",
         "legendgroup": "clayton",
         "line": {
          "color": "#19d3f3",
          "dash": "solid"
         },
         "marker": {
          "symbol": "circle"
         },
         "mode": "lines",
         "name": "clayton",
         "orientation": "v",
         "showlegend": true,
         "type": "scatter",
         "x": [
          2012,
          2013,
          2014,
          2015,
          2016,
          2017
         ],
         "xaxis": "x",
         "y": [
          28.32469994985234,
          30.315656655708477,
          38.269305176352596,
          39.13108653256812,
          35.08725246559314,
          25.75029754276481
         ],
         "yaxis": "y"
        },
        {
         "hovertemplate": "county_99=tama<br>yeer=%{x}<br>value=%{y}<extra></extra>",
         "legendgroup": "tama",
         "line": {
          "color": "#FF6692",
          "dash": "solid"
         },
         "marker": {
          "symbol": "circle"
         },
         "mode": "lines",
         "name": "tama",
         "orientation": "v",
         "showlegend": true,
         "type": "scatter",
         "x": [
          2012,
          2013,
          2014,
          2015,
          2016,
          2017
         ],
         "xaxis": "x",
         "y": [
          30.580218285714285,
          31.773536,
          34.077073142857145,
          36.48316571428571,
          35.79761371428572,
          24.278326285714286
         ],
         "yaxis": "y"
        },
        {
         "hovertemplate": "county_99=calhoun<br>yeer=%{x}<br>value=%{y}<extra></extra>",
         "legendgroup": "calhoun",
         "line": {
          "color": "#B6E880",
          "dash": "solid"
         },
         "marker": {
          "symbol": "circle"
         },
         "mode": "lines",
         "name": "calhoun",
         "orientation": "v",
         "showlegend": true,
         "type": "scatter",
         "x": [
          2012,
          2013,
          2014,
          2015,
          2016,
          2017
         ],
         "xaxis": "x",
         "y": [
          36.18011501210654,
          33.9575292574657,
          33.13572134786118,
          32.54571731234867,
          30.704103107344633,
          21.533393866020983
         ],
         "yaxis": "y"
        },
        {
         "hovertemplate": "county_99=harrison<br>yeer=%{x}<br>value=%{y}<extra></extra>",
         "legendgroup": "harrison",
         "line": {
          "color": "#FF97FF",
          "dash": "solid"
         },
         "marker": {
          "symbol": "circle"
         },
         "mode": "lines",
         "name": "harrison",
         "orientation": "v",
         "showlegend": true,
         "type": "scatter",
         "x": [
          2012,
          2013,
          2014,
          2015,
          2016,
          2017
         ],
         "xaxis": "x",
         "y": [
          32.37479204090093,
          30.587206715489845,
          30.499082492745615,
          35.05809727787757,
          22.061926212519,
          22.929332596379716
         ],
         "yaxis": "y"
        },
        {
         "hovertemplate": "county_99=worth<br>yeer=%{x}<br>value=%{y}<extra></extra>",
         "legendgroup": "worth",
         "line": {
          "color": "#FECB52",
          "dash": "solid"
         },
         "marker": {
          "symbol": "circle"
         },
         "mode": "lines",
         "name": "worth",
         "orientation": "v",
         "showlegend": true,
         "type": "scatter",
         "x": [
          2012,
          2013,
          2014,
          2015,
          2016,
          2017
         ],
         "xaxis": "x",
         "y": [
          22.197754503002002,
          28.907472981987993,
          31.754205470313543,
          34.5452368245497,
          28.32783855903936,
          22.68783589059373
         ],
         "yaxis": "y"
        },
        {
         "hovertemplate": "county_99=mills<br>yeer=%{x}<br>value=%{y}<extra></extra>",
         "legendgroup": "mills",
         "line": {
          "color": "#636efa",
          "dash": "solid"
         },
         "marker": {
          "symbol": "circle"
         },
         "mode": "lines",
         "name": "mills",
         "orientation": "v",
         "showlegend": true,
         "type": "scatter",
         "x": [
          2012,
          2013,
          2014,
          2015,
          2016,
          2017
         ],
         "xaxis": "x",
         "y": [
          27.445701895925776,
          30.031493881941643,
          28.483943122226705,
          29.37166061583972,
          28.70989982519833,
          23.982701358074493
         ],
         "yaxis": "y"
        },
        {
         "hovertemplate": "county_99=chickasaw<br>yeer=%{x}<br>value=%{y}<extra></extra>",
         "legendgroup": "chickasaw",
         "line": {
          "color": "#EF553B",
          "dash": "solid"
         },
         "marker": {
          "symbol": "circle"
         },
         "mode": "lines",
         "name": "chickasaw",
         "orientation": "v",
         "showlegend": true,
         "type": "scatter",
         "x": [
          2012,
          2013,
          2014,
          2015,
          2016,
          2017
         ],
         "xaxis": "x",
         "y": [
          31.313108470990315,
          29.008304174464968,
          30.965853202050614,
          30.88403368866466,
          24.02314590283994,
          13.789746928147123
         ],
         "yaxis": "y"
        },
        {
         "hovertemplate": "county_99=ringgold<br>yeer=%{x}<br>value=%{y}<extra></extra>",
         "legendgroup": "ringgold",
         "line": {
          "color": "#00cc96",
          "dash": "solid"
         },
         "marker": {
          "symbol": "circle"
         },
         "mode": "lines",
         "name": "ringgold",
         "orientation": "v",
         "showlegend": true,
         "type": "scatter",
         "x": [
          2012,
          2013,
          2014,
          2015,
          2016,
          2017
         ],
         "xaxis": "x",
         "y": [
          25.995916417910447,
          28.091986069651742,
          28.32417313432836,
          27.598171144278606,
          28.568985074626866,
          20.475084577114426
         ],
         "yaxis": "y"
        },
        {
         "hovertemplate": "county_99=benton<br>yeer=%{x}<br>value=%{y}<extra></extra>",
         "legendgroup": "benton",
         "line": {
          "color": "#ab63fa",
          "dash": "solid"
         },
         "marker": {
          "symbol": "circle"
         },
         "mode": "lines",
         "name": "benton",
         "orientation": "v",
         "showlegend": true,
         "type": "scatter",
         "x": [
          2012,
          2013,
          2014,
          2015,
          2016,
          2017
         ],
         "xaxis": "x",
         "y": [
          24.80503503813543,
          26.63666653761276,
          27.039540826203105,
          28.110873436834567,
          25.577354911146386,
          17.782575012582758
         ],
         "yaxis": "y"
        },
        {
         "hovertemplate": "county_99=cedar<br>yeer=%{x}<br>value=%{y}<extra></extra>",
         "legendgroup": "cedar",
         "line": {
          "color": "#FFA15A",
          "dash": "solid"
         },
         "marker": {
          "symbol": "circle"
         },
         "mode": "lines",
         "name": "cedar",
         "orientation": "v",
         "showlegend": true,
         "type": "scatter",
         "x": [
          2012,
          2013,
          2014,
          2015,
          2016,
          2017
         ],
         "xaxis": "x",
         "y": [
          23.78392917645773,
          25.91605552215968,
          27.628429968850757,
          28.886586152248757,
          25.109250778731077,
          16.743759768293348
         ],
         "yaxis": "y"
        },
        {
         "hovertemplate": "county_99=guthrie<br>yeer=%{x}<br>value=%{y}<extra></extra>",
         "legendgroup": "guthrie",
         "line": {
          "color": "#19d3f3",
          "dash": "solid"
         },
         "marker": {
          "symbol": "circle"
         },
         "mode": "lines",
         "name": "guthrie",
         "orientation": "v",
         "showlegend": true,
         "type": "scatter",
         "x": [
          2012,
          2013,
          2014,
          2015,
          2016,
          2017
         ],
         "xaxis": "x",
         "y": [
          26.084097325408617,
          24.607185178306093,
          25.25479661961367,
          27.44924498514116,
          26.07442514858841,
          18.021263930163446
         ],
         "yaxis": "y"
        },
        {
         "hovertemplate": "county_99=hancock<br>yeer=%{x}<br>value=%{y}<extra></extra>",
         "legendgroup": "hancock",
         "line": {
          "color": "#FF6692",
          "dash": "solid"
         },
         "marker": {
          "symbol": "circle"
         },
         "mode": "lines",
         "name": "hancock",
         "orientation": "v",
         "showlegend": true,
         "type": "scatter",
         "x": [
          2012,
          2013,
          2014,
          2015,
          2016,
          2017
         ],
         "xaxis": "x",
         "y": [
          22.975957960644006,
          23.582638640429337,
          24.317959749552774,
          27.58486046511628,
          27.355764758497315,
          20.92495259391771
         ],
         "yaxis": "y"
        },
        {
         "hovertemplate": "county_99=audubon<br>yeer=%{x}<br>value=%{y}<extra></extra>",
         "legendgroup": "audubon",
         "line": {
          "color": "#B6E880",
          "dash": "solid"
         },
         "marker": {
          "symbol": "circle"
         },
         "mode": "lines",
         "name": "audubon",
         "orientation": "v",
         "showlegend": true,
         "type": "scatter",
         "x": [
          2012,
          2013,
          2014,
          2015,
          2016,
          2017
         ],
         "xaxis": "x",
         "y": [
          27.909406244668144,
          27.644306432349428,
          28.68343286128647,
          29.662042313598363,
          21.81529773076267,
          10.385705511004948
         ],
         "yaxis": "y"
        },
        {
         "hovertemplate": "county_99=van buren<br>yeer=%{x}<br>value=%{y}<extra></extra>",
         "legendgroup": "van buren",
         "line": {
          "color": "#FF97FF",
          "dash": "solid"
         },
         "marker": {
          "symbol": "circle"
         },
         "mode": "lines",
         "name": "van buren",
         "orientation": "v",
         "showlegend": true,
         "type": "scatter",
         "x": [
          2012,
          2013,
          2014,
          2015,
          2016,
          2017
         ],
         "xaxis": "x",
         "y": [
          25.488786414283798,
          24.931737145925627,
          24.099432138542085,
          23.391823063498457,
          25.186290777285542,
          14.865451738488387
         ],
         "yaxis": "y"
        },
        {
         "hovertemplate": "county_99=grundy<br>yeer=%{x}<br>value=%{y}<extra></extra>",
         "legendgroup": "grundy",
         "line": {
          "color": "#FECB52",
          "dash": "solid"
         },
         "marker": {
          "symbol": "circle"
         },
         "mode": "lines",
         "name": "grundy",
         "orientation": "v",
         "showlegend": true,
         "type": "scatter",
         "x": [
          2012,
          2013,
          2014,
          2015,
          2016,
          2017
         ],
         "xaxis": "x",
         "y": [
          23.939846425986975,
          23.153840154378067,
          22.27039318163544,
          24.3056838465868,
          24.03656267588647,
          14.97107501809118
         ],
         "yaxis": "y"
        },
        {
         "hovertemplate": "county_99=adams<br>yeer=%{x}<br>value=%{y}<extra></extra>",
         "legendgroup": "adams",
         "line": {
          "color": "#636efa",
          "dash": "solid"
         },
         "marker": {
          "symbol": "circle"
         },
         "mode": "lines",
         "name": "adams",
         "orientation": "v",
         "showlegend": true,
         "type": "scatter",
         "x": [
          2012,
          2013,
          2014,
          2015,
          2016,
          2017
         ],
         "xaxis": "x",
         "y": [
          24.7250358056266,
          23.346864450127878,
          23.151974424552428,
          25.728081841432225,
          19.199736572890025,
          11.276355498721228
         ],
         "yaxis": "y"
        },
        {
         "hovertemplate": "county_99=decatur<br>yeer=%{x}<br>value=%{y}<extra></extra>",
         "legendgroup": "decatur",
         "line": {
          "color": "#EF553B",
          "dash": "solid"
         },
         "marker": {
          "symbol": "circle"
         },
         "mode": "lines",
         "name": "decatur",
         "orientation": "v",
         "showlegend": true,
         "type": "scatter",
         "x": [
          2012,
          2013,
          2014,
          2015,
          2016,
          2017
         ],
         "xaxis": "x",
         "y": [
          18.52484649921126,
          20.406154592889212,
          20.420387088945517,
          21.535114670549692,
          18.14936172794564,
          12.327675039436961
         ],
         "yaxis": "y"
        },
        {
         "hovertemplate": "county_99=louisa<br>yeer=%{x}<br>value=%{y}<extra></extra>",
         "legendgroup": "louisa",
         "line": {
          "color": "#00cc96",
          "dash": "solid"
         },
         "marker": {
          "symbol": "circle"
         },
         "mode": "lines",
         "name": "louisa",
         "orientation": "v",
         "showlegend": true,
         "type": "scatter",
         "x": [
          2012,
          2013,
          2014,
          2015,
          2016,
          2017
         ],
         "xaxis": "x",
         "y": [
          20.988051742344243,
          20.42364132347765,
          20.803434530095036,
          20.453005103836677,
          13.663718760999648,
          10.819295142555438
         ],
         "yaxis": "y"
        },
        {
         "hovertemplate": "county_99=butler<br>yeer=%{x}<br>value=%{y}<extra></extra>",
         "legendgroup": "butler",
         "line": {
          "color": "#ab63fa",
          "dash": "solid"
         },
         "marker": {
          "symbol": "circle"
         },
         "mode": "lines",
         "name": "butler",
         "orientation": "v",
         "showlegend": true,
         "type": "scatter",
         "x": [
          2012,
          2013,
          2014,
          2015,
          2016,
          2017
         ],
         "xaxis": "x",
         "y": [
          15.000864947902752,
          16.164878439754208,
          18.15472214800962,
          18.910816190221748,
          18.755505610472884,
          13.093126502805237
         ],
         "yaxis": "y"
        },
        {
         "hovertemplate": "county_99=taylor<br>yeer=%{x}<br>value=%{y}<extra></extra>",
         "legendgroup": "taylor",
         "line": {
          "color": "#FFA15A",
          "dash": "solid"
         },
         "marker": {
          "symbol": "circle"
         },
         "mode": "lines",
         "name": "taylor",
         "orientation": "v",
         "showlegend": true,
         "type": "scatter",
         "x": [
          2012,
          2013,
          2014,
          2015,
          2016,
          2017
         ],
         "xaxis": "x",
         "y": [
          15.915280396229429,
          16.269875379453588,
          15.663609202748043,
          17.670290781274964,
          18.236977152899826,
          9.434294615753315
         ],
         "yaxis": "y"
        },
        {
         "hovertemplate": "county_99=wayne<br>yeer=%{x}<br>value=%{y}<extra></extra>",
         "legendgroup": "wayne",
         "line": {
          "color": "#19d3f3",
          "dash": "solid"
         },
         "marker": {
          "symbol": "circle"
         },
         "mode": "lines",
         "name": "wayne",
         "orientation": "v",
         "showlegend": true,
         "type": "scatter",
         "x": [
          2012,
          2013,
          2014,
          2015,
          2016,
          2017
         ],
         "xaxis": "x",
         "y": [
          25.554773265918787,
          13.440535629641333,
          11.061929214725865,
          16.659559172065098,
          14.0675272554906,
          11.04527887501975
         ],
         "yaxis": "y"
        },
        {
         "hovertemplate": "county_99=keokuk<br>yeer=%{x}<br>value=%{y}<extra></extra>",
         "legendgroup": "keokuk",
         "line": {
          "color": "#FF6692",
          "dash": "solid"
         },
         "marker": {
          "symbol": "circle"
         },
         "mode": "lines",
         "name": "keokuk",
         "orientation": "v",
         "showlegend": true,
         "type": "scatter",
         "x": [
          2012,
          2013,
          2014,
          2015,
          2016,
          2017
         ],
         "xaxis": "x",
         "y": [
          11.814777980243598,
          13.704160352929893,
          14.026338352354465,
          14.343606022825357,
          8.979899299894505,
          7.62729740097823
         ],
         "yaxis": "y"
        },
        {
         "hovertemplate": "county_99=davis<br>yeer=%{x}<br>value=%{y}<extra></extra>",
         "legendgroup": "davis",
         "line": {
          "color": "#B6E880",
          "dash": "solid"
         },
         "marker": {
          "symbol": "circle"
         },
         "mode": "lines",
         "name": "davis",
         "orientation": "v",
         "showlegend": true,
         "type": "scatter",
         "x": [
          2012,
          2013,
          2014,
          2015,
          2016,
          2017
         ],
         "xaxis": "x",
         "y": [
          9.933044227455486,
          10.759438253877082,
          11.255059161401494,
          11.049507179781735,
          10.713743825387708,
          7.355573808156232
         ],
         "yaxis": "y"
        },
        {
         "hovertemplate": "county_99=fremont<br>yeer=%{x}<br>value=%{y}<extra></extra>",
         "legendgroup": "fremont",
         "line": {
          "color": "#FF97FF",
          "dash": "solid"
         },
         "marker": {
          "symbol": "circle"
         },
         "mode": "lines",
         "name": "fremont",
         "orientation": "v",
         "showlegend": true,
         "type": "scatter",
         "x": [
          2012,
          2013,
          2014,
          2015,
          2016,
          2017
         ],
         "xaxis": "x",
         "y": [
          2.632155462184874,
          3.5310084033613447,
          1.5727394957983194,
          3.365483193277311,
          4.194343137254902,
          4.306429971988796
         ],
         "yaxis": "y"
        }
       ],
       "layout": {
        "legend": {
         "title": {
          "text": "county_99"
         },
         "tracegroupgap": 0
        },
        "template": {
         "data": {
          "bar": [
           {
            "error_x": {
             "color": "#2a3f5f"
            },
            "error_y": {
             "color": "#2a3f5f"
            },
            "marker": {
             "line": {
              "color": "#E5ECF6",
              "width": 0.5
             },
             "pattern": {
              "fillmode": "overlay",
              "size": 10,
              "solidity": 0.2
             }
            },
            "type": "bar"
           }
          ],
          "barpolar": [
           {
            "marker": {
             "line": {
              "color": "#E5ECF6",
              "width": 0.5
             },
             "pattern": {
              "fillmode": "overlay",
              "size": 10,
              "solidity": 0.2
             }
            },
            "type": "barpolar"
           }
          ],
          "carpet": [
           {
            "aaxis": {
             "endlinecolor": "#2a3f5f",
             "gridcolor": "white",
             "linecolor": "white",
             "minorgridcolor": "white",
             "startlinecolor": "#2a3f5f"
            },
            "baxis": {
             "endlinecolor": "#2a3f5f",
             "gridcolor": "white",
             "linecolor": "white",
             "minorgridcolor": "white",
             "startlinecolor": "#2a3f5f"
            },
            "type": "carpet"
           }
          ],
          "choropleth": [
           {
            "colorbar": {
             "outlinewidth": 0,
             "ticks": ""
            },
            "type": "choropleth"
           }
          ],
          "contour": [
           {
            "colorbar": {
             "outlinewidth": 0,
             "ticks": ""
            },
            "colorscale": [
             [
              0,
              "#0d0887"
             ],
             [
              0.1111111111111111,
              "#46039f"
             ],
             [
              0.2222222222222222,
              "#7201a8"
             ],
             [
              0.3333333333333333,
              "#9c179e"
             ],
             [
              0.4444444444444444,
              "#bd3786"
             ],
             [
              0.5555555555555556,
              "#d8576b"
             ],
             [
              0.6666666666666666,
              "#ed7953"
             ],
             [
              0.7777777777777778,
              "#fb9f3a"
             ],
             [
              0.8888888888888888,
              "#fdca26"
             ],
             [
              1,
              "#f0f921"
             ]
            ],
            "type": "contour"
           }
          ],
          "contourcarpet": [
           {
            "colorbar": {
             "outlinewidth": 0,
             "ticks": ""
            },
            "type": "contourcarpet"
           }
          ],
          "heatmap": [
           {
            "colorbar": {
             "outlinewidth": 0,
             "ticks": ""
            },
            "colorscale": [
             [
              0,
              "#0d0887"
             ],
             [
              0.1111111111111111,
              "#46039f"
             ],
             [
              0.2222222222222222,
              "#7201a8"
             ],
             [
              0.3333333333333333,
              "#9c179e"
             ],
             [
              0.4444444444444444,
              "#bd3786"
             ],
             [
              0.5555555555555556,
              "#d8576b"
             ],
             [
              0.6666666666666666,
              "#ed7953"
             ],
             [
              0.7777777777777778,
              "#fb9f3a"
             ],
             [
              0.8888888888888888,
              "#fdca26"
             ],
             [
              1,
              "#f0f921"
             ]
            ],
            "type": "heatmap"
           }
          ],
          "heatmapgl": [
           {
            "colorbar": {
             "outlinewidth": 0,
             "ticks": ""
            },
            "colorscale": [
             [
              0,
              "#0d0887"
             ],
             [
              0.1111111111111111,
              "#46039f"
             ],
             [
              0.2222222222222222,
              "#7201a8"
             ],
             [
              0.3333333333333333,
              "#9c179e"
             ],
             [
              0.4444444444444444,
              "#bd3786"
             ],
             [
              0.5555555555555556,
              "#d8576b"
             ],
             [
              0.6666666666666666,
              "#ed7953"
             ],
             [
              0.7777777777777778,
              "#fb9f3a"
             ],
             [
              0.8888888888888888,
              "#fdca26"
             ],
             [
              1,
              "#f0f921"
             ]
            ],
            "type": "heatmapgl"
           }
          ],
          "histogram": [
           {
            "marker": {
             "pattern": {
              "fillmode": "overlay",
              "size": 10,
              "solidity": 0.2
             }
            },
            "type": "histogram"
           }
          ],
          "histogram2d": [
           {
            "colorbar": {
             "outlinewidth": 0,
             "ticks": ""
            },
            "colorscale": [
             [
              0,
              "#0d0887"
             ],
             [
              0.1111111111111111,
              "#46039f"
             ],
             [
              0.2222222222222222,
              "#7201a8"
             ],
             [
              0.3333333333333333,
              "#9c179e"
             ],
             [
              0.4444444444444444,
              "#bd3786"
             ],
             [
              0.5555555555555556,
              "#d8576b"
             ],
             [
              0.6666666666666666,
              "#ed7953"
             ],
             [
              0.7777777777777778,
              "#fb9f3a"
             ],
             [
              0.8888888888888888,
              "#fdca26"
             ],
             [
              1,
              "#f0f921"
             ]
            ],
            "type": "histogram2d"
           }
          ],
          "histogram2dcontour": [
           {
            "colorbar": {
             "outlinewidth": 0,
             "ticks": ""
            },
            "colorscale": [
             [
              0,
              "#0d0887"
             ],
             [
              0.1111111111111111,
              "#46039f"
             ],
             [
              0.2222222222222222,
              "#7201a8"
             ],
             [
              0.3333333333333333,
              "#9c179e"
             ],
             [
              0.4444444444444444,
              "#bd3786"
             ],
             [
              0.5555555555555556,
              "#d8576b"
             ],
             [
              0.6666666666666666,
              "#ed7953"
             ],
             [
              0.7777777777777778,
              "#fb9f3a"
             ],
             [
              0.8888888888888888,
              "#fdca26"
             ],
             [
              1,
              "#f0f921"
             ]
            ],
            "type": "histogram2dcontour"
           }
          ],
          "mesh3d": [
           {
            "colorbar": {
             "outlinewidth": 0,
             "ticks": ""
            },
            "type": "mesh3d"
           }
          ],
          "parcoords": [
           {
            "line": {
             "colorbar": {
              "outlinewidth": 0,
              "ticks": ""
             }
            },
            "type": "parcoords"
           }
          ],
          "pie": [
           {
            "automargin": true,
            "type": "pie"
           }
          ],
          "scatter": [
           {
            "marker": {
             "colorbar": {
              "outlinewidth": 0,
              "ticks": ""
             }
            },
            "type": "scatter"
           }
          ],
          "scatter3d": [
           {
            "line": {
             "colorbar": {
              "outlinewidth": 0,
              "ticks": ""
             }
            },
            "marker": {
             "colorbar": {
              "outlinewidth": 0,
              "ticks": ""
             }
            },
            "type": "scatter3d"
           }
          ],
          "scattercarpet": [
           {
            "marker": {
             "colorbar": {
              "outlinewidth": 0,
              "ticks": ""
             }
            },
            "type": "scattercarpet"
           }
          ],
          "scattergeo": [
           {
            "marker": {
             "colorbar": {
              "outlinewidth": 0,
              "ticks": ""
             }
            },
            "type": "scattergeo"
           }
          ],
          "scattergl": [
           {
            "marker": {
             "colorbar": {
              "outlinewidth": 0,
              "ticks": ""
             }
            },
            "type": "scattergl"
           }
          ],
          "scattermapbox": [
           {
            "marker": {
             "colorbar": {
              "outlinewidth": 0,
              "ticks": ""
             }
            },
            "type": "scattermapbox"
           }
          ],
          "scatterpolar": [
           {
            "marker": {
             "colorbar": {
              "outlinewidth": 0,
              "ticks": ""
             }
            },
            "type": "scatterpolar"
           }
          ],
          "scatterpolargl": [
           {
            "marker": {
             "colorbar": {
              "outlinewidth": 0,
              "ticks": ""
             }
            },
            "type": "scatterpolargl"
           }
          ],
          "scatterternary": [
           {
            "marker": {
             "colorbar": {
              "outlinewidth": 0,
              "ticks": ""
             }
            },
            "type": "scatterternary"
           }
          ],
          "surface": [
           {
            "colorbar": {
             "outlinewidth": 0,
             "ticks": ""
            },
            "colorscale": [
             [
              0,
              "#0d0887"
             ],
             [
              0.1111111111111111,
              "#46039f"
             ],
             [
              0.2222222222222222,
              "#7201a8"
             ],
             [
              0.3333333333333333,
              "#9c179e"
             ],
             [
              0.4444444444444444,
              "#bd3786"
             ],
             [
              0.5555555555555556,
              "#d8576b"
             ],
             [
              0.6666666666666666,
              "#ed7953"
             ],
             [
              0.7777777777777778,
              "#fb9f3a"
             ],
             [
              0.8888888888888888,
              "#fdca26"
             ],
             [
              1,
              "#f0f921"
             ]
            ],
            "type": "surface"
           }
          ],
          "table": [
           {
            "cells": {
             "fill": {
              "color": "#EBF0F8"
             },
             "line": {
              "color": "white"
             }
            },
            "header": {
             "fill": {
              "color": "#C8D4E3"
             },
             "line": {
              "color": "white"
             }
            },
            "type": "table"
           }
          ]
         },
         "layout": {
          "annotationdefaults": {
           "arrowcolor": "#2a3f5f",
           "arrowhead": 0,
           "arrowwidth": 1
          },
          "autotypenumbers": "strict",
          "coloraxis": {
           "colorbar": {
            "outlinewidth": 0,
            "ticks": ""
           }
          },
          "colorscale": {
           "diverging": [
            [
             0,
             "#8e0152"
            ],
            [
             0.1,
             "#c51b7d"
            ],
            [
             0.2,
             "#de77ae"
            ],
            [
             0.3,
             "#f1b6da"
            ],
            [
             0.4,
             "#fde0ef"
            ],
            [
             0.5,
             "#f7f7f7"
            ],
            [
             0.6,
             "#e6f5d0"
            ],
            [
             0.7,
             "#b8e186"
            ],
            [
             0.8,
             "#7fbc41"
            ],
            [
             0.9,
             "#4d9221"
            ],
            [
             1,
             "#276419"
            ]
           ],
           "sequential": [
            [
             0,
             "#0d0887"
            ],
            [
             0.1111111111111111,
             "#46039f"
            ],
            [
             0.2222222222222222,
             "#7201a8"
            ],
            [
             0.3333333333333333,
             "#9c179e"
            ],
            [
             0.4444444444444444,
             "#bd3786"
            ],
            [
             0.5555555555555556,
             "#d8576b"
            ],
            [
             0.6666666666666666,
             "#ed7953"
            ],
            [
             0.7777777777777778,
             "#fb9f3a"
            ],
            [
             0.8888888888888888,
             "#fdca26"
            ],
            [
             1,
             "#f0f921"
            ]
           ],
           "sequentialminus": [
            [
             0,
             "#0d0887"
            ],
            [
             0.1111111111111111,
             "#46039f"
            ],
            [
             0.2222222222222222,
             "#7201a8"
            ],
            [
             0.3333333333333333,
             "#9c179e"
            ],
            [
             0.4444444444444444,
             "#bd3786"
            ],
            [
             0.5555555555555556,
             "#d8576b"
            ],
            [
             0.6666666666666666,
             "#ed7953"
            ],
            [
             0.7777777777777778,
             "#fb9f3a"
            ],
            [
             0.8888888888888888,
             "#fdca26"
            ],
            [
             1,
             "#f0f921"
            ]
           ]
          },
          "colorway": [
           "#636efa",
           "#EF553B",
           "#00cc96",
           "#ab63fa",
           "#FFA15A",
           "#19d3f3",
           "#FF6692",
           "#B6E880",
           "#FF97FF",
           "#FECB52"
          ],
          "font": {
           "color": "#2a3f5f"
          },
          "geo": {
           "bgcolor": "white",
           "lakecolor": "white",
           "landcolor": "#E5ECF6",
           "showlakes": true,
           "showland": true,
           "subunitcolor": "white"
          },
          "hoverlabel": {
           "align": "left"
          },
          "hovermode": "closest",
          "mapbox": {
           "style": "light"
          },
          "paper_bgcolor": "white",
          "plot_bgcolor": "#E5ECF6",
          "polar": {
           "angularaxis": {
            "gridcolor": "white",
            "linecolor": "white",
            "ticks": ""
           },
           "bgcolor": "#E5ECF6",
           "radialaxis": {
            "gridcolor": "white",
            "linecolor": "white",
            "ticks": ""
           }
          },
          "scene": {
           "xaxis": {
            "backgroundcolor": "#E5ECF6",
            "gridcolor": "white",
            "gridwidth": 2,
            "linecolor": "white",
            "showbackground": true,
            "ticks": "",
            "zerolinecolor": "white"
           },
           "yaxis": {
            "backgroundcolor": "#E5ECF6",
            "gridcolor": "white",
            "gridwidth": 2,
            "linecolor": "white",
            "showbackground": true,
            "ticks": "",
            "zerolinecolor": "white"
           },
           "zaxis": {
            "backgroundcolor": "#E5ECF6",
            "gridcolor": "white",
            "gridwidth": 2,
            "linecolor": "white",
            "showbackground": true,
            "ticks": "",
            "zerolinecolor": "white"
           }
          },
          "shapedefaults": {
           "line": {
            "color": "#2a3f5f"
           }
          },
          "ternary": {
           "aaxis": {
            "gridcolor": "white",
            "linecolor": "white",
            "ticks": ""
           },
           "baxis": {
            "gridcolor": "white",
            "linecolor": "white",
            "ticks": ""
           },
           "bgcolor": "#E5ECF6",
           "caxis": {
            "gridcolor": "white",
            "linecolor": "white",
            "ticks": ""
           }
          },
          "title": {
           "x": 0.05
          },
          "xaxis": {
           "automargin": true,
           "gridcolor": "white",
           "linecolor": "white",
           "ticks": "",
           "title": {
            "standoff": 15
           },
           "zerolinecolor": "white",
           "zerolinewidth": 2
          },
          "yaxis": {
           "automargin": true,
           "gridcolor": "white",
           "linecolor": "white",
           "ticks": "",
           "title": {
            "standoff": 15
           },
           "zerolinecolor": "white",
           "zerolinewidth": 2
          }
         }
        },
        "title": {
         "text": "Revenue Per Capita By County (Log Scale)"
        },
        "xaxis": {
         "anchor": "y",
         "domain": [
          0,
          1
         ],
         "title": {
          "text": "yeer"
         }
        },
        "yaxis": {
         "anchor": "x",
         "domain": [
          0,
          1
         ],
         "title": {
          "text": "value"
         },
         "type": "log"
        }
       }
      },
      "text/html": [
       "<div>                            <div id=\"51afc711-f721-44c3-b610-065f918467ab\" class=\"plotly-graph-div\" style=\"height:525px; width:100%;\"></div>            <script type=\"text/javascript\">                require([\"plotly\"], function(Plotly) {                    window.PLOTLYENV=window.PLOTLYENV || {};                                    if (document.getElementById(\"51afc711-f721-44c3-b610-065f918467ab\")) {                    Plotly.newPlot(                        \"51afc711-f721-44c3-b610-065f918467ab\",                        [{\"hovertemplate\":\"county_99=dickinson<br>yeer=%{x}<br>value=%{y}<extra></extra>\",\"legendgroup\":\"dickinson\",\"line\":{\"color\":\"#636efa\",\"dash\":\"solid\"},\"marker\":{\"symbol\":\"circle\"},\"mode\":\"lines\",\"name\":\"dickinson\",\"orientation\":\"v\",\"showlegend\":true,\"x\":[2012.0,2013.0,2014.0,2015.0,2016.0,2017.0],\"xaxis\":\"x\",\"y\":[219.1903077559218,217.55156772402387,216.6110939807431,234.35004134916414,223.0904873294347,123.88424360564711],\"yaxis\":\"y\",\"type\":\"scatter\"},{\"hovertemplate\":\"county_99=polk<br>yeer=%{x}<br>value=%{y}<extra></extra>\",\"legendgroup\":\"polk\",\"line\":{\"color\":\"#EF553B\",\"dash\":\"solid\"},\"marker\":{\"symbol\":\"circle\"},\"mode\":\"lines\",\"name\":\"polk\",\"orientation\":\"v\",\"showlegend\":true,\"x\":[2012.0,2013.0,2014.0,2015.0,2016.0,2017.0],\"xaxis\":\"x\",\"y\":[124.09160163056798,126.04085485651586,133.72990747673427,143.3337664276576,122.60548535928932,69.77664791468523],\"yaxis\":\"y\",\"type\":\"scatter\"},{\"hovertemplate\":\"county_99=cerro gordo<br>yeer=%{x}<br>value=%{y}<extra></extra>\",\"legendgroup\":\"cerro gordo\",\"line\":{\"color\":\"#00cc96\",\"dash\":\"solid\"},\"marker\":{\"symbol\":\"circle\"},\"mode\":\"lines\",\"name\":\"cerro gordo\",\"orientation\":\"v\",\"showlegend\":true,\"x\":[2012.0,2013.0,2014.0,2015.0,2016.0,2017.0],\"xaxis\":\"x\",\"y\":[124.34347382390628,121.9391616328025,128.9083752059308,131.61219956983342,114.31133054182683,69.88784733662823],\"yaxis\":\"y\",\"type\":\"scatter\"},{\"hovertemplate\":\"county_99=black hawk<br>yeer=%{x}<br>value=%{y}<extra></extra>\",\"legendgroup\":\"black hawk\",\"line\":{\"color\":\"#ab63fa\",\"dash\":\"solid\"},\"marker\":{\"symbol\":\"circle\"},\"mode\":\"lines\",\"name\":\"black hawk\",\"orientation\":\"v\",\"showlegend\":true,\"x\":[2012.0,2013.0,2014.0,2015.0,2016.0,2017.0],\"xaxis\":\"x\",\"y\":[115.3628532872392,114.5312556101407,120.03844811377972,121.78973207787482,106.31359860201358,65.44262205846677],\"yaxis\":\"y\",\"type\":\"scatter\"},{\"hovertemplate\":\"county_99=johnson<br>yeer=%{x}<br>value=%{y}<extra></extra>\",\"legendgroup\":\"johnson\",\"line\":{\"color\":\"#FFA15A\",\"dash\":\"solid\"},\"marker\":{\"symbol\":\"circle\"},\"mode\":\"lines\",\"name\":\"johnson\",\"orientation\":\"v\",\"showlegend\":true,\"x\":[2012.0,2013.0,2014.0,2015.0,2016.0,2017.0],\"xaxis\":\"x\",\"y\":[109.57701837002479,111.2868415949847,121.42556881469602,128.8329030470914,103.91639152937746,58.66140414054527],\"yaxis\":\"y\",\"type\":\"scatter\"},{\"hovertemplate\":\"county_99=scott<br>yeer=%{x}<br>value=%{y}<extra></extra>\",\"legendgroup\":\"scott\",\"line\":{\"color\":\"#19d3f3\",\"dash\":\"solid\"},\"marker\":{\"symbol\":\"circle\"},\"mode\":\"lines\",\"name\":\"scott\",\"orientation\":\"v\",\"showlegend\":true,\"x\":[2012.0,2013.0,2014.0,2015.0,2016.0,2017.0],\"xaxis\":\"x\",\"y\":[109.57958933225675,109.15277890912114,116.00385334227853,121.24921143718868,101.24063829534592,58.904246911234736],\"yaxis\":\"y\",\"type\":\"scatter\"},{\"hovertemplate\":\"county_99=kossuth<br>yeer=%{x}<br>value=%{y}<extra></extra>\",\"legendgroup\":\"kossuth\",\"line\":{\"color\":\"#FF6692\",\"dash\":\"solid\"},\"marker\":{\"symbol\":\"circle\"},\"mode\":\"lines\",\"name\":\"kossuth\",\"orientation\":\"v\",\"showlegend\":true,\"x\":[2012.0,2013.0,2014.0,2015.0,2016.0,2017.0],\"xaxis\":\"x\",\"y\":[104.00449860453041,107.83967612124358,112.63125008113195,114.81877653014864,91.28526513922243,65.51533069384047],\"yaxis\":\"y\",\"type\":\"scatter\"},{\"hovertemplate\":\"county_99=linn<br>yeer=%{x}<br>value=%{y}<extra></extra>\",\"legendgroup\":\"linn\",\"line\":{\"color\":\"#B6E880\",\"dash\":\"solid\"},\"marker\":{\"symbol\":\"circle\"},\"mode\":\"lines\",\"name\":\"linn\",\"orientation\":\"v\",\"showlegend\":true,\"x\":[2012.0,2013.0,2014.0,2015.0,2016.0,2017.0],\"xaxis\":\"x\",\"y\":[105.39486295014429,107.74970868786593,109.3792978630615,115.94003127000771,97.84134980653423,56.85057547948892],\"yaxis\":\"y\",\"type\":\"scatter\"},{\"hovertemplate\":\"county_99=carroll<br>yeer=%{x}<br>value=%{y}<extra></extra>\",\"legendgroup\":\"carroll\",\"line\":{\"color\":\"#FF97FF\",\"dash\":\"solid\"},\"marker\":{\"symbol\":\"circle\"},\"mode\":\"lines\",\"name\":\"carroll\",\"orientation\":\"v\",\"showlegend\":true,\"x\":[2012.0,2013.0,2014.0,2015.0,2016.0,2017.0],\"xaxis\":\"x\",\"y\":[116.12911877209122,105.22747978501913,110.65810293904033,113.3890839103278,93.69482060717571,48.40146370987266],\"yaxis\":\"y\",\"type\":\"scatter\"},{\"hovertemplate\":\"county_99=pottawattamie<br>yeer=%{x}<br>value=%{y}<extra></extra>\",\"legendgroup\":\"pottawattamie\",\"line\":{\"color\":\"#FECB52\",\"dash\":\"solid\"},\"marker\":{\"symbol\":\"circle\"},\"mode\":\"lines\",\"name\":\"pottawattamie\",\"orientation\":\"v\",\"showlegend\":true,\"x\":[2012.0,2013.0,2014.0,2015.0,2016.0,2017.0],\"xaxis\":\"x\",\"y\":[97.86808465551552,98.30475264884635,103.99487097294681,108.17881848007315,90.87621093960092,54.44631076211478],\"yaxis\":\"y\",\"type\":\"scatter\"},{\"hovertemplate\":\"county_99=hardin<br>yeer=%{x}<br>value=%{y}<extra></extra>\",\"legendgroup\":\"hardin\",\"line\":{\"color\":\"#636efa\",\"dash\":\"solid\"},\"marker\":{\"symbol\":\"circle\"},\"mode\":\"lines\",\"name\":\"hardin\",\"orientation\":\"v\",\"showlegend\":true,\"x\":[2012.0,2013.0,2014.0,2015.0,2016.0,2017.0],\"xaxis\":\"x\",\"y\":[92.63109562211982,90.70861405529953,102.77983813364055,104.86140841013825,97.06214631336405,64.25089458525346],\"yaxis\":\"y\",\"type\":\"scatter\"},{\"hovertemplate\":\"county_99=lee<br>yeer=%{x}<br>value=%{y}<extra></extra>\",\"legendgroup\":\"lee\",\"line\":{\"color\":\"#EF553B\",\"dash\":\"solid\"},\"marker\":{\"symbol\":\"circle\"},\"mode\":\"lines\",\"name\":\"lee\",\"orientation\":\"v\",\"showlegend\":true,\"x\":[2012.0,2013.0,2014.0,2015.0,2016.0,2017.0],\"xaxis\":\"x\",\"y\":[85.16647585023489,83.76335480604236,95.61584770317027,109.0562392753664,87.25043854960758,50.3738822470393],\"yaxis\":\"y\",\"type\":\"scatter\"},{\"hovertemplate\":\"county_99=woodbury<br>yeer=%{x}<br>value=%{y}<extra></extra>\",\"legendgroup\":\"woodbury\",\"line\":{\"color\":\"#00cc96\",\"dash\":\"solid\"},\"marker\":{\"symbol\":\"circle\"},\"mode\":\"lines\",\"name\":\"woodbury\",\"orientation\":\"v\",\"showlegend\":true,\"x\":[2012.0,2013.0,2014.0,2015.0,2016.0,2017.0],\"xaxis\":\"x\",\"y\":[83.07408760051196,85.20016814686716,90.47439751443562,98.82891657140624,81.32910044845678,52.63989692333245],\"yaxis\":\"y\",\"type\":\"scatter\"},{\"hovertemplate\":\"county_99=clay<br>yeer=%{x}<br>value=%{y}<extra></extra>\",\"legendgroup\":\"clay\",\"line\":{\"color\":\"#ab63fa\",\"dash\":\"solid\"},\"marker\":{\"symbol\":\"circle\"},\"mode\":\"lines\",\"name\":\"clay\",\"orientation\":\"v\",\"showlegend\":true,\"x\":[2012.0,2013.0,2014.0,2015.0,2016.0,2017.0],\"xaxis\":\"x\",\"y\":[86.28215054413543,88.4600392986699,89.47119286577993,95.03364268440146,80.87763059250302,49.42930773881499],\"yaxis\":\"y\",\"type\":\"scatter\"},{\"hovertemplate\":\"county_99=story<br>yeer=%{x}<br>value=%{y}<extra></extra>\",\"legendgroup\":\"story\",\"line\":{\"color\":\"#FFA15A\",\"dash\":\"solid\"},\"marker\":{\"symbol\":\"circle\"},\"mode\":\"lines\",\"name\":\"story\",\"orientation\":\"v\",\"showlegend\":true,\"x\":[2012.0,2013.0,2014.0,2015.0,2016.0,2017.0],\"xaxis\":\"x\",\"y\":[87.232540142972,85.94047530582534,91.16354246789649,92.98965126132586,82.06568357125785,49.13965734524042],\"yaxis\":\"y\",\"type\":\"scatter\"},{\"hovertemplate\":\"county_99=obrien<br>yeer=%{x}<br>value=%{y}<extra></extra>\",\"legendgroup\":\"obrien\",\"line\":{\"color\":\"#19d3f3\",\"dash\":\"solid\"},\"marker\":{\"symbol\":\"circle\"},\"mode\":\"lines\",\"name\":\"obrien\",\"orientation\":\"v\",\"showlegend\":true,\"x\":[2012.0,2013.0,2014.0,2015.0,2016.0,2017.0],\"xaxis\":\"x\",\"y\":[92.85349371202487,84.6561078140455,87.10237247421223,89.9462250953794,77.53747421223683,50.75192807686873],\"yaxis\":\"y\",\"type\":\"scatter\"},{\"hovertemplate\":\"county_99=des moines<br>yeer=%{x}<br>value=%{y}<extra></extra>\",\"legendgroup\":\"des moines\",\"line\":{\"color\":\"#FF6692\",\"dash\":\"solid\"},\"marker\":{\"symbol\":\"circle\"},\"mode\":\"lines\",\"name\":\"des moines\",\"orientation\":\"v\",\"showlegend\":true,\"x\":[2012.0,2013.0,2014.0,2015.0,2016.0,2017.0],\"xaxis\":\"x\",\"y\":[77.42322632742813,77.20856734663454,88.706805973116,95.72854498471936,84.8032742813129,54.29319899619848],\"yaxis\":\"y\",\"type\":\"scatter\"},{\"hovertemplate\":\"county_99=iowa<br>yeer=%{x}<br>value=%{y}<extra></extra>\",\"legendgroup\":\"iowa\",\"line\":{\"color\":\"#B6E880\",\"dash\":\"solid\"},\"marker\":{\"symbol\":\"circle\"},\"mode\":\"lines\",\"name\":\"iowa\",\"orientation\":\"v\",\"showlegend\":true,\"x\":[2012.0,2013.0,2014.0,2015.0,2016.0,2017.0],\"xaxis\":\"x\",\"y\":[112.32368967434962,102.6242161527529,94.94186059445097,65.80070320706915,59.39068157943521,42.57130383736019],\"yaxis\":\"y\",\"type\":\"scatter\"},{\"hovertemplate\":\"county_99=dubuque<br>yeer=%{x}<br>value=%{y}<extra></extra>\",\"legendgroup\":\"dubuque\",\"line\":{\"color\":\"#FF97FF\",\"dash\":\"solid\"},\"marker\":{\"symbol\":\"circle\"},\"mode\":\"lines\",\"name\":\"dubuque\",\"orientation\":\"v\",\"showlegend\":true,\"x\":[2012.0,2013.0,2014.0,2015.0,2016.0,2017.0],\"xaxis\":\"x\",\"y\":[84.12425485643445,82.47631740962147,85.58032799974785,91.50961285103432,77.37872014960655,48.67493050229558],\"yaxis\":\"y\",\"type\":\"scatter\"},{\"hovertemplate\":\"county_99=buena vista<br>yeer=%{x}<br>value=%{y}<extra></extra>\",\"legendgroup\":\"buena vista\",\"line\":{\"color\":\"#FECB52\",\"dash\":\"solid\"},\"marker\":{\"symbol\":\"circle\"},\"mode\":\"lines\",\"name\":\"buena vista\",\"orientation\":\"v\",\"showlegend\":true,\"x\":[2012.0,2013.0,2014.0,2015.0,2016.0,2017.0],\"xaxis\":\"x\",\"y\":[80.94544946006421,84.22771621753088,80.81643934234847,87.69836511333787,76.98328874404125,46.13785484969355],\"yaxis\":\"y\",\"type\":\"scatter\"},{\"hovertemplate\":\"county_99=webster<br>yeer=%{x}<br>value=%{y}<extra></extra>\",\"legendgroup\":\"webster\",\"line\":{\"color\":\"#636efa\",\"dash\":\"solid\"},\"marker\":{\"symbol\":\"circle\"},\"mode\":\"lines\",\"name\":\"webster\",\"orientation\":\"v\",\"showlegend\":true,\"x\":[2012.0,2013.0,2014.0,2015.0,2016.0,2017.0],\"xaxis\":\"x\",\"y\":[75.9581291013794,82.6324189098701,77.34228632650328,87.93811195928753,78.82106682737378,51.76998741127628],\"yaxis\":\"y\",\"type\":\"scatter\"},{\"hovertemplate\":\"county_99=cass<br>yeer=%{x}<br>value=%{y}<extra></extra>\",\"legendgroup\":\"cass\",\"line\":{\"color\":\"#EF553B\",\"dash\":\"solid\"},\"marker\":{\"symbol\":\"circle\"},\"mode\":\"lines\",\"name\":\"cass\",\"orientation\":\"v\",\"showlegend\":true,\"x\":[2012.0,2013.0,2014.0,2015.0,2016.0,2017.0],\"xaxis\":\"x\",\"y\":[84.40203913265678,77.26885668394539,77.55160546104986,83.38127984230124,75.88148061619333,52.90057822880923],\"yaxis\":\"y\",\"type\":\"scatter\"},{\"hovertemplate\":\"county_99=union<br>yeer=%{x}<br>value=%{y}<extra></extra>\",\"legendgroup\":\"union\",\"line\":{\"color\":\"#00cc96\",\"dash\":\"solid\"},\"marker\":{\"symbol\":\"circle\"},\"mode\":\"lines\",\"name\":\"union\",\"orientation\":\"v\",\"showlegend\":true,\"x\":[2012.0,2013.0,2014.0,2015.0,2016.0,2017.0],\"xaxis\":\"x\",\"y\":[67.61679221295192,75.76263090981327,73.23082479141836,76.98112832737385,71.56060786650775,40.40821136273341],\"yaxis\":\"y\",\"type\":\"scatter\"},{\"hovertemplate\":\"county_99=page<br>yeer=%{x}<br>value=%{y}<extra></extra>\",\"legendgroup\":\"page\",\"line\":{\"color\":\"#ab63fa\",\"dash\":\"solid\"},\"marker\":{\"symbol\":\"circle\"},\"mode\":\"lines\",\"name\":\"page\",\"orientation\":\"v\",\"showlegend\":true,\"x\":[2012.0,2013.0,2014.0,2015.0,2016.0,2017.0],\"xaxis\":\"x\",\"y\":[75.7224240687679,73.14398153454314,72.27392104425343,75.02553072269977,58.968162368672395,49.44319134033747],\"yaxis\":\"y\",\"type\":\"scatter\"},{\"hovertemplate\":\"county_99=poweshiek<br>yeer=%{x}<br>value=%{y}<extra></extra>\",\"legendgroup\":\"poweshiek\",\"line\":{\"color\":\"#FFA15A\",\"dash\":\"solid\"},\"marker\":{\"symbol\":\"circle\"},\"mode\":\"lines\",\"name\":\"poweshiek\",\"orientation\":\"v\",\"showlegend\":true,\"x\":[2012.0,2013.0,2014.0,2015.0,2016.0,2017.0],\"xaxis\":\"x\",\"y\":[67.30106544251095,71.46476406533576,75.50621276822889,72.04292889932742,66.13749279385075,44.737719654104836],\"yaxis\":\"y\",\"type\":\"scatter\"},{\"hovertemplate\":\"county_99=ida<br>yeer=%{x}<br>value=%{y}<extra></extra>\",\"legendgroup\":\"ida\",\"line\":{\"color\":\"#19d3f3\",\"dash\":\"solid\"},\"marker\":{\"symbol\":\"circle\"},\"mode\":\"lines\",\"name\":\"ida\",\"orientation\":\"v\",\"showlegend\":true,\"x\":[2012.0,2013.0,2014.0,2015.0,2016.0,2017.0],\"xaxis\":\"x\",\"y\":[62.485454932576296,60.04492689850958,57.775535841022,77.68216181689141,79.52534137686303,55.0173569907736],\"yaxis\":\"y\",\"type\":\"scatter\"},{\"hovertemplate\":\"county_99=wapello<br>yeer=%{x}<br>value=%{y}<extra></extra>\",\"legendgroup\":\"wapello\",\"line\":{\"color\":\"#FF6692\",\"dash\":\"solid\"},\"marker\":{\"symbol\":\"circle\"},\"mode\":\"lines\",\"name\":\"wapello\",\"orientation\":\"v\",\"showlegend\":true,\"x\":[2012.0,2013.0,2014.0,2015.0,2016.0,2017.0],\"xaxis\":\"x\",\"y\":[67.58625684448208,70.43327744848997,71.66244228055321,77.49463364380469,60.21662545865086,44.89993875246966],\"yaxis\":\"y\",\"type\":\"scatter\"},{\"hovertemplate\":\"county_99=howard<br>yeer=%{x}<br>value=%{y}<extra></extra>\",\"legendgroup\":\"howard\",\"line\":{\"color\":\"#B6E880\",\"dash\":\"solid\"},\"marker\":{\"symbol\":\"circle\"},\"mode\":\"lines\",\"name\":\"howard\",\"orientation\":\"v\",\"showlegend\":true,\"x\":[2012.0,2013.0,2014.0,2015.0,2016.0,2017.0],\"xaxis\":\"x\",\"y\":[77.90107120418848,77.12497277486911,82.83309947643978,74.40000314136125,38.69239895287958,39.07122827225131],\"yaxis\":\"y\",\"type\":\"scatter\"},{\"hovertemplate\":\"county_99=bremer<br>yeer=%{x}<br>value=%{y}<extra></extra>\",\"legendgroup\":\"bremer\",\"line\":{\"color\":\"#FF97FF\",\"dash\":\"solid\"},\"marker\":{\"symbol\":\"circle\"},\"mode\":\"lines\",\"name\":\"bremer\",\"orientation\":\"v\",\"showlegend\":true,\"x\":[2012.0,2013.0,2014.0,2015.0,2016.0,2017.0],\"xaxis\":\"x\",\"y\":[72.52944201804155,71.88208049308135,71.91411404547124,73.24065390424099,61.6197412139271,38.12606637005592],\"yaxis\":\"y\",\"type\":\"scatter\"},{\"hovertemplate\":\"county_99=crawford<br>yeer=%{x}<br>value=%{y}<extra></extra>\",\"legendgroup\":\"crawford\",\"line\":{\"color\":\"#FECB52\",\"dash\":\"solid\"},\"marker\":{\"symbol\":\"circle\"},\"mode\":\"lines\",\"name\":\"crawford\",\"orientation\":\"v\",\"showlegend\":true,\"x\":[2012.0,2013.0,2014.0,2015.0,2016.0,2017.0],\"xaxis\":\"x\",\"y\":[74.46336803145964,69.53373987971317,74.43052567661346,73.1650688179505,61.37570205875549,31.55182916955818],\"yaxis\":\"y\",\"type\":\"scatter\"},{\"hovertemplate\":\"county_99=floyd<br>yeer=%{x}<br>value=%{y}<extra></extra>\",\"legendgroup\":\"floyd\",\"line\":{\"color\":\"#636efa\",\"dash\":\"solid\"},\"marker\":{\"symbol\":\"circle\"},\"mode\":\"lines\",\"name\":\"floyd\",\"orientation\":\"v\",\"showlegend\":true,\"x\":[2012.0,2013.0,2014.0,2015.0,2016.0,2017.0],\"xaxis\":\"x\",\"y\":[65.50125108763207,63.24866128029832,66.4604313238036,76.1734766935985,67.60075761342449,43.68875388440025],\"yaxis\":\"y\",\"type\":\"scatter\"},{\"hovertemplate\":\"county_99=marshall<br>yeer=%{x}<br>value=%{y}<extra></extra>\",\"legendgroup\":\"marshall\",\"line\":{\"color\":\"#EF553B\",\"dash\":\"solid\"},\"marker\":{\"symbol\":\"circle\"},\"mode\":\"lines\",\"name\":\"marshall\",\"orientation\":\"v\",\"showlegend\":true,\"x\":[2012.0,2013.0,2014.0,2015.0,2016.0,2017.0],\"xaxis\":\"x\",\"y\":[66.10001121076233,65.466636283876,66.51666845388965,73.75485157925522,67.58327695457204,41.42849824527198],\"yaxis\":\"y\",\"type\":\"scatter\"},{\"hovertemplate\":\"county_99=clinton<br>yeer=%{x}<br>value=%{y}<extra></extra>\",\"legendgroup\":\"clinton\",\"line\":{\"color\":\"#00cc96\",\"dash\":\"solid\"},\"marker\":{\"symbol\":\"circle\"},\"mode\":\"lines\",\"name\":\"clinton\",\"orientation\":\"v\",\"showlegend\":true,\"x\":[2012.0,2013.0,2014.0,2015.0,2016.0,2017.0],\"xaxis\":\"x\",\"y\":[67.47365400012318,67.51389809283324,68.41076040319435,69.83073022520581,61.142238508755725,42.89209254583154],\"yaxis\":\"y\",\"type\":\"scatter\"},{\"hovertemplate\":\"county_99=muscatine<br>yeer=%{x}<br>value=%{y}<extra></extra>\",\"legendgroup\":\"muscatine\",\"line\":{\"color\":\"#ab63fa\",\"dash\":\"solid\"},\"marker\":{\"symbol\":\"circle\"},\"mode\":\"lines\",\"name\":\"muscatine\",\"orientation\":\"v\",\"showlegend\":true,\"x\":[2012.0,2013.0,2014.0,2015.0,2016.0,2017.0],\"xaxis\":\"x\",\"y\":[63.94975327337962,65.6437484273799,69.0728046223382,70.45223288756348,64.23391640650482,42.968055309631424],\"yaxis\":\"y\",\"type\":\"scatter\"},{\"hovertemplate\":\"county_99=winnebago<br>yeer=%{x}<br>value=%{y}<extra></extra>\",\"legendgroup\":\"winnebago\",\"line\":{\"color\":\"#FFA15A\",\"dash\":\"solid\"},\"marker\":{\"symbol\":\"circle\"},\"mode\":\"lines\",\"name\":\"winnebago\",\"orientation\":\"v\",\"showlegend\":true,\"x\":[2012.0,2013.0,2014.0,2015.0,2016.0,2017.0],\"xaxis\":\"x\",\"y\":[59.20358408748115,62.73262726244344,65.04728129713423,68.53571644042232,67.08490667420814,47.9388084464555],\"yaxis\":\"y\",\"type\":\"scatter\"},{\"hovertemplate\":\"county_99=palo alto<br>yeer=%{x}<br>value=%{y}<extra></extra>\",\"legendgroup\":\"palo alto\",\"line\":{\"color\":\"#19d3f3\",\"dash\":\"solid\"},\"marker\":{\"symbol\":\"circle\"},\"mode\":\"lines\",\"name\":\"palo alto\",\"orientation\":\"v\",\"showlegend\":true,\"x\":[2012.0,2013.0,2014.0,2015.0,2016.0,2017.0],\"xaxis\":\"x\",\"y\":[63.57767083423152,72.07854171157577,68.34170510885967,65.07838973916792,59.50580728605303,35.06007868075016],\"yaxis\":\"y\",\"type\":\"scatter\"},{\"hovertemplate\":\"county_99=humboldt<br>yeer=%{x}<br>value=%{y}<extra></extra>\",\"legendgroup\":\"humboldt\",\"line\":{\"color\":\"#FF6692\",\"dash\":\"solid\"},\"marker\":{\"symbol\":\"circle\"},\"mode\":\"lines\",\"name\":\"humboldt\",\"orientation\":\"v\",\"showlegend\":true,\"x\":[2012.0,2013.0,2014.0,2015.0,2016.0,2017.0],\"xaxis\":\"x\",\"y\":[65.21128547922666,61.88814788153024,66.08588749485808,66.71514705882353,60.47009872480461,40.04175442204854],\"yaxis\":\"y\",\"type\":\"scatter\"},{\"hovertemplate\":\"county_99=dallas<br>yeer=%{x}<br>value=%{y}<extra></extra>\",\"legendgroup\":\"dallas\",\"line\":{\"color\":\"#B6E880\",\"dash\":\"solid\"},\"marker\":{\"symbol\":\"circle\"},\"mode\":\"lines\",\"name\":\"dallas\",\"orientation\":\"v\",\"showlegend\":true,\"x\":[2012.0,2013.0,2014.0,2015.0,2016.0,2017.0],\"xaxis\":\"x\",\"y\":[57.453332272173625,65.53623062230096,80.65306721293322,76.99228989037759,57.593677472040746,22.010780644446903],\"yaxis\":\"y\",\"type\":\"scatter\"},{\"hovertemplate\":\"county_99=boone<br>yeer=%{x}<br>value=%{y}<extra></extra>\",\"legendgroup\":\"boone\",\"line\":{\"color\":\"#FF97FF\",\"dash\":\"solid\"},\"marker\":{\"symbol\":\"circle\"},\"mode\":\"lines\",\"name\":\"boone\",\"orientation\":\"v\",\"showlegend\":true,\"x\":[2012.0,2013.0,2014.0,2015.0,2016.0,2017.0],\"xaxis\":\"x\",\"y\":[55.767717882010864,63.69728288315862,63.95164511439284,66.9929998469661,59.13132412579386,44.43736666921723],\"yaxis\":\"y\",\"type\":\"scatter\"},{\"hovertemplate\":\"county_99=winneshiek<br>yeer=%{x}<br>value=%{y}<extra></extra>\",\"legendgroup\":\"winneshiek\",\"line\":{\"color\":\"#FECB52\",\"dash\":\"solid\"},\"marker\":{\"symbol\":\"circle\"},\"mode\":\"lines\",\"name\":\"winneshiek\",\"orientation\":\"v\",\"showlegend\":true,\"x\":[2012.0,2013.0,2014.0,2015.0,2016.0,2017.0],\"xaxis\":\"x\",\"y\":[63.14204104903079,61.95886545039909,64.39038578487268,61.0472748004561,59.21531309388065,42.75395049410871],\"yaxis\":\"y\",\"type\":\"scatter\"},{\"hovertemplate\":\"county_99=plymouth<br>yeer=%{x}<br>value=%{y}<extra></extra>\",\"legendgroup\":\"plymouth\",\"line\":{\"color\":\"#636efa\",\"dash\":\"solid\"},\"marker\":{\"symbol\":\"circle\"},\"mode\":\"lines\",\"name\":\"plymouth\",\"orientation\":\"v\",\"showlegend\":true,\"x\":[2012.0,2013.0,2014.0,2015.0,2016.0,2017.0],\"xaxis\":\"x\",\"y\":[60.91628804960541,60.58430222258013,63.29810033821872,62.74253060074086,58.1139913834756,40.41326381059752],\"yaxis\":\"y\",\"type\":\"scatter\"},{\"hovertemplate\":\"county_99=emmet<br>yeer=%{x}<br>value=%{y}<extra></extra>\",\"legendgroup\":\"emmet\",\"line\":{\"color\":\"#EF553B\",\"dash\":\"solid\"},\"marker\":{\"symbol\":\"circle\"},\"mode\":\"lines\",\"name\":\"emmet\",\"orientation\":\"v\",\"showlegend\":true,\"x\":[2012.0,2013.0,2014.0,2015.0,2016.0,2017.0],\"xaxis\":\"x\",\"y\":[66.06272489697457,66.3720946828827,58.64534023519952,58.8749964820585,56.23216705196502,38.58954970348779],\"yaxis\":\"y\",\"type\":\"scatter\"},{\"hovertemplate\":\"county_99=washington<br>yeer=%{x}<br>value=%{y}<extra></extra>\",\"legendgroup\":\"washington\",\"line\":{\"color\":\"#00cc96\",\"dash\":\"solid\"},\"marker\":{\"symbol\":\"circle\"},\"mode\":\"lines\",\"name\":\"washington\",\"orientation\":\"v\",\"showlegend\":true,\"x\":[2012.0,2013.0,2014.0,2015.0,2016.0,2017.0],\"xaxis\":\"x\",\"y\":[55.71640529438613,58.45381150159744,63.353205385668645,66.73876266544957,62.22310999543588,35.6520460976723],\"yaxis\":\"y\",\"type\":\"scatter\"},{\"hovertemplate\":\"county_99=appanoose<br>yeer=%{x}<br>value=%{y}<extra></extra>\",\"legendgroup\":\"appanoose\",\"line\":{\"color\":\"#ab63fa\",\"dash\":\"solid\"},\"marker\":{\"symbol\":\"circle\"},\"mode\":\"lines\",\"name\":\"appanoose\",\"orientation\":\"v\",\"showlegend\":true,\"x\":[2012.0,2013.0,2014.0,2015.0,2016.0,2017.0],\"xaxis\":\"x\",\"y\":[54.06073940061354,61.410781876819,60.54020058208133,65.7108416581452,58.46045937229607,39.48429009675136],\"yaxis\":\"y\",\"type\":\"scatter\"},{\"hovertemplate\":\"county_99=cherokee<br>yeer=%{x}<br>value=%{y}<extra></extra>\",\"legendgroup\":\"cherokee\",\"line\":{\"color\":\"#FFA15A\",\"dash\":\"solid\"},\"marker\":{\"symbol\":\"circle\"},\"mode\":\"lines\",\"name\":\"cherokee\",\"orientation\":\"v\",\"showlegend\":true,\"x\":[2012.0,2013.0,2014.0,2015.0,2016.0,2017.0],\"xaxis\":\"x\",\"y\":[59.51767358206458,63.251402041157775,56.125723607160786,62.183280910155595,56.8096202108081,41.36996821147733],\"yaxis\":\"y\",\"type\":\"scatter\"},{\"hovertemplate\":\"county_99=buchanan<br>yeer=%{x}<br>value=%{y}<extra></extra>\",\"legendgroup\":\"buchanan\",\"line\":{\"color\":\"#19d3f3\",\"dash\":\"solid\"},\"marker\":{\"symbol\":\"circle\"},\"mode\":\"lines\",\"name\":\"buchanan\",\"orientation\":\"v\",\"showlegend\":true,\"x\":[2012.0,2013.0,2014.0,2015.0,2016.0,2017.0],\"xaxis\":\"x\",\"y\":[62.21481305072636,61.647666110978804,64.07796761133604,61.82351321743272,55.660835913312695,33.77857775660872],\"yaxis\":\"y\",\"type\":\"scatter\"},{\"hovertemplate\":\"county_99=clarke<br>yeer=%{x}<br>value=%{y}<extra></extra>\",\"legendgroup\":\"clarke\",\"line\":{\"color\":\"#FF6692\",\"dash\":\"solid\"},\"marker\":{\"symbol\":\"circle\"},\"mode\":\"lines\",\"name\":\"clarke\",\"orientation\":\"v\",\"showlegend\":true,\"x\":[2012.0,2013.0,2014.0,2015.0,2016.0,2017.0],\"xaxis\":\"x\",\"y\":[54.094367705321766,59.04018524467288,63.70310204518685,71.25215868936716,53.03189956098083,32.06365884998394],\"yaxis\":\"y\",\"type\":\"scatter\"},{\"hovertemplate\":\"county_99=jackson<br>yeer=%{x}<br>value=%{y}<extra></extra>\",\"legendgroup\":\"jackson\",\"line\":{\"color\":\"#B6E880\",\"dash\":\"solid\"},\"marker\":{\"symbol\":\"circle\"},\"mode\":\"lines\",\"name\":\"jackson\",\"orientation\":\"v\",\"showlegend\":true,\"x\":[2012.0,2013.0,2014.0,2015.0,2016.0,2017.0],\"xaxis\":\"x\",\"y\":[58.920445539524486,60.0462096118675,58.96490245884983,61.33998018695387,57.546069396464134,36.01676945742735],\"yaxis\":\"y\",\"type\":\"scatter\"},{\"hovertemplate\":\"county_99=lyon<br>yeer=%{x}<br>value=%{y}<extra></extra>\",\"legendgroup\":\"lyon\",\"line\":{\"color\":\"#FF97FF\",\"dash\":\"solid\"},\"marker\":{\"symbol\":\"circle\"},\"mode\":\"lines\",\"name\":\"lyon\",\"orientation\":\"v\",\"showlegend\":true,\"x\":[2012.0,2013.0,2014.0,2015.0,2016.0,2017.0],\"xaxis\":\"x\",\"y\":[45.57092849247513,54.091115551398694,59.713252274466456,67.05104327863278,54.74529886914378,38.044789558710995],\"yaxis\":\"y\",\"type\":\"scatter\"},{\"hovertemplate\":\"county_99=montgomery<br>yeer=%{x}<br>value=%{y}<extra></extra>\",\"legendgroup\":\"montgomery\",\"line\":{\"color\":\"#FECB52\",\"dash\":\"solid\"},\"marker\":{\"symbol\":\"circle\"},\"mode\":\"lines\",\"name\":\"montgomery\",\"orientation\":\"v\",\"showlegend\":true,\"x\":[2012.0,2013.0,2014.0,2015.0,2016.0,2017.0],\"xaxis\":\"x\",\"y\":[53.96670714353477,51.34375011858457,57.33221895455839,59.33641210511337,57.562351769281854,39.19775637985011],\"yaxis\":\"y\",\"type\":\"scatter\"},{\"hovertemplate\":\"county_99=allamakee<br>yeer=%{x}<br>value=%{y}<extra></extra>\",\"legendgroup\":\"allamakee\",\"line\":{\"color\":\"#636efa\",\"dash\":\"solid\"},\"marker\":{\"symbol\":\"circle\"},\"mode\":\"lines\",\"name\":\"allamakee\",\"orientation\":\"v\",\"showlegend\":true,\"x\":[2012.0,2013.0,2014.0,2015.0,2016.0,2017.0],\"xaxis\":\"x\",\"y\":[55.52278727915194,57.35069752650177,56.238732862190815,58.20348268551237,54.92568621908127,36.28032791519435],\"yaxis\":\"y\",\"type\":\"scatter\"},{\"hovertemplate\":\"county_99=marion<br>yeer=%{x}<br>value=%{y}<extra></extra>\",\"legendgroup\":\"marion\",\"line\":{\"color\":\"#EF553B\",\"dash\":\"solid\"},\"marker\":{\"symbol\":\"circle\"},\"mode\":\"lines\",\"name\":\"marion\",\"orientation\":\"v\",\"showlegend\":true,\"x\":[2012.0,2013.0,2014.0,2015.0,2016.0,2017.0],\"xaxis\":\"x\",\"y\":[50.83140908134748,55.84280674339634,58.44819364726388,59.34120984463744,55.80441806653244,36.70223307389488],\"yaxis\":\"y\",\"type\":\"scatter\"},{\"hovertemplate\":\"county_99=monona<br>yeer=%{x}<br>value=%{y}<extra></extra>\",\"legendgroup\":\"monona\",\"line\":{\"color\":\"#00cc96\",\"dash\":\"solid\"},\"marker\":{\"symbol\":\"circle\"},\"mode\":\"lines\",\"name\":\"monona\",\"orientation\":\"v\",\"showlegend\":true,\"x\":[2012.0,2013.0,2014.0,2015.0,2016.0,2017.0],\"xaxis\":\"x\",\"y\":[56.154797579757975,57.11780198019802,59.086457645764575,57.17276787678768,53.8434400440044,33.51788338833883],\"yaxis\":\"y\",\"type\":\"scatter\"},{\"hovertemplate\":\"county_99=shelby<br>yeer=%{x}<br>value=%{y}<extra></extra>\",\"legendgroup\":\"shelby\",\"line\":{\"color\":\"#ab63fa\",\"dash\":\"solid\"},\"marker\":{\"symbol\":\"circle\"},\"mode\":\"lines\",\"name\":\"shelby\",\"orientation\":\"v\",\"showlegend\":true,\"x\":[2012.0,2013.0,2014.0,2015.0,2016.0,2017.0],\"xaxis\":\"x\",\"y\":[58.97645445478723,60.0374493018617,65.84300615026596,69.50704537898936,31.68870345744681,30.096122007978725],\"yaxis\":\"y\",\"type\":\"scatter\"},{\"hovertemplate\":\"county_99=adair<br>yeer=%{x}<br>value=%{y}<extra></extra>\",\"legendgroup\":\"adair\",\"line\":{\"color\":\"#FFA15A\",\"dash\":\"solid\"},\"marker\":{\"symbol\":\"circle\"},\"mode\":\"lines\",\"name\":\"adair\",\"orientation\":\"v\",\"showlegend\":true,\"x\":[2012.0,2013.0,2014.0,2015.0,2016.0,2017.0],\"xaxis\":\"x\",\"y\":[55.410056255022766,50.70777658719528,55.326958210554515,56.89135012054648,52.288094026252345,34.35978435574605],\"yaxis\":\"y\",\"type\":\"scatter\"},{\"hovertemplate\":\"county_99=fayette<br>yeer=%{x}<br>value=%{y}<extra></extra>\",\"legendgroup\":\"fayette\",\"line\":{\"color\":\"#19d3f3\",\"dash\":\"solid\"},\"marker\":{\"symbol\":\"circle\"},\"mode\":\"lines\",\"name\":\"fayette\",\"orientation\":\"v\",\"showlegend\":true,\"x\":[2012.0,2013.0,2014.0,2015.0,2016.0,2017.0],\"xaxis\":\"x\",\"y\":[53.82687623357243,52.54002551388822,53.949590333606125,54.13849708756559,54.95673662927839,32.553081403745246],\"yaxis\":\"y\",\"type\":\"scatter\"},{\"hovertemplate\":\"county_99=sac<br>yeer=%{x}<br>value=%{y}<extra></extra>\",\"legendgroup\":\"sac\",\"line\":{\"color\":\"#FF6692\",\"dash\":\"solid\"},\"marker\":{\"symbol\":\"circle\"},\"mode\":\"lines\",\"name\":\"sac\",\"orientation\":\"v\",\"showlegend\":true,\"x\":[2012.0,2013.0,2014.0,2015.0,2016.0,2017.0],\"xaxis\":\"x\",\"y\":[54.685151067808285,50.330800118098615,50.93881409310107,53.77211396516091,49.479205786832004,33.219964570416295],\"yaxis\":\"y\",\"type\":\"scatter\"},{\"hovertemplate\":\"county_99=henry<br>yeer=%{x}<br>value=%{y}<extra></extra>\",\"legendgroup\":\"henry\",\"line\":{\"color\":\"#B6E880\",\"dash\":\"solid\"},\"marker\":{\"symbol\":\"circle\"},\"mode\":\"lines\",\"name\":\"henry\",\"orientation\":\"v\",\"showlegend\":true,\"x\":[2012.0,2013.0,2014.0,2015.0,2016.0,2017.0],\"xaxis\":\"x\",\"y\":[47.555644653302004,52.81068389741539,52.65248162775584,54.1553556966455,50.10825926111083,34.01617257411388],\"yaxis\":\"y\",\"type\":\"scatter\"},{\"hovertemplate\":\"county_99=hamilton<br>yeer=%{x}<br>value=%{y}<extra></extra>\",\"legendgroup\":\"hamilton\",\"line\":{\"color\":\"#FF97FF\",\"dash\":\"solid\"},\"marker\":{\"symbol\":\"circle\"},\"mode\":\"lines\",\"name\":\"hamilton\",\"orientation\":\"v\",\"showlegend\":true,\"x\":[2012.0,2013.0,2014.0,2015.0,2016.0,2017.0],\"xaxis\":\"x\",\"y\":[51.957690098557535,53.81892500489524,55.49607401605639,55.49021604333921,45.873333333333335,27.751103061157888],\"yaxis\":\"y\",\"type\":\"scatter\"},{\"hovertemplate\":\"county_99=jones<br>yeer=%{x}<br>value=%{y}<extra></extra>\",\"legendgroup\":\"jones\",\"line\":{\"color\":\"#FECB52\",\"dash\":\"solid\"},\"marker\":{\"symbol\":\"circle\"},\"mode\":\"lines\",\"name\":\"jones\",\"orientation\":\"v\",\"showlegend\":true,\"x\":[2012.0,2013.0,2014.0,2015.0,2016.0,2017.0],\"xaxis\":\"x\",\"y\":[59.16467575963499,55.82394087952626,52.30947674983011,49.27862586156684,37.87687506067372,33.36908261333851],\"yaxis\":\"y\",\"type\":\"scatter\"},{\"hovertemplate\":\"county_99=delaware<br>yeer=%{x}<br>value=%{y}<extra></extra>\",\"legendgroup\":\"delaware\",\"line\":{\"color\":\"#636efa\",\"dash\":\"solid\"},\"marker\":{\"symbol\":\"circle\"},\"mode\":\"lines\",\"name\":\"delaware\",\"orientation\":\"v\",\"showlegend\":true,\"x\":[2012.0,2013.0,2014.0,2015.0,2016.0,2017.0],\"xaxis\":\"x\",\"y\":[50.35855305100182,52.93315915300546,50.185338683970855,49.60557775500911,49.09514856557377,33.08398110200364],\"yaxis\":\"y\",\"type\":\"scatter\"},{\"hovertemplate\":\"county_99=jefferson<br>yeer=%{x}<br>value=%{y}<extra></extra>\",\"legendgroup\":\"jefferson\",\"line\":{\"color\":\"#EF553B\",\"dash\":\"solid\"},\"marker\":{\"symbol\":\"circle\"},\"mode\":\"lines\",\"name\":\"jefferson\",\"orientation\":\"v\",\"showlegend\":true,\"x\":[2012.0,2013.0,2014.0,2015.0,2016.0,2017.0],\"xaxis\":\"x\",\"y\":[43.20119611133615,45.74773045541346,45.24133209883687,49.98630982003356,49.31745327238007,32.30809559631966],\"yaxis\":\"y\",\"type\":\"scatter\"},{\"hovertemplate\":\"county_99=wright<br>yeer=%{x}<br>value=%{y}<extra></extra>\",\"legendgroup\":\"wright\",\"line\":{\"color\":\"#00cc96\",\"dash\":\"solid\"},\"marker\":{\"symbol\":\"circle\"},\"mode\":\"lines\",\"name\":\"wright\",\"orientation\":\"v\",\"showlegend\":true,\"x\":[2012.0,2013.0,2014.0,2015.0,2016.0,2017.0],\"xaxis\":\"x\",\"y\":[45.57657116522007,46.57293724556418,42.886263921960214,46.811845763883554,42.580337967585834,34.707151854981184],\"yaxis\":\"y\",\"type\":\"scatter\"},{\"hovertemplate\":\"county_99=jasper<br>yeer=%{x}<br>value=%{y}<extra></extra>\",\"legendgroup\":\"jasper\",\"line\":{\"color\":\"#ab63fa\",\"dash\":\"solid\"},\"marker\":{\"symbol\":\"circle\"},\"mode\":\"lines\",\"name\":\"jasper\",\"orientation\":\"v\",\"showlegend\":true,\"x\":[2012.0,2013.0,2014.0,2015.0,2016.0,2017.0],\"xaxis\":\"x\",\"y\":[47.07121777874969,46.91521389716535,47.63776371538693,45.700668343219526,39.591657053822814,26.47187491457781],\"yaxis\":\"y\",\"type\":\"scatter\"},{\"hovertemplate\":\"county_99=pocahontas<br>yeer=%{x}<br>value=%{y}<extra></extra>\",\"legendgroup\":\"pocahontas\",\"line\":{\"color\":\"#FFA15A\",\"dash\":\"solid\"},\"marker\":{\"symbol\":\"circle\"},\"mode\":\"lines\",\"name\":\"pocahontas\",\"orientation\":\"v\",\"showlegend\":true,\"x\":[2012.0,2013.0,2014.0,2015.0,2016.0,2017.0],\"xaxis\":\"x\",\"y\":[47.25995100097998,47.53613467730646,47.23132717345653,45.830936581268375,42.50592608147837,22.846073078538428],\"yaxis\":\"y\",\"type\":\"scatter\"},{\"hovertemplate\":\"county_99=warren<br>yeer=%{x}<br>value=%{y}<extra></extra>\",\"legendgroup\":\"warren\",\"line\":{\"color\":\"#19d3f3\",\"dash\":\"solid\"},\"marker\":{\"symbol\":\"circle\"},\"mode\":\"lines\",\"name\":\"warren\",\"orientation\":\"v\",\"showlegend\":true,\"x\":[2012.0,2013.0,2014.0,2015.0,2016.0,2017.0],\"xaxis\":\"x\",\"y\":[40.01498891399821,41.43311943035006,43.66781477849316,50.107987677482626,42.976082377521,31.721616424338038],\"yaxis\":\"y\",\"type\":\"scatter\"},{\"hovertemplate\":\"county_99=greene<br>yeer=%{x}<br>value=%{y}<extra></extra>\",\"legendgroup\":\"greene\",\"line\":{\"color\":\"#FF6692\",\"dash\":\"solid\"},\"marker\":{\"symbol\":\"circle\"},\"mode\":\"lines\",\"name\":\"greene\",\"orientation\":\"v\",\"showlegend\":true,\"x\":[2012.0,2013.0,2014.0,2015.0,2016.0,2017.0],\"xaxis\":\"x\",\"y\":[32.977693061757975,33.1990349635116,36.786356606034204,63.55236902298225,51.39656464437425,30.597110336564644],\"yaxis\":\"y\",\"type\":\"scatter\"},{\"hovertemplate\":\"county_99=lucas<br>yeer=%{x}<br>value=%{y}<extra></extra>\",\"legendgroup\":\"lucas\",\"line\":{\"color\":\"#B6E880\",\"dash\":\"solid\"},\"marker\":{\"symbol\":\"circle\"},\"mode\":\"lines\",\"name\":\"lucas\",\"orientation\":\"v\",\"showlegend\":true,\"x\":[2012.0,2013.0,2014.0,2015.0,2016.0,2017.0],\"xaxis\":\"x\",\"y\":[30.694828529110175,39.36484447989062,47.49773726785918,47.29053890851088,45.12191751167825,32.35016748319472],\"yaxis\":\"y\",\"type\":\"scatter\"},{\"hovertemplate\":\"county_99=madison<br>yeer=%{x}<br>value=%{y}<extra></extra>\",\"legendgroup\":\"madison\",\"line\":{\"color\":\"#FF97FF\",\"dash\":\"solid\"},\"marker\":{\"symbol\":\"circle\"},\"mode\":\"lines\",\"name\":\"madison\",\"orientation\":\"v\",\"showlegend\":true,\"x\":[2012.0,2013.0,2014.0,2015.0,2016.0,2017.0],\"xaxis\":\"x\",\"y\":[36.13607327834261,37.73963041115161,38.116228659121425,48.999698190421384,46.621735405077054,30.863053903702284],\"yaxis\":\"y\",\"type\":\"scatter\"},{\"hovertemplate\":\"county_99=franklin<br>yeer=%{x}<br>value=%{y}<extra></extra>\",\"legendgroup\":\"franklin\",\"line\":{\"color\":\"#FECB52\",\"dash\":\"solid\"},\"marker\":{\"symbol\":\"circle\"},\"mode\":\"lines\",\"name\":\"franklin\",\"orientation\":\"v\",\"showlegend\":true,\"x\":[2012.0,2013.0,2014.0,2015.0,2016.0,2017.0],\"xaxis\":\"x\",\"y\":[47.30576363117328,44.1529964792083,45.99302788086402,46.50395660862118,27.315806451612904,25.631027690550955],\"yaxis\":\"y\",\"type\":\"scatter\"},{\"hovertemplate\":\"county_99=mahaska<br>yeer=%{x}<br>value=%{y}<extra></extra>\",\"legendgroup\":\"mahaska\",\"line\":{\"color\":\"#636efa\",\"dash\":\"solid\"},\"marker\":{\"symbol\":\"circle\"},\"mode\":\"lines\",\"name\":\"mahaska\",\"orientation\":\"v\",\"showlegend\":true,\"x\":[2012.0,2013.0,2014.0,2015.0,2016.0,2017.0],\"xaxis\":\"x\",\"y\":[40.524897576650154,40.90087472664792,42.3780925603606,42.963662694693625,38.82770875172937,28.517282545633062],\"yaxis\":\"y\",\"type\":\"scatter\"},{\"hovertemplate\":\"county_99=sioux<br>yeer=%{x}<br>value=%{y}<extra></extra>\",\"legendgroup\":\"sioux\",\"line\":{\"color\":\"#EF553B\",\"dash\":\"solid\"},\"marker\":{\"symbol\":\"circle\"},\"mode\":\"lines\",\"name\":\"sioux\",\"orientation\":\"v\",\"showlegend\":true,\"x\":[2012.0,2013.0,2014.0,2015.0,2016.0,2017.0],\"xaxis\":\"x\",\"y\":[39.68360757094112,43.10101286126746,41.55284260258392,43.8157446994663,37.56588818571554,25.059211408906645],\"yaxis\":\"y\",\"type\":\"scatter\"},{\"hovertemplate\":\"county_99=mitchell<br>yeer=%{x}<br>value=%{y}<extra></extra>\",\"legendgroup\":\"mitchell\",\"line\":{\"color\":\"#00cc96\",\"dash\":\"solid\"},\"marker\":{\"symbol\":\"circle\"},\"mode\":\"lines\",\"name\":\"mitchell\",\"orientation\":\"v\",\"showlegend\":true,\"x\":[2012.0,2013.0,2014.0,2015.0,2016.0,2017.0],\"xaxis\":\"x\",\"y\":[40.4773613963039,41.701521373903304,41.25726059361583,40.824045174537986,38.840350009333584,24.140370543214484],\"yaxis\":\"y\",\"type\":\"scatter\"},{\"hovertemplate\":\"county_99=osceola<br>yeer=%{x}<br>value=%{y}<extra></extra>\",\"legendgroup\":\"osceola\",\"line\":{\"color\":\"#ab63fa\",\"dash\":\"solid\"},\"marker\":{\"symbol\":\"circle\"},\"mode\":\"lines\",\"name\":\"osceola\",\"orientation\":\"v\",\"showlegend\":true,\"x\":[2012.0,2013.0,2014.0,2015.0,2016.0,2017.0],\"xaxis\":\"x\",\"y\":[35.45655489279381,35.62596646783814,38.46429630823795,41.912821215540866,36.61244559084314,26.39419796872481],\"yaxis\":\"y\",\"type\":\"scatter\"},{\"hovertemplate\":\"county_99=monroe<br>yeer=%{x}<br>value=%{y}<extra></extra>\",\"legendgroup\":\"monroe\",\"line\":{\"color\":\"#FFA15A\",\"dash\":\"solid\"},\"marker\":{\"symbol\":\"circle\"},\"mode\":\"lines\",\"name\":\"monroe\",\"orientation\":\"v\",\"showlegend\":true,\"x\":[2012.0,2013.0,2014.0,2015.0,2016.0,2017.0],\"xaxis\":\"x\",\"y\":[36.14011400247831,33.77169640644362,36.345861214374224,38.50710656753407,38.51381288723668,28.272757125154893],\"yaxis\":\"y\",\"type\":\"scatter\"},{\"hovertemplate\":\"county_99=clayton<br>yeer=%{x}<br>value=%{y}<extra></extra>\",\"legendgroup\":\"clayton\",\"line\":{\"color\":\"#19d3f3\",\"dash\":\"solid\"},\"marker\":{\"symbol\":\"circle\"},\"mode\":\"lines\",\"name\":\"clayton\",\"orientation\":\"v\",\"showlegend\":true,\"x\":[2012.0,2013.0,2014.0,2015.0,2016.0,2017.0],\"xaxis\":\"x\",\"y\":[28.32469994985234,30.315656655708477,38.269305176352596,39.13108653256812,35.08725246559314,25.75029754276481],\"yaxis\":\"y\",\"type\":\"scatter\"},{\"hovertemplate\":\"county_99=tama<br>yeer=%{x}<br>value=%{y}<extra></extra>\",\"legendgroup\":\"tama\",\"line\":{\"color\":\"#FF6692\",\"dash\":\"solid\"},\"marker\":{\"symbol\":\"circle\"},\"mode\":\"lines\",\"name\":\"tama\",\"orientation\":\"v\",\"showlegend\":true,\"x\":[2012.0,2013.0,2014.0,2015.0,2016.0,2017.0],\"xaxis\":\"x\",\"y\":[30.580218285714285,31.773536,34.077073142857145,36.48316571428571,35.79761371428572,24.278326285714286],\"yaxis\":\"y\",\"type\":\"scatter\"},{\"hovertemplate\":\"county_99=calhoun<br>yeer=%{x}<br>value=%{y}<extra></extra>\",\"legendgroup\":\"calhoun\",\"line\":{\"color\":\"#B6E880\",\"dash\":\"solid\"},\"marker\":{\"symbol\":\"circle\"},\"mode\":\"lines\",\"name\":\"calhoun\",\"orientation\":\"v\",\"showlegend\":true,\"x\":[2012.0,2013.0,2014.0,2015.0,2016.0,2017.0],\"xaxis\":\"x\",\"y\":[36.18011501210654,33.9575292574657,33.13572134786118,32.54571731234867,30.704103107344633,21.533393866020983],\"yaxis\":\"y\",\"type\":\"scatter\"},{\"hovertemplate\":\"county_99=harrison<br>yeer=%{x}<br>value=%{y}<extra></extra>\",\"legendgroup\":\"harrison\",\"line\":{\"color\":\"#FF97FF\",\"dash\":\"solid\"},\"marker\":{\"symbol\":\"circle\"},\"mode\":\"lines\",\"name\":\"harrison\",\"orientation\":\"v\",\"showlegend\":true,\"x\":[2012.0,2013.0,2014.0,2015.0,2016.0,2017.0],\"xaxis\":\"x\",\"y\":[32.37479204090093,30.587206715489845,30.499082492745615,35.05809727787757,22.061926212519,22.929332596379716],\"yaxis\":\"y\",\"type\":\"scatter\"},{\"hovertemplate\":\"county_99=worth<br>yeer=%{x}<br>value=%{y}<extra></extra>\",\"legendgroup\":\"worth\",\"line\":{\"color\":\"#FECB52\",\"dash\":\"solid\"},\"marker\":{\"symbol\":\"circle\"},\"mode\":\"lines\",\"name\":\"worth\",\"orientation\":\"v\",\"showlegend\":true,\"x\":[2012.0,2013.0,2014.0,2015.0,2016.0,2017.0],\"xaxis\":\"x\",\"y\":[22.197754503002002,28.907472981987993,31.754205470313543,34.5452368245497,28.32783855903936,22.68783589059373],\"yaxis\":\"y\",\"type\":\"scatter\"},{\"hovertemplate\":\"county_99=mills<br>yeer=%{x}<br>value=%{y}<extra></extra>\",\"legendgroup\":\"mills\",\"line\":{\"color\":\"#636efa\",\"dash\":\"solid\"},\"marker\":{\"symbol\":\"circle\"},\"mode\":\"lines\",\"name\":\"mills\",\"orientation\":\"v\",\"showlegend\":true,\"x\":[2012.0,2013.0,2014.0,2015.0,2016.0,2017.0],\"xaxis\":\"x\",\"y\":[27.445701895925776,30.031493881941643,28.483943122226705,29.37166061583972,28.70989982519833,23.982701358074493],\"yaxis\":\"y\",\"type\":\"scatter\"},{\"hovertemplate\":\"county_99=chickasaw<br>yeer=%{x}<br>value=%{y}<extra></extra>\",\"legendgroup\":\"chickasaw\",\"line\":{\"color\":\"#EF553B\",\"dash\":\"solid\"},\"marker\":{\"symbol\":\"circle\"},\"mode\":\"lines\",\"name\":\"chickasaw\",\"orientation\":\"v\",\"showlegend\":true,\"x\":[2012.0,2013.0,2014.0,2015.0,2016.0,2017.0],\"xaxis\":\"x\",\"y\":[31.313108470990315,29.008304174464968,30.965853202050614,30.88403368866466,24.02314590283994,13.789746928147123],\"yaxis\":\"y\",\"type\":\"scatter\"},{\"hovertemplate\":\"county_99=ringgold<br>yeer=%{x}<br>value=%{y}<extra></extra>\",\"legendgroup\":\"ringgold\",\"line\":{\"color\":\"#00cc96\",\"dash\":\"solid\"},\"marker\":{\"symbol\":\"circle\"},\"mode\":\"lines\",\"name\":\"ringgold\",\"orientation\":\"v\",\"showlegend\":true,\"x\":[2012.0,2013.0,2014.0,2015.0,2016.0,2017.0],\"xaxis\":\"x\",\"y\":[25.995916417910447,28.091986069651742,28.32417313432836,27.598171144278606,28.568985074626866,20.475084577114426],\"yaxis\":\"y\",\"type\":\"scatter\"},{\"hovertemplate\":\"county_99=benton<br>yeer=%{x}<br>value=%{y}<extra></extra>\",\"legendgroup\":\"benton\",\"line\":{\"color\":\"#ab63fa\",\"dash\":\"solid\"},\"marker\":{\"symbol\":\"circle\"},\"mode\":\"lines\",\"name\":\"benton\",\"orientation\":\"v\",\"showlegend\":true,\"x\":[2012.0,2013.0,2014.0,2015.0,2016.0,2017.0],\"xaxis\":\"x\",\"y\":[24.80503503813543,26.63666653761276,27.039540826203105,28.110873436834567,25.577354911146386,17.782575012582758],\"yaxis\":\"y\",\"type\":\"scatter\"},{\"hovertemplate\":\"county_99=cedar<br>yeer=%{x}<br>value=%{y}<extra></extra>\",\"legendgroup\":\"cedar\",\"line\":{\"color\":\"#FFA15A\",\"dash\":\"solid\"},\"marker\":{\"symbol\":\"circle\"},\"mode\":\"lines\",\"name\":\"cedar\",\"orientation\":\"v\",\"showlegend\":true,\"x\":[2012.0,2013.0,2014.0,2015.0,2016.0,2017.0],\"xaxis\":\"x\",\"y\":[23.78392917645773,25.91605552215968,27.628429968850757,28.886586152248757,25.109250778731077,16.743759768293348],\"yaxis\":\"y\",\"type\":\"scatter\"},{\"hovertemplate\":\"county_99=guthrie<br>yeer=%{x}<br>value=%{y}<extra></extra>\",\"legendgroup\":\"guthrie\",\"line\":{\"color\":\"#19d3f3\",\"dash\":\"solid\"},\"marker\":{\"symbol\":\"circle\"},\"mode\":\"lines\",\"name\":\"guthrie\",\"orientation\":\"v\",\"showlegend\":true,\"x\":[2012.0,2013.0,2014.0,2015.0,2016.0,2017.0],\"xaxis\":\"x\",\"y\":[26.084097325408617,24.607185178306093,25.25479661961367,27.44924498514116,26.07442514858841,18.021263930163446],\"yaxis\":\"y\",\"type\":\"scatter\"},{\"hovertemplate\":\"county_99=hancock<br>yeer=%{x}<br>value=%{y}<extra></extra>\",\"legendgroup\":\"hancock\",\"line\":{\"color\":\"#FF6692\",\"dash\":\"solid\"},\"marker\":{\"symbol\":\"circle\"},\"mode\":\"lines\",\"name\":\"hancock\",\"orientation\":\"v\",\"showlegend\":true,\"x\":[2012.0,2013.0,2014.0,2015.0,2016.0,2017.0],\"xaxis\":\"x\",\"y\":[22.975957960644006,23.582638640429337,24.317959749552774,27.58486046511628,27.355764758497315,20.92495259391771],\"yaxis\":\"y\",\"type\":\"scatter\"},{\"hovertemplate\":\"county_99=audubon<br>yeer=%{x}<br>value=%{y}<extra></extra>\",\"legendgroup\":\"audubon\",\"line\":{\"color\":\"#B6E880\",\"dash\":\"solid\"},\"marker\":{\"symbol\":\"circle\"},\"mode\":\"lines\",\"name\":\"audubon\",\"orientation\":\"v\",\"showlegend\":true,\"x\":[2012.0,2013.0,2014.0,2015.0,2016.0,2017.0],\"xaxis\":\"x\",\"y\":[27.909406244668144,27.644306432349428,28.68343286128647,29.662042313598363,21.81529773076267,10.385705511004948],\"yaxis\":\"y\",\"type\":\"scatter\"},{\"hovertemplate\":\"county_99=van buren<br>yeer=%{x}<br>value=%{y}<extra></extra>\",\"legendgroup\":\"van buren\",\"line\":{\"color\":\"#FF97FF\",\"dash\":\"solid\"},\"marker\":{\"symbol\":\"circle\"},\"mode\":\"lines\",\"name\":\"van buren\",\"orientation\":\"v\",\"showlegend\":true,\"x\":[2012.0,2013.0,2014.0,2015.0,2016.0,2017.0],\"xaxis\":\"x\",\"y\":[25.488786414283798,24.931737145925627,24.099432138542085,23.391823063498457,25.186290777285542,14.865451738488387],\"yaxis\":\"y\",\"type\":\"scatter\"},{\"hovertemplate\":\"county_99=grundy<br>yeer=%{x}<br>value=%{y}<extra></extra>\",\"legendgroup\":\"grundy\",\"line\":{\"color\":\"#FECB52\",\"dash\":\"solid\"},\"marker\":{\"symbol\":\"circle\"},\"mode\":\"lines\",\"name\":\"grundy\",\"orientation\":\"v\",\"showlegend\":true,\"x\":[2012.0,2013.0,2014.0,2015.0,2016.0,2017.0],\"xaxis\":\"x\",\"y\":[23.939846425986975,23.153840154378067,22.27039318163544,24.3056838465868,24.03656267588647,14.97107501809118],\"yaxis\":\"y\",\"type\":\"scatter\"},{\"hovertemplate\":\"county_99=adams<br>yeer=%{x}<br>value=%{y}<extra></extra>\",\"legendgroup\":\"adams\",\"line\":{\"color\":\"#636efa\",\"dash\":\"solid\"},\"marker\":{\"symbol\":\"circle\"},\"mode\":\"lines\",\"name\":\"adams\",\"orientation\":\"v\",\"showlegend\":true,\"x\":[2012.0,2013.0,2014.0,2015.0,2016.0,2017.0],\"xaxis\":\"x\",\"y\":[24.7250358056266,23.346864450127878,23.151974424552428,25.728081841432225,19.199736572890025,11.276355498721228],\"yaxis\":\"y\",\"type\":\"scatter\"},{\"hovertemplate\":\"county_99=decatur<br>yeer=%{x}<br>value=%{y}<extra></extra>\",\"legendgroup\":\"decatur\",\"line\":{\"color\":\"#EF553B\",\"dash\":\"solid\"},\"marker\":{\"symbol\":\"circle\"},\"mode\":\"lines\",\"name\":\"decatur\",\"orientation\":\"v\",\"showlegend\":true,\"x\":[2012.0,2013.0,2014.0,2015.0,2016.0,2017.0],\"xaxis\":\"x\",\"y\":[18.52484649921126,20.406154592889212,20.420387088945517,21.535114670549692,18.14936172794564,12.327675039436961],\"yaxis\":\"y\",\"type\":\"scatter\"},{\"hovertemplate\":\"county_99=louisa<br>yeer=%{x}<br>value=%{y}<extra></extra>\",\"legendgroup\":\"louisa\",\"line\":{\"color\":\"#00cc96\",\"dash\":\"solid\"},\"marker\":{\"symbol\":\"circle\"},\"mode\":\"lines\",\"name\":\"louisa\",\"orientation\":\"v\",\"showlegend\":true,\"x\":[2012.0,2013.0,2014.0,2015.0,2016.0,2017.0],\"xaxis\":\"x\",\"y\":[20.988051742344243,20.42364132347765,20.803434530095036,20.453005103836677,13.663718760999648,10.819295142555438],\"yaxis\":\"y\",\"type\":\"scatter\"},{\"hovertemplate\":\"county_99=butler<br>yeer=%{x}<br>value=%{y}<extra></extra>\",\"legendgroup\":\"butler\",\"line\":{\"color\":\"#ab63fa\",\"dash\":\"solid\"},\"marker\":{\"symbol\":\"circle\"},\"mode\":\"lines\",\"name\":\"butler\",\"orientation\":\"v\",\"showlegend\":true,\"x\":[2012.0,2013.0,2014.0,2015.0,2016.0,2017.0],\"xaxis\":\"x\",\"y\":[15.000864947902752,16.164878439754208,18.15472214800962,18.910816190221748,18.755505610472884,13.093126502805237],\"yaxis\":\"y\",\"type\":\"scatter\"},{\"hovertemplate\":\"county_99=taylor<br>yeer=%{x}<br>value=%{y}<extra></extra>\",\"legendgroup\":\"taylor\",\"line\":{\"color\":\"#FFA15A\",\"dash\":\"solid\"},\"marker\":{\"symbol\":\"circle\"},\"mode\":\"lines\",\"name\":\"taylor\",\"orientation\":\"v\",\"showlegend\":true,\"x\":[2012.0,2013.0,2014.0,2015.0,2016.0,2017.0],\"xaxis\":\"x\",\"y\":[15.915280396229429,16.269875379453588,15.663609202748043,17.670290781274964,18.236977152899826,9.434294615753315],\"yaxis\":\"y\",\"type\":\"scatter\"},{\"hovertemplate\":\"county_99=wayne<br>yeer=%{x}<br>value=%{y}<extra></extra>\",\"legendgroup\":\"wayne\",\"line\":{\"color\":\"#19d3f3\",\"dash\":\"solid\"},\"marker\":{\"symbol\":\"circle\"},\"mode\":\"lines\",\"name\":\"wayne\",\"orientation\":\"v\",\"showlegend\":true,\"x\":[2012.0,2013.0,2014.0,2015.0,2016.0,2017.0],\"xaxis\":\"x\",\"y\":[25.554773265918787,13.440535629641333,11.061929214725865,16.659559172065098,14.0675272554906,11.04527887501975],\"yaxis\":\"y\",\"type\":\"scatter\"},{\"hovertemplate\":\"county_99=keokuk<br>yeer=%{x}<br>value=%{y}<extra></extra>\",\"legendgroup\":\"keokuk\",\"line\":{\"color\":\"#FF6692\",\"dash\":\"solid\"},\"marker\":{\"symbol\":\"circle\"},\"mode\":\"lines\",\"name\":\"keokuk\",\"orientation\":\"v\",\"showlegend\":true,\"x\":[2012.0,2013.0,2014.0,2015.0,2016.0,2017.0],\"xaxis\":\"x\",\"y\":[11.814777980243598,13.704160352929893,14.026338352354465,14.343606022825357,8.979899299894505,7.62729740097823],\"yaxis\":\"y\",\"type\":\"scatter\"},{\"hovertemplate\":\"county_99=davis<br>yeer=%{x}<br>value=%{y}<extra></extra>\",\"legendgroup\":\"davis\",\"line\":{\"color\":\"#B6E880\",\"dash\":\"solid\"},\"marker\":{\"symbol\":\"circle\"},\"mode\":\"lines\",\"name\":\"davis\",\"orientation\":\"v\",\"showlegend\":true,\"x\":[2012.0,2013.0,2014.0,2015.0,2016.0,2017.0],\"xaxis\":\"x\",\"y\":[9.933044227455486,10.759438253877082,11.255059161401494,11.049507179781735,10.713743825387708,7.355573808156232],\"yaxis\":\"y\",\"type\":\"scatter\"},{\"hovertemplate\":\"county_99=fremont<br>yeer=%{x}<br>value=%{y}<extra></extra>\",\"legendgroup\":\"fremont\",\"line\":{\"color\":\"#FF97FF\",\"dash\":\"solid\"},\"marker\":{\"symbol\":\"circle\"},\"mode\":\"lines\",\"name\":\"fremont\",\"orientation\":\"v\",\"showlegend\":true,\"x\":[2012.0,2013.0,2014.0,2015.0,2016.0,2017.0],\"xaxis\":\"x\",\"y\":[2.632155462184874,3.5310084033613447,1.5727394957983194,3.365483193277311,4.194343137254902,4.306429971988796],\"yaxis\":\"y\",\"type\":\"scatter\"}],                        {\"template\":{\"data\":{\"bar\":[{\"error_x\":{\"color\":\"#2a3f5f\"},\"error_y\":{\"color\":\"#2a3f5f\"},\"marker\":{\"line\":{\"color\":\"#E5ECF6\",\"width\":0.5},\"pattern\":{\"fillmode\":\"overlay\",\"size\":10,\"solidity\":0.2}},\"type\":\"bar\"}],\"barpolar\":[{\"marker\":{\"line\":{\"color\":\"#E5ECF6\",\"width\":0.5},\"pattern\":{\"fillmode\":\"overlay\",\"size\":10,\"solidity\":0.2}},\"type\":\"barpolar\"}],\"carpet\":[{\"aaxis\":{\"endlinecolor\":\"#2a3f5f\",\"gridcolor\":\"white\",\"linecolor\":\"white\",\"minorgridcolor\":\"white\",\"startlinecolor\":\"#2a3f5f\"},\"baxis\":{\"endlinecolor\":\"#2a3f5f\",\"gridcolor\":\"white\",\"linecolor\":\"white\",\"minorgridcolor\":\"white\",\"startlinecolor\":\"#2a3f5f\"},\"type\":\"carpet\"}],\"choropleth\":[{\"colorbar\":{\"outlinewidth\":0,\"ticks\":\"\"},\"type\":\"choropleth\"}],\"contour\":[{\"colorbar\":{\"outlinewidth\":0,\"ticks\":\"\"},\"colorscale\":[[0.0,\"#0d0887\"],[0.1111111111111111,\"#46039f\"],[0.2222222222222222,\"#7201a8\"],[0.3333333333333333,\"#9c179e\"],[0.4444444444444444,\"#bd3786\"],[0.5555555555555556,\"#d8576b\"],[0.6666666666666666,\"#ed7953\"],[0.7777777777777778,\"#fb9f3a\"],[0.8888888888888888,\"#fdca26\"],[1.0,\"#f0f921\"]],\"type\":\"contour\"}],\"contourcarpet\":[{\"colorbar\":{\"outlinewidth\":0,\"ticks\":\"\"},\"type\":\"contourcarpet\"}],\"heatmap\":[{\"colorbar\":{\"outlinewidth\":0,\"ticks\":\"\"},\"colorscale\":[[0.0,\"#0d0887\"],[0.1111111111111111,\"#46039f\"],[0.2222222222222222,\"#7201a8\"],[0.3333333333333333,\"#9c179e\"],[0.4444444444444444,\"#bd3786\"],[0.5555555555555556,\"#d8576b\"],[0.6666666666666666,\"#ed7953\"],[0.7777777777777778,\"#fb9f3a\"],[0.8888888888888888,\"#fdca26\"],[1.0,\"#f0f921\"]],\"type\":\"heatmap\"}],\"heatmapgl\":[{\"colorbar\":{\"outlinewidth\":0,\"ticks\":\"\"},\"colorscale\":[[0.0,\"#0d0887\"],[0.1111111111111111,\"#46039f\"],[0.2222222222222222,\"#7201a8\"],[0.3333333333333333,\"#9c179e\"],[0.4444444444444444,\"#bd3786\"],[0.5555555555555556,\"#d8576b\"],[0.6666666666666666,\"#ed7953\"],[0.7777777777777778,\"#fb9f3a\"],[0.8888888888888888,\"#fdca26\"],[1.0,\"#f0f921\"]],\"type\":\"heatmapgl\"}],\"histogram\":[{\"marker\":{\"pattern\":{\"fillmode\":\"overlay\",\"size\":10,\"solidity\":0.2}},\"type\":\"histogram\"}],\"histogram2d\":[{\"colorbar\":{\"outlinewidth\":0,\"ticks\":\"\"},\"colorscale\":[[0.0,\"#0d0887\"],[0.1111111111111111,\"#46039f\"],[0.2222222222222222,\"#7201a8\"],[0.3333333333333333,\"#9c179e\"],[0.4444444444444444,\"#bd3786\"],[0.5555555555555556,\"#d8576b\"],[0.6666666666666666,\"#ed7953\"],[0.7777777777777778,\"#fb9f3a\"],[0.8888888888888888,\"#fdca26\"],[1.0,\"#f0f921\"]],\"type\":\"histogram2d\"}],\"histogram2dcontour\":[{\"colorbar\":{\"outlinewidth\":0,\"ticks\":\"\"},\"colorscale\":[[0.0,\"#0d0887\"],[0.1111111111111111,\"#46039f\"],[0.2222222222222222,\"#7201a8\"],[0.3333333333333333,\"#9c179e\"],[0.4444444444444444,\"#bd3786\"],[0.5555555555555556,\"#d8576b\"],[0.6666666666666666,\"#ed7953\"],[0.7777777777777778,\"#fb9f3a\"],[0.8888888888888888,\"#fdca26\"],[1.0,\"#f0f921\"]],\"type\":\"histogram2dcontour\"}],\"mesh3d\":[{\"colorbar\":{\"outlinewidth\":0,\"ticks\":\"\"},\"type\":\"mesh3d\"}],\"parcoords\":[{\"line\":{\"colorbar\":{\"outlinewidth\":0,\"ticks\":\"\"}},\"type\":\"parcoords\"}],\"pie\":[{\"automargin\":true,\"type\":\"pie\"}],\"scatter\":[{\"marker\":{\"colorbar\":{\"outlinewidth\":0,\"ticks\":\"\"}},\"type\":\"scatter\"}],\"scatter3d\":[{\"line\":{\"colorbar\":{\"outlinewidth\":0,\"ticks\":\"\"}},\"marker\":{\"colorbar\":{\"outlinewidth\":0,\"ticks\":\"\"}},\"type\":\"scatter3d\"}],\"scattercarpet\":[{\"marker\":{\"colorbar\":{\"outlinewidth\":0,\"ticks\":\"\"}},\"type\":\"scattercarpet\"}],\"scattergeo\":[{\"marker\":{\"colorbar\":{\"outlinewidth\":0,\"ticks\":\"\"}},\"type\":\"scattergeo\"}],\"scattergl\":[{\"marker\":{\"colorbar\":{\"outlinewidth\":0,\"ticks\":\"\"}},\"type\":\"scattergl\"}],\"scattermapbox\":[{\"marker\":{\"colorbar\":{\"outlinewidth\":0,\"ticks\":\"\"}},\"type\":\"scattermapbox\"}],\"scatterpolar\":[{\"marker\":{\"colorbar\":{\"outlinewidth\":0,\"ticks\":\"\"}},\"type\":\"scatterpolar\"}],\"scatterpolargl\":[{\"marker\":{\"colorbar\":{\"outlinewidth\":0,\"ticks\":\"\"}},\"type\":\"scatterpolargl\"}],\"scatterternary\":[{\"marker\":{\"colorbar\":{\"outlinewidth\":0,\"ticks\":\"\"}},\"type\":\"scatterternary\"}],\"surface\":[{\"colorbar\":{\"outlinewidth\":0,\"ticks\":\"\"},\"colorscale\":[[0.0,\"#0d0887\"],[0.1111111111111111,\"#46039f\"],[0.2222222222222222,\"#7201a8\"],[0.3333333333333333,\"#9c179e\"],[0.4444444444444444,\"#bd3786\"],[0.5555555555555556,\"#d8576b\"],[0.6666666666666666,\"#ed7953\"],[0.7777777777777778,\"#fb9f3a\"],[0.8888888888888888,\"#fdca26\"],[1.0,\"#f0f921\"]],\"type\":\"surface\"}],\"table\":[{\"cells\":{\"fill\":{\"color\":\"#EBF0F8\"},\"line\":{\"color\":\"white\"}},\"header\":{\"fill\":{\"color\":\"#C8D4E3\"},\"line\":{\"color\":\"white\"}},\"type\":\"table\"}]},\"layout\":{\"annotationdefaults\":{\"arrowcolor\":\"#2a3f5f\",\"arrowhead\":0,\"arrowwidth\":1},\"autotypenumbers\":\"strict\",\"coloraxis\":{\"colorbar\":{\"outlinewidth\":0,\"ticks\":\"\"}},\"colorscale\":{\"diverging\":[[0,\"#8e0152\"],[0.1,\"#c51b7d\"],[0.2,\"#de77ae\"],[0.3,\"#f1b6da\"],[0.4,\"#fde0ef\"],[0.5,\"#f7f7f7\"],[0.6,\"#e6f5d0\"],[0.7,\"#b8e186\"],[0.8,\"#7fbc41\"],[0.9,\"#4d9221\"],[1,\"#276419\"]],\"sequential\":[[0.0,\"#0d0887\"],[0.1111111111111111,\"#46039f\"],[0.2222222222222222,\"#7201a8\"],[0.3333333333333333,\"#9c179e\"],[0.4444444444444444,\"#bd3786\"],[0.5555555555555556,\"#d8576b\"],[0.6666666666666666,\"#ed7953\"],[0.7777777777777778,\"#fb9f3a\"],[0.8888888888888888,\"#fdca26\"],[1.0,\"#f0f921\"]],\"sequentialminus\":[[0.0,\"#0d0887\"],[0.1111111111111111,\"#46039f\"],[0.2222222222222222,\"#7201a8\"],[0.3333333333333333,\"#9c179e\"],[0.4444444444444444,\"#bd3786\"],[0.5555555555555556,\"#d8576b\"],[0.6666666666666666,\"#ed7953\"],[0.7777777777777778,\"#fb9f3a\"],[0.8888888888888888,\"#fdca26\"],[1.0,\"#f0f921\"]]},\"colorway\":[\"#636efa\",\"#EF553B\",\"#00cc96\",\"#ab63fa\",\"#FFA15A\",\"#19d3f3\",\"#FF6692\",\"#B6E880\",\"#FF97FF\",\"#FECB52\"],\"font\":{\"color\":\"#2a3f5f\"},\"geo\":{\"bgcolor\":\"white\",\"lakecolor\":\"white\",\"landcolor\":\"#E5ECF6\",\"showlakes\":true,\"showland\":true,\"subunitcolor\":\"white\"},\"hoverlabel\":{\"align\":\"left\"},\"hovermode\":\"closest\",\"mapbox\":{\"style\":\"light\"},\"paper_bgcolor\":\"white\",\"plot_bgcolor\":\"#E5ECF6\",\"polar\":{\"angularaxis\":{\"gridcolor\":\"white\",\"linecolor\":\"white\",\"ticks\":\"\"},\"bgcolor\":\"#E5ECF6\",\"radialaxis\":{\"gridcolor\":\"white\",\"linecolor\":\"white\",\"ticks\":\"\"}},\"scene\":{\"xaxis\":{\"backgroundcolor\":\"#E5ECF6\",\"gridcolor\":\"white\",\"gridwidth\":2,\"linecolor\":\"white\",\"showbackground\":true,\"ticks\":\"\",\"zerolinecolor\":\"white\"},\"yaxis\":{\"backgroundcolor\":\"#E5ECF6\",\"gridcolor\":\"white\",\"gridwidth\":2,\"linecolor\":\"white\",\"showbackground\":true,\"ticks\":\"\",\"zerolinecolor\":\"white\"},\"zaxis\":{\"backgroundcolor\":\"#E5ECF6\",\"gridcolor\":\"white\",\"gridwidth\":2,\"linecolor\":\"white\",\"showbackground\":true,\"ticks\":\"\",\"zerolinecolor\":\"white\"}},\"shapedefaults\":{\"line\":{\"color\":\"#2a3f5f\"}},\"ternary\":{\"aaxis\":{\"gridcolor\":\"white\",\"linecolor\":\"white\",\"ticks\":\"\"},\"baxis\":{\"gridcolor\":\"white\",\"linecolor\":\"white\",\"ticks\":\"\"},\"bgcolor\":\"#E5ECF6\",\"caxis\":{\"gridcolor\":\"white\",\"linecolor\":\"white\",\"ticks\":\"\"}},\"title\":{\"x\":0.05},\"xaxis\":{\"automargin\":true,\"gridcolor\":\"white\",\"linecolor\":\"white\",\"ticks\":\"\",\"title\":{\"standoff\":15},\"zerolinecolor\":\"white\",\"zerolinewidth\":2},\"yaxis\":{\"automargin\":true,\"gridcolor\":\"white\",\"linecolor\":\"white\",\"ticks\":\"\",\"title\":{\"standoff\":15},\"zerolinecolor\":\"white\",\"zerolinewidth\":2}}},\"xaxis\":{\"anchor\":\"y\",\"domain\":[0.0,1.0],\"title\":{\"text\":\"yeer\"}},\"yaxis\":{\"anchor\":\"x\",\"domain\":[0.0,1.0],\"title\":{\"text\":\"value\"},\"type\":\"log\"},\"legend\":{\"title\":{\"text\":\"county_99\"},\"tracegroupgap\":0},\"title\":{\"text\":\"Revenue Per Capita By County (Log Scale)\"}},                        {\"responsive\": true}                    ).then(function(){\n",
       "                            \n",
       "var gd = document.getElementById('51afc711-f721-44c3-b610-065f918467ab');\n",
       "var x = new MutationObserver(function (mutations, observer) {{\n",
       "        var display = window.getComputedStyle(gd).display;\n",
       "        if (!display || display === 'none') {{\n",
       "            console.log([gd, 'removed!']);\n",
       "            Plotly.purge(gd);\n",
       "            observer.disconnect();\n",
       "        }}\n",
       "}});\n",
       "\n",
       "// Listen for the removal of the full notebook cells\n",
       "var notebookContainer = gd.closest('#notebook-container');\n",
       "if (notebookContainer) {{\n",
       "    x.observe(notebookContainer, {childList: true});\n",
       "}}\n",
       "\n",
       "// Listen for the clearing of the current output cell\n",
       "var outputEl = gd.closest('.output');\n",
       "if (outputEl) {{\n",
       "    x.observe(outputEl, {childList: true});\n",
       "}}\n",
       "\n",
       "                        })                };                });            </script>        </div>"
      ]
     },
     "metadata": {},
     "output_type": "display_data"
    }
   ],
   "source": [
    "px.line(rbcy_percap_toplot, \n",
    "        line_group='county_99', color='county_99', \n",
    "        title='Revenue Per Capita By County (Log Scale)',\n",
    "        labels='county_99',\n",
    "        log_y=True\n",
    "    )"
   ]
  },
  {
   "cell_type": "markdown",
   "id": "05616077",
   "metadata": {},
   "source": [
    "### Profit by kind of liquor"
   ]
  },
  {
   "cell_type": "code",
   "execution_count": 394,
   "id": "64c69d26",
   "metadata": {},
   "outputs": [
    {
     "data": {
      "text/html": [
       "<div>\n",
       "<style scoped>\n",
       "    .dataframe tbody tr th:only-of-type {\n",
       "        vertical-align: middle;\n",
       "    }\n",
       "\n",
       "    .dataframe tbody tr th {\n",
       "        vertical-align: top;\n",
       "    }\n",
       "\n",
       "    .dataframe thead th {\n",
       "        text-align: right;\n",
       "    }\n",
       "</style>\n",
       "<table border=\"1\" class=\"dataframe\">\n",
       "  <thead>\n",
       "    <tr style=\"text-align: right;\">\n",
       "      <th></th>\n",
       "      <th>column_name</th>\n",
       "      <th>data_type</th>\n",
       "    </tr>\n",
       "  </thead>\n",
       "  <tbody>\n",
       "    <tr>\n",
       "      <th>0</th>\n",
       "      <td>state_btl_cost</td>\n",
       "      <td>numeric</td>\n",
       "    </tr>\n",
       "    <tr>\n",
       "      <th>1</th>\n",
       "      <td>state_btl_retail</td>\n",
       "      <td>numeric</td>\n",
       "    </tr>\n",
       "    <tr>\n",
       "      <th>2</th>\n",
       "      <td>county_number</td>\n",
       "      <td>bigint</td>\n",
       "    </tr>\n",
       "    <tr>\n",
       "      <th>3</th>\n",
       "      <td>date</td>\n",
       "      <td>date</td>\n",
       "    </tr>\n",
       "    <tr>\n",
       "      <th>4</th>\n",
       "      <td>btls_sold</td>\n",
       "      <td>integer</td>\n",
       "    </tr>\n",
       "    <tr>\n",
       "      <th>5</th>\n",
       "      <td>sale_ttl_usd</td>\n",
       "      <td>numeric</td>\n",
       "    </tr>\n",
       "    <tr>\n",
       "      <th>6</th>\n",
       "      <td>btl_vol_ml</td>\n",
       "      <td>integer</td>\n",
       "    </tr>\n",
       "    <tr>\n",
       "      <th>7</th>\n",
       "      <td>item_no</td>\n",
       "      <td>integer</td>\n",
       "    </tr>\n",
       "    <tr>\n",
       "      <th>8</th>\n",
       "      <td>vol_sold_gal</td>\n",
       "      <td>numeric</td>\n",
       "    </tr>\n",
       "    <tr>\n",
       "      <th>9</th>\n",
       "      <td>vol_sold_lt</td>\n",
       "      <td>numeric</td>\n",
       "    </tr>\n",
       "    <tr>\n",
       "      <th>10</th>\n",
       "      <td>pack_btl_ct</td>\n",
       "      <td>integer</td>\n",
       "    </tr>\n",
       "    <tr>\n",
       "      <th>11</th>\n",
       "      <td>vendor_name</td>\n",
       "      <td>character varying</td>\n",
       "    </tr>\n",
       "    <tr>\n",
       "      <th>12</th>\n",
       "      <td>vendor_no</td>\n",
       "      <td>character varying</td>\n",
       "    </tr>\n",
       "    <tr>\n",
       "      <th>13</th>\n",
       "      <td>address</td>\n",
       "      <td>character varying</td>\n",
       "    </tr>\n",
       "    <tr>\n",
       "      <th>14</th>\n",
       "      <td>zipcode</td>\n",
       "      <td>character varying</td>\n",
       "    </tr>\n",
       "    <tr>\n",
       "      <th>15</th>\n",
       "      <td>category</td>\n",
       "      <td>character varying</td>\n",
       "    </tr>\n",
       "    <tr>\n",
       "      <th>16</th>\n",
       "      <td>category_name</td>\n",
       "      <td>character varying</td>\n",
       "    </tr>\n",
       "    <tr>\n",
       "      <th>17</th>\n",
       "      <td>city</td>\n",
       "      <td>character varying</td>\n",
       "    </tr>\n",
       "    <tr>\n",
       "      <th>18</th>\n",
       "      <td>county</td>\n",
       "      <td>character varying</td>\n",
       "    </tr>\n",
       "    <tr>\n",
       "      <th>19</th>\n",
       "      <td>county_99</td>\n",
       "      <td>character varying</td>\n",
       "    </tr>\n",
       "    <tr>\n",
       "      <th>20</th>\n",
       "      <td>invoice_item_no</td>\n",
       "      <td>character varying</td>\n",
       "    </tr>\n",
       "    <tr>\n",
       "      <th>21</th>\n",
       "      <td>item_description</td>\n",
       "      <td>character varying</td>\n",
       "    </tr>\n",
       "    <tr>\n",
       "      <th>22</th>\n",
       "      <td>store_code</td>\n",
       "      <td>character varying</td>\n",
       "    </tr>\n",
       "    <tr>\n",
       "      <th>23</th>\n",
       "      <td>store_location</td>\n",
       "      <td>character varying</td>\n",
       "    </tr>\n",
       "    <tr>\n",
       "      <th>24</th>\n",
       "      <td>store_name</td>\n",
       "      <td>character varying</td>\n",
       "    </tr>\n",
       "  </tbody>\n",
       "</table>\n",
       "</div>"
      ],
      "text/plain": [
       "         column_name          data_type\n",
       "0     state_btl_cost            numeric\n",
       "1   state_btl_retail            numeric\n",
       "2      county_number             bigint\n",
       "3               date               date\n",
       "4          btls_sold            integer\n",
       "5       sale_ttl_usd            numeric\n",
       "6         btl_vol_ml            integer\n",
       "7            item_no            integer\n",
       "8       vol_sold_gal            numeric\n",
       "9        vol_sold_lt            numeric\n",
       "10       pack_btl_ct            integer\n",
       "11       vendor_name  character varying\n",
       "12         vendor_no  character varying\n",
       "13           address  character varying\n",
       "14           zipcode  character varying\n",
       "15          category  character varying\n",
       "16     category_name  character varying\n",
       "17              city  character varying\n",
       "18            county  character varying\n",
       "19         county_99  character varying\n",
       "20   invoice_item_no  character varying\n",
       "21  item_description  character varying\n",
       "22        store_code  character varying\n",
       "23    store_location  character varying\n",
       "24        store_name  character varying"
      ]
     },
     "execution_count": 394,
     "metadata": {},
     "output_type": "execute_result"
    }
   ],
   "source": [
    "data_types"
   ]
  },
  {
   "cell_type": "code",
   "execution_count": 395,
   "id": "60613460",
   "metadata": {},
   "outputs": [],
   "source": [
    "sql = \"\"\"\n",
    "SELECT DISTINCT category_name FROM iowaalcohol;\n",
    "\"\"\"\n",
    "category_names = pd.read_sql(sql, conn)"
   ]
  },
  {
   "cell_type": "code",
   "execution_count": 405,
   "id": "2d8f77bd",
   "metadata": {},
   "outputs": [
    {
     "name": "stdout",
     "output_type": "stream",
     "text": [
      "['100 PROOF VODKA', '100% Agave Tequila', 'AMARETTO - IMPORTED', 'AMERICAN ALCOHOL', 'AMERICAN AMARETTO', 'AMERICAN COCKTAILS', 'AMERICAN DRY GINS', 'AMERICAN GRAPE BRANDIES', 'AMERICAN SLOE GINS', 'ANISETTE', 'APPLE SCHNAPPS', 'APRICOT BRANDIES', 'Aged Dark Rum', 'American Brandies', 'American Cordials & Liqueur', 'American Cordials & Liqueurs', 'American Distilled Spirit Specialty', 'American Distilled Spirits Specialty', 'American Dry Gins', 'American Flavored Vodka', 'American Gins', 'American Schnapps', 'American Sloe Gins', 'American Vodka', 'American Vodkas', 'BARBADOS RUM', 'BLACKBERRY BRANDIES', 'BLENDED WHISKIES', 'BOTTLED IN BOND BOURBON', 'BUTTERSCOTCH SCHNAPPS', 'Blended Whiskies', 'Bottled in Bond Bourbon', 'CANADIAN WHISKIES', 'CHERRY BRANDIES', 'CINNAMON SCHNAPPS', 'COFFEE LIQUEURS', 'CORN WHISKIES', 'CREAM LIQUEURS', 'CREME DE ALMOND', 'Canadian Whiskies', 'Cocktails / RTD', 'Cocktails /RTD', 'Coffee Liqueurs', 'Corn Whiskies', 'Cream Liqueurs', 'DARK CREME DE CACAO', 'DECANTERS & SPECIALTY PACKAGES', 'DISTILLED SPIRITS SPECIALTY', 'Delisted Items', 'FLAVORED GINS', 'FLAVORED RUM', 'Flavored Gin', 'Flavored Rum', 'GRAPE SCHNAPPS', 'GREEN CREME DE MENTHE', 'Gold Rum', 'HIGH PROOF BEER - AMERICAN', 'Holiday VAP', 'IMPORTED AMARETTO', 'IMPORTED DRY GINS', 'IMPORTED GRAPE BRANDIES', 'IMPORTED SCHNAPPS', 'IMPORTED VODKA', 'IMPORTED VODKA - CHERRY', 'IMPORTED VODKA - MISC', 'IRISH WHISKIES', 'Imported Brandies', 'Imported Cordials & Liqueur', 'Imported Cordials & Liqueurs', 'Imported Distilled Spirit Specialty', 'Imported Distilled Spirits Specialty', 'Imported Dry Gins', 'Imported Flavored Vodka', 'Imported Schnapps', 'Imported Vodka', 'Imported Vodkas', 'Iowa Distilleries', 'Iowa Distillery Whiskies', 'Irish Whiskies', 'JAMAICA RUM', 'JAPANESE WHISKY', 'LOW PROOF VODKA', 'MISC. AMERICAN CORDIALS & LIQUEURS', 'MISC. IMPORTED CORDIALS & LIQUEURS', 'MISCELLANEOUS  BRANDIES', 'MISCELLANEOUS SCHNAPPS', 'Mezcal', 'Mixto Tequila', 'Neutral Grain Spirits', 'Neutral Grain Spirits Flavored', 'OTHER PROOF VODKA', 'PEACH BRANDIES', 'PEACH SCHNAPPS', 'PEPPERMINT SCHNAPPS', 'PUERTO RICO & VIRGIN ISLANDS RUM', 'RASPBERRY SCHNAPPS', 'ROCK & RYE', 'ROOT BEER SCHNAPPS', 'SCHNAPPS - IMPORTED', 'SCOTCH WHISKIES', 'SINGLE BARREL BOURBON WHISKIES', 'SINGLE MALT SCOTCH', 'SPEARMINT SCHNAPPS', 'SPICED RUM', 'STRAIGHT BOURBON WHISKIES', 'STRAIGHT RYE WHISKIES', 'STRAWBERRY SCHNAPPS', 'Scotch Whiskies', 'Single Barrel Bourbon Whiskies', 'Single Malt Scotch', 'Special Order Items', 'Spiced Rum', 'Straight Bourbon Whiskies', 'Straight Rye Whiskies', 'TENNESSEE WHISKIES', 'TEQUILA', 'TRIPLE SEC', 'TROPICAL FRUIT SCHNAPPS', 'Temporary &  Specialty Packages', 'Temporary & Specialty Packages', 'Tennessee Whiskies', 'Triple Sec', 'VODKA 80 PROOF', 'VODKA FLAVORED', 'WATERMELON SCHNAPPS', 'WHISKEY LIQUEUR', 'WHITE CREME DE CACAO', 'WHITE CREME DE MENTHE', 'Whiskey Liqueur', 'White Rum', None]\n"
     ]
    }
   ],
   "source": [
    "print(category_names.sort_values('category_name').category_name.tolist())"
   ]
  },
  {
   "cell_type": "code",
   "execution_count": 413,
   "id": "122feaa6",
   "metadata": {
    "code_folding": []
   },
   "outputs": [],
   "source": [
    "profit_by_kind = pd.read_sql(\"\"\"\n",
    "    SELECT\n",
    "        category_name,\n",
    "        DATE_PART('year', date) yeer,\n",
    "        SUM((state_btl_retail - state_btl_cost)*btls_sold) profit\n",
    "    FROM iowaalcohol\n",
    "    GROUP BY category_name, yeer\n",
    "    ORDER BY profit DESC\n",
    "    ;\"\"\", conn)"
   ]
  },
  {
   "cell_type": "code",
   "execution_count": 424,
   "id": "d13020dd",
   "metadata": {},
   "outputs": [],
   "source": [
    "profit_by_kind_agg = profit_by_kind.groupby('category_name').mean().profit.sort_values(ascending=False)"
   ]
  },
  {
   "cell_type": "code",
   "execution_count": 337,
   "id": "f94f3816",
   "metadata": {
    "code_folding": [
     1
    ]
   },
   "outputs": [],
   "source": [
    "# get dataframe ready to plot\n",
    "rbcy_percap_toplot = (revenue_percap_cty_yr\n",
    "    .set_index(['county_99', 'yeer'])\n",
    "    .unstack(0).droplevel(0,axis=1)\n",
    "    )\n",
    "rbcy_percap_sorted_cols = rbcy_percap_toplot.mean().sort_values(ascending=False).index.tolist()\n",
    "rbcy_percap_toplot = rbcy_percap_toplot.reindex(rbcy_percap_sorted_cols, axis=1)"
   ]
  },
  {
   "cell_type": "code",
   "execution_count": null,
   "id": "3d225e7e",
   "metadata": {
    "code_folding": [
     0
    ]
   },
   "outputs": [],
   "source": [
    "# plot with matplotlib\n",
    "fig, (ax0,ax1) = plt.subplots(1,2, figsize=(10,5))\n",
    "rbcy_percap_toplot.plot(legend=False, ax=ax0)\n",
    "rbcy_percap_toplot.plot(legend=False, ax=ax1)\n",
    "ax0.set_yscale('log')"
   ]
  },
  {
   "cell_type": "code",
   "execution_count": null,
   "id": "eee5da28",
   "metadata": {},
   "outputs": [],
   "source": [
    "px.line(rbcy_percap_toplot, \n",
    "        line_group='county_99', color='county_99', \n",
    "        title='Revenue Per Capita By County (Log Scale)',\n",
    "        labels='county_99',\n",
    "        log_y=True\n",
    "    )"
   ]
  },
  {
   "cell_type": "code",
   "execution_count": null,
   "id": "8d08f03f",
   "metadata": {},
   "outputs": [],
   "source": []
  }
 ],
 "metadata": {
  "kernelspec": {
   "display_name": "Python 3 (ipykernel)",
   "language": "python",
   "name": "python3"
  },
  "language_info": {
   "codemirror_mode": {
    "name": "ipython",
    "version": 3
   },
   "file_extension": ".py",
   "mimetype": "text/x-python",
   "name": "python",
   "nbconvert_exporter": "python",
   "pygments_lexer": "ipython3",
   "version": "3.9.7"
  }
 },
 "nbformat": 4,
 "nbformat_minor": 5
}
